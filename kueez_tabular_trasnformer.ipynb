{
  "nbformat": 4,
  "nbformat_minor": 0,
  "metadata": {
    "colab": {
      "provenance": [],
      "authorship_tag": "ABX9TyOTaPYXuzEtGRwK8XqVzLva",
      "include_colab_link": true
    },
    "kernelspec": {
      "name": "python3",
      "display_name": "Python 3"
    },
    "language_info": {
      "name": "python"
    },
    "gpuClass": "standard"
  },
  "cells": [
    {
      "cell_type": "markdown",
      "metadata": {
        "id": "view-in-github",
        "colab_type": "text"
      },
      "source": [
        "<a href=\"https://colab.research.google.com/github/argmaxml/acoustic_similarity_dashboard/blob/master/kueez_tabular_trasnformer.ipynb\" target=\"_parent\"><img src=\"https://colab.research.google.com/assets/colab-badge.svg\" alt=\"Open In Colab\"/></a>"
      ]
    },
    {
      "cell_type": "code",
      "source": [
        "!pip install comet_ml --quiet"
      ],
      "metadata": {
        "id": "IgSEv9GCmstW"
      },
      "execution_count": 1,
      "outputs": []
    },
    {
      "cell_type": "code",
      "source": [
        "import comet_ml"
      ],
      "metadata": {
        "id": "zZQEXLTLm3kx"
      },
      "execution_count": 2,
      "outputs": []
    },
    {
      "cell_type": "code",
      "source": [
        "experiment = comet_ml.Experiment(\n",
        "    api_key=\"gcWlyEttyEF95OqUkaMnTSZqN\",\n",
        "    project_name=\"kueez-google-bid-deep\"\n",
        ")"
      ],
      "metadata": {
        "colab": {
          "base_uri": "https://localhost:8080/"
        },
        "id": "TemJX2a_nOhf",
        "outputId": "b086b6a2-ffc3-4f0b-cdeb-395ed496bd46"
      },
      "execution_count": 3,
      "outputs": [
        {
          "output_type": "stream",
          "name": "stderr",
          "text": [
            "\u001b[1;38;5;214mCOMET WARNING:\u001b[0m As you are running in a Jupyter environment, you will need to call `experiment.end()` when finished to ensure all metrics and code are logged before exiting.\n",
            "\u001b[1;38;5;39mCOMET INFO:\u001b[0m Couldn't find a Git repository in '/content' nor in any parent directory. Set `COMET_GIT_DIRECTORY` if your Git Repository is elsewhere.\n",
            "\u001b[1;38;5;39mCOMET INFO:\u001b[0m Experiment is live on comet.com https://www.comet.com/aviad-has/kueez-google-bid-deep/4366d085690c413f802669cbf0a89734\n",
            "\n"
          ]
        }
      ]
    },
    {
      "cell_type": "code",
      "execution_count": 4,
      "metadata": {
        "id": "lCMfSKKsVGNO"
      },
      "outputs": [],
      "source": [
        "import pandas as pd\n",
        "import numpy as np\n",
        "from tensorflow import keras\n",
        "from sklearn.model_selection import train_test_split\n",
        "from sklearn.preprocessing import LabelEncoder, OneHotEncoder\n",
        "from sklearn.preprocessing import MinMaxScaler, StandardScaler\n",
        "from sklearn.feature_extraction import FeatureHasher\n",
        "\n"
      ]
    },
    {
      "cell_type": "code",
      "source": [
        "import tensorflow as tf\n",
        "print(\"Num GPUs Available: \", len(tf.config.list_physical_devices('GPU')))\n"
      ],
      "metadata": {
        "colab": {
          "base_uri": "https://localhost:8080/"
        },
        "id": "VpzRQ1fcyqWc",
        "outputId": "d4013aff-d3c9-4214-8b12-d2d7361371d7"
      },
      "execution_count": 5,
      "outputs": [
        {
          "output_type": "stream",
          "name": "stdout",
          "text": [
            "Num GPUs Available:  0\n"
          ]
        }
      ]
    },
    {
      "cell_type": "code",
      "source": [
        "def traffic_source(utm_source: str):\n",
        "    try:\n",
        "        if 'facebook' in utm_source or 'fb' in utm_source:\n",
        "            return 'facebook'\n",
        "        if 'twitter' in utm_source:\n",
        "            return 'twitter'\n",
        "        if 'google' in utm_source:\n",
        "            return 'google'\n",
        "        if 'pinterest' in utm_source:\n",
        "            return 'pinterest'\n",
        "        if 'snap' in utm_source:\n",
        "            return 'snap'\n",
        "        if 'tiktok' in utm_source:\n",
        "            return 'tiktok'\n",
        "        if 'outbrain' in utm_source:\n",
        "            return 'outbrain'\n",
        "        if 'tbl' in utm_source:\n",
        "            return 'taboola'\n",
        "    except:\n",
        "        pass\n",
        "    return 'Other'\n",
        "\n",
        "\n",
        "def traffic_medium(utm_medium: str):\n",
        "    try:\n",
        "        if 'paid' in utm_medium or 'pd' in utm_medium:\n",
        "            return 'paid'\n",
        "        if 'org' in utm_medium or 'organic' in utm_medium or 'publish' in utm_medium:\n",
        "            return 'organic'\n",
        "        if 'aff' in utm_medium:\n",
        "            return 'affiliate'\n",
        "        if 'unknown' in utm_medium:\n",
        "            return 'unknown'\n",
        "    except:\n",
        "        pass\n",
        "    return 'Other'"
      ],
      "metadata": {
        "id": "97_PIPjWW7da"
      },
      "execution_count": 6,
      "outputs": []
    },
    {
      "cell_type": "code",
      "source": [
        "def clean_data(df):\n",
        "    # deleting all rows with bid < 0.06 in US and all rows with bid < 0.03 in other countries\n",
        "    n_rows = df.shape[0]\n",
        "    df = df[~((df['CountryCode'] == 'US') & (df['bid'] < 0.06) |\n",
        "              (df['CountryCode'] != 'US') & (df['bid'] < 0.03))]\n",
        "    # delete all rows with bid < max_2nd_bid\n",
        "    df = df[df['bid'] >= df['max_2nd_bid']]\n",
        "    n_rows_after = df.shape[0]\n",
        "    print(f\"Cleaning data: {n_rows - n_rows_after} rows deleted from total {n_rows} rows\")\n",
        "    return df"
      ],
      "metadata": {
        "id": "qvvBUR_WXKgj"
      },
      "execution_count": 7,
      "outputs": []
    },
    {
      "cell_type": "code",
      "source": [
        "seed = 422\n",
        "keras.utils.set_random_seed(\n",
        "    seed\n",
        ")\n",
        "experiment.log_parameter(\"seed\", seed)"
      ],
      "metadata": {
        "id": "qjZ85jJ8dFq6"
      },
      "execution_count": 8,
      "outputs": []
    },
    {
      "cell_type": "code",
      "source": [
        "source_cat = {\n",
        "    'google' : ['google'],\n",
        "    'facebook' : ['facebook'],\n",
        "    'outbrain' : ['outbrain', 'Other', \"pinterest\"]\n",
        "}\n",
        "sizes = ['high', 'low']\n",
        "\n",
        "def read_data_grouped_train(dir_name):\n",
        "    test_df = {value : {group_name : pd.read_csv(f'{dir_name}/sampled_1M_{value}_{group_name}.csv.gz', low_memory=False) for group_name in source_cat.keys()} for value in sizes}\n",
        "    return test_df\n",
        "\n",
        "# group_df_train = read_data_grouped_train('/content')\n",
        "# data = pd.concat([group_df_train[value][group_name] for value in sizes for group_name in source_cat])\n"
      ],
      "metadata": {
        "id": "v9sDeP_BhJ5o"
      },
      "execution_count": 9,
      "outputs": []
    },
    {
      "cell_type": "code",
      "source": [
        "data = pd.read_csv('/content/prediction_latest_raw_data_normalized.000000000289.csv.gz')\n",
        "data = pd.concat([data, pd.read_csv('/content/prediction_latest_raw_data_normalized.000000000288.csv.gz')])\n",
        "data = pd.concat([data, pd.read_csv('/content/prediction_latest_raw_data_normalized.000000000287.csv.gz')])\n",
        "\n"
      ],
      "metadata": {
        "id": "L8AMvQl6Vs1A"
      },
      "execution_count": 10,
      "outputs": []
    },
    {
      "cell_type": "code",
      "source": [
        "data.shape\n",
        "experiment.log_parameter(\"data.shape\", data.shape)"
      ],
      "metadata": {
        "id": "F5XxJzAaWky6"
      },
      "execution_count": 11,
      "outputs": []
    },
    {
      "cell_type": "code",
      "source": [
        "data.isna().sum()"
      ],
      "metadata": {
        "colab": {
          "base_uri": "https://localhost:8080/"
        },
        "id": "X8RRXeE6cv87",
        "outputId": "0df537a9-51fe-4b7d-9506-02b878f1cbd4"
      },
      "execution_count": 12,
      "outputs": [
        {
          "output_type": "execute_result",
          "data": {
            "text/plain": [
              "EventTimeUsec2          0\n",
              "SessionDepth            0\n",
              "Region              45513\n",
              "RefererURL              0\n",
              "platform           384044\n",
              "source_medium           0\n",
              "OS                      0\n",
              "Browser                10\n",
              "CountryCode             0\n",
              "mb_site_id        2256536\n",
              "mbid                23850\n",
              "hb_bidder          353045\n",
              "pb_bid                  0\n",
              "amzn_bid                0\n",
              "bf_bidder               0\n",
              "bid                     0\n",
              "dtype: int64"
            ]
          },
          "metadata": {},
          "execution_count": 12
        }
      ]
    },
    {
      "cell_type": "code",
      "source": [
        "data = data.drop('mb_site_id', axis=1)"
      ],
      "metadata": {
        "id": "y1miHku4dJGN"
      },
      "execution_count": 13,
      "outputs": []
    },
    {
      "cell_type": "code",
      "source": [
        "data.isna().sum()"
      ],
      "metadata": {
        "colab": {
          "base_uri": "https://localhost:8080/"
        },
        "id": "NEeglFL4dPt-",
        "outputId": "fa05c3cf-07f9-48ee-cb9b-cb0c3d82bd95"
      },
      "execution_count": 14,
      "outputs": [
        {
          "output_type": "execute_result",
          "data": {
            "text/plain": [
              "EventTimeUsec2         0\n",
              "SessionDepth           0\n",
              "Region             45513\n",
              "RefererURL             0\n",
              "platform          384044\n",
              "source_medium          0\n",
              "OS                     0\n",
              "Browser               10\n",
              "CountryCode            0\n",
              "mbid               23850\n",
              "hb_bidder         353045\n",
              "pb_bid                 0\n",
              "amzn_bid               0\n",
              "bf_bidder              0\n",
              "bid                    0\n",
              "dtype: int64"
            ]
          },
          "metadata": {},
          "execution_count": 14
        }
      ]
    },
    {
      "cell_type": "code",
      "source": [
        "data = data.fillna(\"0\")"
      ],
      "metadata": {
        "id": "Nck5Gf8Bdb1d"
      },
      "execution_count": 15,
      "outputs": []
    },
    {
      "cell_type": "code",
      "source": [
        "data.isna().sum()"
      ],
      "metadata": {
        "colab": {
          "base_uri": "https://localhost:8080/"
        },
        "id": "ZwlSnnyjdf7V",
        "outputId": "f67dc800-b2a2-497a-aa17-21065f60ae09"
      },
      "execution_count": 16,
      "outputs": [
        {
          "output_type": "execute_result",
          "data": {
            "text/plain": [
              "EventTimeUsec2    0\n",
              "SessionDepth      0\n",
              "Region            0\n",
              "RefererURL        0\n",
              "platform          0\n",
              "source_medium     0\n",
              "OS                0\n",
              "Browser           0\n",
              "CountryCode       0\n",
              "mbid              0\n",
              "hb_bidder         0\n",
              "pb_bid            0\n",
              "amzn_bid          0\n",
              "bf_bidder         0\n",
              "bid               0\n",
              "dtype: int64"
            ]
          },
          "metadata": {},
          "execution_count": 16
        }
      ]
    },
    {
      "cell_type": "code",
      "source": [
        "data['max_2nd_bid'] = np.max([data['pb_bid'], data['amzn_bid']], axis=0)\n",
        "data = clean_data(data)\n",
        "data['source'] = data['source_medium'].apply(traffic_source)\n",
        "data['medium'] = data['source_medium'].apply(traffic_medium)\n",
        "data['epoch'] = data['EventTimeUsec2'] // 1000000"
      ],
      "metadata": {
        "colab": {
          "base_uri": "https://localhost:8080/"
        },
        "id": "SN0b8QMJXBKf",
        "outputId": "53247daa-d55a-4314-f0c3-f62dd9bfa0ba"
      },
      "execution_count": 17,
      "outputs": [
        {
          "output_type": "stream",
          "name": "stdout",
          "text": [
            "Cleaning data: 14787 rows deleted from total 2693441 rows\n"
          ]
        }
      ]
    },
    {
      "cell_type": "code",
      "source": [
        "data.loc[data['CountryCode'] == 'us', 'State'] = data.loc[data['CountryCode'] == 'us', 'Region']\n",
        "data.loc[data['CountryCode'] != 'us', 'State'] = 'unknown'"
      ],
      "metadata": {
        "id": "WikndnQINScM"
      },
      "execution_count": 18,
      "outputs": []
    },
    {
      "cell_type": "code",
      "source": [
        "us_state_tz = pd.read_csv('/content/US_state_tz.csv')\n"
      ],
      "metadata": {
        "id": "UeCBQmXYNXGv"
      },
      "execution_count": 20,
      "outputs": []
    },
    {
      "cell_type": "code",
      "source": [
        "more_states = pd.DataFrame({'state': [\"San Francisco Bay Area\", \"District of Columbia\", \"Silicon Valley\"],\t\n",
        "                            'abbr': [\"SF\", \"DC\", \"SV\"],\t\n",
        "                            'tz': [\"EST\", \"EST\", \"PST\"],\n",
        "                            'utc_diff': [-7, -4, -7]}, \n",
        "                            index=[len(us_state_tz), len(us_state_tz)+1, len(us_state_tz)+2])\n",
        "\n",
        "us_state_tz = pd.concat([us_state_tz, more_states])"
      ],
      "metadata": {
        "id": "9Ai9BwgVNlKS"
      },
      "execution_count": 21,
      "outputs": []
    },
    {
      "cell_type": "code",
      "source": [
        "us_state_tz_dict = {state :utc_diff for state, utc_diff in us_state_tz[['state', 'utc_diff']].itertuples(index=False)}\n",
        "us_state_tz_dict['Alaska']"
      ],
      "metadata": {
        "colab": {
          "base_uri": "https://localhost:8080/"
        },
        "id": "uR0QOHUtSWaN",
        "outputId": "4bf5226d-6fa2-4b9b-a120-6680dc5fb4dd"
      },
      "execution_count": 22,
      "outputs": [
        {
          "output_type": "execute_result",
          "data": {
            "text/plain": [
              "-9"
            ]
          },
          "metadata": {},
          "execution_count": 22
        }
      ]
    },
    {
      "cell_type": "code",
      "source": [
        "# remove all rows CountryCode == 'us' and State is not in us_state_tz\n",
        "data = data.loc[~((data['CountryCode'] == 'us') & ~(data['State'].isin(us_state_tz['state']))), :]"
      ],
      "metadata": {
        "id": "e63rbLnONp0J"
      },
      "execution_count": 23,
      "outputs": []
    },
    {
      "cell_type": "code",
      "source": [
        "from datetime import datetime, timedelta\n",
        "import pytz\n",
        "\n",
        "\n",
        "def convert_epoch_to_local_hour(epoch, country_code, state):\n",
        "    if country_code == 'us':\n",
        "        utc_time = datetime.fromtimestamp(epoch, tz=pytz.timezone('UTC'))\n",
        "        hour_offset = int(us_state_tz_dict[state])\n",
        "        time_offset = timedelta(hours=hour_offset)\n",
        "        local_time = utc_time + time_offset\n",
        "        return local_time.hour\n",
        "    else:\n",
        "        if timezone := pytz.country_timezones.get(country_code.upper()):\n",
        "            timezone = timezone[0]\n",
        "        else:\n",
        "            timezone = 'UTC'\n",
        "    return datetime.fromtimestamp(epoch, tz=pytz.timezone(timezone)).hour\n",
        "\n"
      ],
      "metadata": {
        "id": "gCfQfN_qOE7Q"
      },
      "execution_count": 24,
      "outputs": []
    },
    {
      "cell_type": "code",
      "source": [
        "def time_features(df):\n",
        "    df['local_hour'] = df.apply(lambda x: convert_epoch_to_local_hour(x['epoch'], x['CountryCode'], x['State']), axis=1)\n",
        "    df['weekday'] = df['epoch'].apply(lambda x: datetime.fromtimestamp(x).weekday()).astype('category')\n",
        "    df['is_weekend'] = ((df['weekday'] == 5) | (df['weekday'] == 6)).astype('category')\n",
        "    df['part_of_day'] = (df['local_hour'] // 6).astype('category')\n",
        "    df['utc_hour'] = df['epoch'].apply(lambda x: datetime.fromtimestamp(x, tz=pytz.timezone('UTC')).hour)\n",
        "    return df\n"
      ],
      "metadata": {
        "id": "H-o7D_IVOImC"
      },
      "execution_count": 25,
      "outputs": []
    },
    {
      "cell_type": "code",
      "source": [
        "data = time_features(data)"
      ],
      "metadata": {
        "id": "X5HXKVf-OJeI"
      },
      "execution_count": 26,
      "outputs": []
    },
    {
      "cell_type": "code",
      "source": [
        "higher_bid_is_outlier = 20\n",
        "data = data[data['bid'] < higher_bid_is_outlier]\n",
        "experiment.log_parameter(\"higher_bid_is_outlier\", higher_bid_is_outlier)"
      ],
      "metadata": {
        "id": "a-IUJgp7lXf1"
      },
      "execution_count": 27,
      "outputs": []
    },
    {
      "cell_type": "code",
      "source": [
        "data[data['max_2nd_bid'] <= 0.9].shape[0] / data.shape[0]"
      ],
      "metadata": {
        "colab": {
          "base_uri": "https://localhost:8080/"
        },
        "id": "QdMhWZzWAeJC",
        "outputId": "6903fe2a-a125-4a2b-8049-f3c32b1bf758"
      },
      "execution_count": 28,
      "outputs": [
        {
          "output_type": "execute_result",
          "data": {
            "text/plain": [
              "0.9063692105866765"
            ]
          },
          "metadata": {},
          "execution_count": 28
        }
      ]
    },
    {
      "cell_type": "code",
      "source": [
        "# data = data[data['max_2nd_bid'] <= 0.9]"
      ],
      "metadata": {
        "id": "j3Xt_JM_A_eJ"
      },
      "execution_count": 29,
      "outputs": []
    },
    {
      "cell_type": "code",
      "source": [
        "train_data, test_data = train_test_split(data, test_size=0.2)\n"
      ],
      "metadata": {
        "id": "WXv7N195WBQK"
      },
      "execution_count": 30,
      "outputs": []
    },
    {
      "cell_type": "code",
      "source": [
        "test_data['bid'].max()"
      ],
      "metadata": {
        "colab": {
          "base_uri": "https://localhost:8080/"
        },
        "id": "4sYYV1zVlPLK",
        "outputId": "1403eb45-71c3-40ef-ae13-f9e85f77c3e7"
      },
      "execution_count": 31,
      "outputs": [
        {
          "output_type": "execute_result",
          "data": {
            "text/plain": [
              "19.953"
            ]
          },
          "metadata": {},
          "execution_count": 31
        }
      ]
    },
    {
      "cell_type": "code",
      "source": [
        "numeric_features = ['SessionDepth', 'pb_bid','amzn_bid','max_2nd_bid']\n",
        "# numeric_features = ['SessionDepth']"
      ],
      "metadata": {
        "id": "YchAAuonk_HC"
      },
      "execution_count": 32,
      "outputs": []
    },
    {
      "cell_type": "code",
      "source": [
        "# Normalize the numeric features\n",
        "scaler = StandardScaler()\n",
        "numeric_features_scale = [f'{feature}_sc' for feature in numeric_features]\n",
        "train_data[numeric_features_scale] = scaler.fit_transform(train_data[numeric_features])\n",
        "test_data[numeric_features_scale] = scaler.transform(test_data[numeric_features])\n",
        "\n",
        "experiment.log_parameter(\"scaler\", str(scaler))"
      ],
      "metadata": {
        "id": "wWvNOZ38ifsl"
      },
      "execution_count": 33,
      "outputs": []
    },
    {
      "cell_type": "code",
      "source": [
        "train_data['ratio'] = train_data['bid'] / np.maximum(train_data['max_2nd_bid'], 0.0001)\n",
        "test_data['ratio'] = test_data['bid'] / np.maximum(test_data['max_2nd_bid'], 0.0001)"
      ],
      "metadata": {
        "id": "TAp2pE1qV3b0"
      },
      "execution_count": 34,
      "outputs": []
    },
    {
      "cell_type": "code",
      "source": [
        "scaler_y =  StandardScaler()\n",
        "train_data['bid_sc'] = scaler_y.fit_transform(train_data['bid'].values.reshape(-1, 1))\n",
        "test_data['bid_sc'] = scaler_y.transform(test_data['bid'].values.reshape(-1, 1))\n",
        "experiment.log_parameter(\"scaler_y\", str(scaler_y))\n",
        "\n",
        "# train_data['ratio_sc'] = scaler_y.fit_transform(train_data['ratio'].values.reshape(-1, 1))\n",
        "# test_data['ratio_sc'] = scaler_y.transform(test_data['ratio'].values.reshape(-1, 1))"
      ],
      "metadata": {
        "id": "DTfegkpcRnX4"
      },
      "execution_count": 35,
      "outputs": []
    },
    {
      "cell_type": "code",
      "source": [
        "data['bf_bidder'].value_counts()"
      ],
      "metadata": {
        "colab": {
          "base_uri": "https://localhost:8080/"
        },
        "id": "ctJCQZgyehug",
        "outputId": "d1a7a2d6-ce52-439a-9f64-8da1624c6027"
      },
      "execution_count": 36,
      "outputs": [
        {
          "output_type": "execute_result",
          "data": {
            "text/plain": [
              "adx     2381376\n",
              "ebda     291153\n",
              "Name: bf_bidder, dtype: int64"
            ]
          },
          "metadata": {},
          "execution_count": 36
        }
      ]
    },
    {
      "cell_type": "code",
      "source": [
        "categorical = ['Browser', 'CountryCode','State', 'OS', 'RefererURL', 'source', 'platform', 'medium', 'hb_bidder','bf_bidder', 'weekday', 'is_weekend', 'part_of_day','utc_hour', 'local_hour']\n",
        "numeric = ['SessionDepth', 'pb_bid', 'amzn_bid','max_2nd_bid']\n",
        "train_columns = categorical + numeric_features_scale\n",
        "target_column = 'bid_sc'\n",
        "# target_column = 'ratio_sc'\n",
        "experiment.log_parameter(\"train_columns\", train_columns)\n",
        "experiment.log_parameter(\"target_column\", target_column)\n"
      ],
      "metadata": {
        "id": "JSjFuKBCWD3S"
      },
      "execution_count": 37,
      "outputs": []
    },
    {
      "cell_type": "code",
      "source": [
        "# Separate the features and the labels\n",
        "train_features = train_data[train_columns]\n",
        "train_labels = train_data[target_column]\n"
      ],
      "metadata": {
        "id": "8WSF1SuVWUIu"
      },
      "execution_count": 38,
      "outputs": []
    },
    {
      "cell_type": "code",
      "source": [
        "test_features = test_data[train_columns]\n",
        "test_labels = test_data[target_column]\n"
      ],
      "metadata": {
        "id": "a3KTSsEwb8hq"
      },
      "execution_count": 39,
      "outputs": []
    },
    {
      "cell_type": "code",
      "source": [
        "train_features.dtypes"
      ],
      "metadata": {
        "colab": {
          "base_uri": "https://localhost:8080/"
        },
        "id": "fwKQOoY5Zd4W",
        "outputId": "8d854bd7-91f4-4a68-8e3c-8a8fb13b3bb5"
      },
      "execution_count": 40,
      "outputs": [
        {
          "output_type": "execute_result",
          "data": {
            "text/plain": [
              "Browser              object\n",
              "CountryCode          object\n",
              "State                object\n",
              "OS                   object\n",
              "RefererURL           object\n",
              "source               object\n",
              "platform             object\n",
              "medium               object\n",
              "hb_bidder            object\n",
              "bf_bidder            object\n",
              "weekday            category\n",
              "is_weekend         category\n",
              "part_of_day        category\n",
              "utc_hour              int64\n",
              "local_hour            int64\n",
              "SessionDepth_sc     float64\n",
              "pb_bid_sc           float64\n",
              "amzn_bid_sc         float64\n",
              "max_2nd_bid_sc      float64\n",
              "dtype: object"
            ]
          },
          "metadata": {},
          "execution_count": 40
        }
      ]
    },
    {
      "cell_type": "code",
      "source": [
        "# Encode the categorical features\n",
        "# train_features_org = train_features.copy()\n",
        "# train_features = train_features[numeric_features]\n",
        "\n",
        "# test_features_org = test_features.copy()\n",
        "# test_features = test_features[numeric_features]\n",
        "\n",
        "le = {}\n",
        "for column in categorical:\n",
        "    print(column)\n",
        "    le[column] = LabelEncoder()\n",
        "    le[column].fit(data[column])\n",
        "    train_features[column] = le[column].transform(train_features[column])\n",
        "    test_features[column] = le[column].transform(test_features[column])\n",
        "experiment.log_parameter(\"categorical_encoder\", str(le[column]))"
      ],
      "metadata": {
        "colab": {
          "base_uri": "https://localhost:8080/"
        },
        "id": "cuXMTmQQWpvv",
        "outputId": "f6eb48bd-aab1-4536-8051-c0cf8053d2dc"
      },
      "execution_count": 41,
      "outputs": [
        {
          "output_type": "stream",
          "name": "stdout",
          "text": [
            "Browser\n"
          ]
        },
        {
          "output_type": "stream",
          "name": "stderr",
          "text": [
            "<ipython-input-41-b5f8c00aad97>:13: SettingWithCopyWarning: \n",
            "A value is trying to be set on a copy of a slice from a DataFrame.\n",
            "Try using .loc[row_indexer,col_indexer] = value instead\n",
            "\n",
            "See the caveats in the documentation: https://pandas.pydata.org/pandas-docs/stable/user_guide/indexing.html#returning-a-view-versus-a-copy\n",
            "  train_features[column] = le[column].transform(train_features[column])\n",
            "<ipython-input-41-b5f8c00aad97>:14: SettingWithCopyWarning: \n",
            "A value is trying to be set on a copy of a slice from a DataFrame.\n",
            "Try using .loc[row_indexer,col_indexer] = value instead\n",
            "\n",
            "See the caveats in the documentation: https://pandas.pydata.org/pandas-docs/stable/user_guide/indexing.html#returning-a-view-versus-a-copy\n",
            "  test_features[column] = le[column].transform(test_features[column])\n"
          ]
        },
        {
          "output_type": "stream",
          "name": "stdout",
          "text": [
            "CountryCode\n"
          ]
        },
        {
          "output_type": "stream",
          "name": "stderr",
          "text": [
            "<ipython-input-41-b5f8c00aad97>:13: SettingWithCopyWarning: \n",
            "A value is trying to be set on a copy of a slice from a DataFrame.\n",
            "Try using .loc[row_indexer,col_indexer] = value instead\n",
            "\n",
            "See the caveats in the documentation: https://pandas.pydata.org/pandas-docs/stable/user_guide/indexing.html#returning-a-view-versus-a-copy\n",
            "  train_features[column] = le[column].transform(train_features[column])\n",
            "<ipython-input-41-b5f8c00aad97>:14: SettingWithCopyWarning: \n",
            "A value is trying to be set on a copy of a slice from a DataFrame.\n",
            "Try using .loc[row_indexer,col_indexer] = value instead\n",
            "\n",
            "See the caveats in the documentation: https://pandas.pydata.org/pandas-docs/stable/user_guide/indexing.html#returning-a-view-versus-a-copy\n",
            "  test_features[column] = le[column].transform(test_features[column])\n"
          ]
        },
        {
          "output_type": "stream",
          "name": "stdout",
          "text": [
            "State\n"
          ]
        },
        {
          "output_type": "stream",
          "name": "stderr",
          "text": [
            "<ipython-input-41-b5f8c00aad97>:13: SettingWithCopyWarning: \n",
            "A value is trying to be set on a copy of a slice from a DataFrame.\n",
            "Try using .loc[row_indexer,col_indexer] = value instead\n",
            "\n",
            "See the caveats in the documentation: https://pandas.pydata.org/pandas-docs/stable/user_guide/indexing.html#returning-a-view-versus-a-copy\n",
            "  train_features[column] = le[column].transform(train_features[column])\n",
            "<ipython-input-41-b5f8c00aad97>:14: SettingWithCopyWarning: \n",
            "A value is trying to be set on a copy of a slice from a DataFrame.\n",
            "Try using .loc[row_indexer,col_indexer] = value instead\n",
            "\n",
            "See the caveats in the documentation: https://pandas.pydata.org/pandas-docs/stable/user_guide/indexing.html#returning-a-view-versus-a-copy\n",
            "  test_features[column] = le[column].transform(test_features[column])\n"
          ]
        },
        {
          "output_type": "stream",
          "name": "stdout",
          "text": [
            "OS\n"
          ]
        },
        {
          "output_type": "stream",
          "name": "stderr",
          "text": [
            "<ipython-input-41-b5f8c00aad97>:13: SettingWithCopyWarning: \n",
            "A value is trying to be set on a copy of a slice from a DataFrame.\n",
            "Try using .loc[row_indexer,col_indexer] = value instead\n",
            "\n",
            "See the caveats in the documentation: https://pandas.pydata.org/pandas-docs/stable/user_guide/indexing.html#returning-a-view-versus-a-copy\n",
            "  train_features[column] = le[column].transform(train_features[column])\n",
            "<ipython-input-41-b5f8c00aad97>:14: SettingWithCopyWarning: \n",
            "A value is trying to be set on a copy of a slice from a DataFrame.\n",
            "Try using .loc[row_indexer,col_indexer] = value instead\n",
            "\n",
            "See the caveats in the documentation: https://pandas.pydata.org/pandas-docs/stable/user_guide/indexing.html#returning-a-view-versus-a-copy\n",
            "  test_features[column] = le[column].transform(test_features[column])\n"
          ]
        },
        {
          "output_type": "stream",
          "name": "stdout",
          "text": [
            "RefererURL\n"
          ]
        },
        {
          "output_type": "stream",
          "name": "stderr",
          "text": [
            "<ipython-input-41-b5f8c00aad97>:13: SettingWithCopyWarning: \n",
            "A value is trying to be set on a copy of a slice from a DataFrame.\n",
            "Try using .loc[row_indexer,col_indexer] = value instead\n",
            "\n",
            "See the caveats in the documentation: https://pandas.pydata.org/pandas-docs/stable/user_guide/indexing.html#returning-a-view-versus-a-copy\n",
            "  train_features[column] = le[column].transform(train_features[column])\n",
            "<ipython-input-41-b5f8c00aad97>:14: SettingWithCopyWarning: \n",
            "A value is trying to be set on a copy of a slice from a DataFrame.\n",
            "Try using .loc[row_indexer,col_indexer] = value instead\n",
            "\n",
            "See the caveats in the documentation: https://pandas.pydata.org/pandas-docs/stable/user_guide/indexing.html#returning-a-view-versus-a-copy\n",
            "  test_features[column] = le[column].transform(test_features[column])\n"
          ]
        },
        {
          "output_type": "stream",
          "name": "stdout",
          "text": [
            "source\n"
          ]
        },
        {
          "output_type": "stream",
          "name": "stderr",
          "text": [
            "<ipython-input-41-b5f8c00aad97>:13: SettingWithCopyWarning: \n",
            "A value is trying to be set on a copy of a slice from a DataFrame.\n",
            "Try using .loc[row_indexer,col_indexer] = value instead\n",
            "\n",
            "See the caveats in the documentation: https://pandas.pydata.org/pandas-docs/stable/user_guide/indexing.html#returning-a-view-versus-a-copy\n",
            "  train_features[column] = le[column].transform(train_features[column])\n",
            "<ipython-input-41-b5f8c00aad97>:14: SettingWithCopyWarning: \n",
            "A value is trying to be set on a copy of a slice from a DataFrame.\n",
            "Try using .loc[row_indexer,col_indexer] = value instead\n",
            "\n",
            "See the caveats in the documentation: https://pandas.pydata.org/pandas-docs/stable/user_guide/indexing.html#returning-a-view-versus-a-copy\n",
            "  test_features[column] = le[column].transform(test_features[column])\n"
          ]
        },
        {
          "output_type": "stream",
          "name": "stdout",
          "text": [
            "platform\n"
          ]
        },
        {
          "output_type": "stream",
          "name": "stderr",
          "text": [
            "<ipython-input-41-b5f8c00aad97>:13: SettingWithCopyWarning: \n",
            "A value is trying to be set on a copy of a slice from a DataFrame.\n",
            "Try using .loc[row_indexer,col_indexer] = value instead\n",
            "\n",
            "See the caveats in the documentation: https://pandas.pydata.org/pandas-docs/stable/user_guide/indexing.html#returning-a-view-versus-a-copy\n",
            "  train_features[column] = le[column].transform(train_features[column])\n",
            "<ipython-input-41-b5f8c00aad97>:14: SettingWithCopyWarning: \n",
            "A value is trying to be set on a copy of a slice from a DataFrame.\n",
            "Try using .loc[row_indexer,col_indexer] = value instead\n",
            "\n",
            "See the caveats in the documentation: https://pandas.pydata.org/pandas-docs/stable/user_guide/indexing.html#returning-a-view-versus-a-copy\n",
            "  test_features[column] = le[column].transform(test_features[column])\n"
          ]
        },
        {
          "output_type": "stream",
          "name": "stdout",
          "text": [
            "medium\n"
          ]
        },
        {
          "output_type": "stream",
          "name": "stderr",
          "text": [
            "<ipython-input-41-b5f8c00aad97>:13: SettingWithCopyWarning: \n",
            "A value is trying to be set on a copy of a slice from a DataFrame.\n",
            "Try using .loc[row_indexer,col_indexer] = value instead\n",
            "\n",
            "See the caveats in the documentation: https://pandas.pydata.org/pandas-docs/stable/user_guide/indexing.html#returning-a-view-versus-a-copy\n",
            "  train_features[column] = le[column].transform(train_features[column])\n",
            "<ipython-input-41-b5f8c00aad97>:14: SettingWithCopyWarning: \n",
            "A value is trying to be set on a copy of a slice from a DataFrame.\n",
            "Try using .loc[row_indexer,col_indexer] = value instead\n",
            "\n",
            "See the caveats in the documentation: https://pandas.pydata.org/pandas-docs/stable/user_guide/indexing.html#returning-a-view-versus-a-copy\n",
            "  test_features[column] = le[column].transform(test_features[column])\n"
          ]
        },
        {
          "output_type": "stream",
          "name": "stdout",
          "text": [
            "hb_bidder\n"
          ]
        },
        {
          "output_type": "stream",
          "name": "stderr",
          "text": [
            "<ipython-input-41-b5f8c00aad97>:13: SettingWithCopyWarning: \n",
            "A value is trying to be set on a copy of a slice from a DataFrame.\n",
            "Try using .loc[row_indexer,col_indexer] = value instead\n",
            "\n",
            "See the caveats in the documentation: https://pandas.pydata.org/pandas-docs/stable/user_guide/indexing.html#returning-a-view-versus-a-copy\n",
            "  train_features[column] = le[column].transform(train_features[column])\n",
            "<ipython-input-41-b5f8c00aad97>:14: SettingWithCopyWarning: \n",
            "A value is trying to be set on a copy of a slice from a DataFrame.\n",
            "Try using .loc[row_indexer,col_indexer] = value instead\n",
            "\n",
            "See the caveats in the documentation: https://pandas.pydata.org/pandas-docs/stable/user_guide/indexing.html#returning-a-view-versus-a-copy\n",
            "  test_features[column] = le[column].transform(test_features[column])\n"
          ]
        },
        {
          "output_type": "stream",
          "name": "stdout",
          "text": [
            "bf_bidder\n"
          ]
        },
        {
          "output_type": "stream",
          "name": "stderr",
          "text": [
            "<ipython-input-41-b5f8c00aad97>:13: SettingWithCopyWarning: \n",
            "A value is trying to be set on a copy of a slice from a DataFrame.\n",
            "Try using .loc[row_indexer,col_indexer] = value instead\n",
            "\n",
            "See the caveats in the documentation: https://pandas.pydata.org/pandas-docs/stable/user_guide/indexing.html#returning-a-view-versus-a-copy\n",
            "  train_features[column] = le[column].transform(train_features[column])\n",
            "<ipython-input-41-b5f8c00aad97>:14: SettingWithCopyWarning: \n",
            "A value is trying to be set on a copy of a slice from a DataFrame.\n",
            "Try using .loc[row_indexer,col_indexer] = value instead\n",
            "\n",
            "See the caveats in the documentation: https://pandas.pydata.org/pandas-docs/stable/user_guide/indexing.html#returning-a-view-versus-a-copy\n",
            "  test_features[column] = le[column].transform(test_features[column])\n"
          ]
        },
        {
          "output_type": "stream",
          "name": "stdout",
          "text": [
            "weekday\n"
          ]
        },
        {
          "output_type": "stream",
          "name": "stderr",
          "text": [
            "<ipython-input-41-b5f8c00aad97>:13: SettingWithCopyWarning: \n",
            "A value is trying to be set on a copy of a slice from a DataFrame.\n",
            "Try using .loc[row_indexer,col_indexer] = value instead\n",
            "\n",
            "See the caveats in the documentation: https://pandas.pydata.org/pandas-docs/stable/user_guide/indexing.html#returning-a-view-versus-a-copy\n",
            "  train_features[column] = le[column].transform(train_features[column])\n",
            "<ipython-input-41-b5f8c00aad97>:14: SettingWithCopyWarning: \n",
            "A value is trying to be set on a copy of a slice from a DataFrame.\n",
            "Try using .loc[row_indexer,col_indexer] = value instead\n",
            "\n",
            "See the caveats in the documentation: https://pandas.pydata.org/pandas-docs/stable/user_guide/indexing.html#returning-a-view-versus-a-copy\n",
            "  test_features[column] = le[column].transform(test_features[column])\n"
          ]
        },
        {
          "output_type": "stream",
          "name": "stdout",
          "text": [
            "is_weekend\n"
          ]
        },
        {
          "output_type": "stream",
          "name": "stderr",
          "text": [
            "<ipython-input-41-b5f8c00aad97>:13: SettingWithCopyWarning: \n",
            "A value is trying to be set on a copy of a slice from a DataFrame.\n",
            "Try using .loc[row_indexer,col_indexer] = value instead\n",
            "\n",
            "See the caveats in the documentation: https://pandas.pydata.org/pandas-docs/stable/user_guide/indexing.html#returning-a-view-versus-a-copy\n",
            "  train_features[column] = le[column].transform(train_features[column])\n",
            "<ipython-input-41-b5f8c00aad97>:14: SettingWithCopyWarning: \n",
            "A value is trying to be set on a copy of a slice from a DataFrame.\n",
            "Try using .loc[row_indexer,col_indexer] = value instead\n",
            "\n",
            "See the caveats in the documentation: https://pandas.pydata.org/pandas-docs/stable/user_guide/indexing.html#returning-a-view-versus-a-copy\n",
            "  test_features[column] = le[column].transform(test_features[column])\n"
          ]
        },
        {
          "output_type": "stream",
          "name": "stdout",
          "text": [
            "part_of_day\n"
          ]
        },
        {
          "output_type": "stream",
          "name": "stderr",
          "text": [
            "<ipython-input-41-b5f8c00aad97>:13: SettingWithCopyWarning: \n",
            "A value is trying to be set on a copy of a slice from a DataFrame.\n",
            "Try using .loc[row_indexer,col_indexer] = value instead\n",
            "\n",
            "See the caveats in the documentation: https://pandas.pydata.org/pandas-docs/stable/user_guide/indexing.html#returning-a-view-versus-a-copy\n",
            "  train_features[column] = le[column].transform(train_features[column])\n",
            "<ipython-input-41-b5f8c00aad97>:14: SettingWithCopyWarning: \n",
            "A value is trying to be set on a copy of a slice from a DataFrame.\n",
            "Try using .loc[row_indexer,col_indexer] = value instead\n",
            "\n",
            "See the caveats in the documentation: https://pandas.pydata.org/pandas-docs/stable/user_guide/indexing.html#returning-a-view-versus-a-copy\n",
            "  test_features[column] = le[column].transform(test_features[column])\n"
          ]
        },
        {
          "output_type": "stream",
          "name": "stdout",
          "text": [
            "utc_hour\n"
          ]
        },
        {
          "output_type": "stream",
          "name": "stderr",
          "text": [
            "<ipython-input-41-b5f8c00aad97>:13: SettingWithCopyWarning: \n",
            "A value is trying to be set on a copy of a slice from a DataFrame.\n",
            "Try using .loc[row_indexer,col_indexer] = value instead\n",
            "\n",
            "See the caveats in the documentation: https://pandas.pydata.org/pandas-docs/stable/user_guide/indexing.html#returning-a-view-versus-a-copy\n",
            "  train_features[column] = le[column].transform(train_features[column])\n",
            "<ipython-input-41-b5f8c00aad97>:14: SettingWithCopyWarning: \n",
            "A value is trying to be set on a copy of a slice from a DataFrame.\n",
            "Try using .loc[row_indexer,col_indexer] = value instead\n",
            "\n",
            "See the caveats in the documentation: https://pandas.pydata.org/pandas-docs/stable/user_guide/indexing.html#returning-a-view-versus-a-copy\n",
            "  test_features[column] = le[column].transform(test_features[column])\n"
          ]
        },
        {
          "output_type": "stream",
          "name": "stdout",
          "text": [
            "local_hour\n"
          ]
        },
        {
          "output_type": "stream",
          "name": "stderr",
          "text": [
            "<ipython-input-41-b5f8c00aad97>:13: SettingWithCopyWarning: \n",
            "A value is trying to be set on a copy of a slice from a DataFrame.\n",
            "Try using .loc[row_indexer,col_indexer] = value instead\n",
            "\n",
            "See the caveats in the documentation: https://pandas.pydata.org/pandas-docs/stable/user_guide/indexing.html#returning-a-view-versus-a-copy\n",
            "  train_features[column] = le[column].transform(train_features[column])\n",
            "<ipython-input-41-b5f8c00aad97>:14: SettingWithCopyWarning: \n",
            "A value is trying to be set on a copy of a slice from a DataFrame.\n",
            "Try using .loc[row_indexer,col_indexer] = value instead\n",
            "\n",
            "See the caveats in the documentation: https://pandas.pydata.org/pandas-docs/stable/user_guide/indexing.html#returning-a-view-versus-a-copy\n",
            "  test_features[column] = le[column].transform(test_features[column])\n"
          ]
        }
      ]
    },
    {
      "cell_type": "code",
      "source": [
        "embd_dict"
      ],
      "metadata": {
        "colab": {
          "base_uri": "https://localhost:8080/"
        },
        "id": "K0t9OkVpTdPk",
        "outputId": "88816cde-17ca-4508-8941-00f8b61b1262"
      },
      "execution_count": 86,
      "outputs": [
        {
          "output_type": "execute_result",
          "data": {
            "text/plain": [
              "{'Browser': 3,\n",
              " 'CountryCode': 8,\n",
              " 'State': 4,\n",
              " 'OS': 2,\n",
              " 'RefererURL': 6,\n",
              " 'source': 2,\n",
              " 'platform': 2,\n",
              " 'medium': 2,\n",
              " 'hb_bidder': 3,\n",
              " 'bf_bidder': 2,\n",
              " 'weekday': 2,\n",
              " 'is_weekend': 2,\n",
              " 'part_of_day': 2,\n",
              " 'utc_hour': 3,\n",
              " 'local_hour': 3}"
            ]
          },
          "metadata": {},
          "execution_count": 86
        }
      ]
    },
    {
      "cell_type": "code",
      "source": [
        "from tensorflow.keras.layers import Input, Embedding, Dense, Concatenate, BatchNormalization, Dropout, MultiHeadAttention, Add, LayerNormalization, Flatten, concatenate\n"
      ],
      "metadata": {
        "id": "5yH6fzO-XQQ5"
      },
      "execution_count": 90,
      "outputs": []
    },
    {
      "cell_type": "code",
      "source": [
        "def create_mlp(hidden_units, dropout_rate, activation, normalization_layer, name=None):\n",
        "\n",
        "    mlp_layers = []\n",
        "    for units in hidden_units:\n",
        "        mlp_layers.append(normalization_layer),\n",
        "        mlp_layers.append(Dense(units, activation=activation))\n",
        "        mlp_layers.append(Dropout(dropout_rate))\n",
        "\n",
        "    return keras.Sequential(mlp_layers, name=name)"
      ],
      "metadata": {
        "id": "hDrkOQA1XMs5"
      },
      "execution_count": 91,
      "outputs": []
    },
    {
      "cell_type": "code",
      "source": [
        "# Build the model v0\n",
        "# model = keras.Sequential([\n",
        "#     keras.layers.Dense(64, activation='relu', input_shape=[len(train_features.columns)]),\n",
        "#     keras.layers.Dense(64, activation='relu'),\n",
        "#     keras.layers.Dense(1)\n",
        "# ])\n",
        "\n",
        "WEIGHT_DECAY = 0.0001\n",
        "DROPOUT_RATE = 0.4\n",
        "\n",
        "NUM_TRANSFORMER_BLOCKS = 3  # Number of transformer blocks.\n",
        "NUM_HEADS = 4  # Number of attention heads.\n",
        "EMBEDDING_DIMS = 6  # Embedding dimensions of the categorical features.\n",
        "MLP_HIDDEN_UNITS_FACTORS = [\n",
        "    2,\n",
        "    1,\n",
        "]  # MLP hidden layer units, as factors of the number of inputs.\n",
        "NUM_MLP_BLOCKS = 2  # Number of MLP blocks in the baseline model.\n",
        "\n",
        "\n",
        "number_dict = {cat : data[cat].nunique() for cat in categorical}\n",
        "# embd_dict = {cat : max(2, int(np.sqrt(data[cat].nunique()))//2+1) for cat in categorical}\n",
        "embd_dict = {cat : 6 for cat in categorical}\n",
        "\n",
        "# Define input layers for categorical features\n",
        "categorical_inputs = []\n",
        "embedding_layers = []\n",
        "\n",
        "for feature in categorical:\n",
        "    num_unique_values = number_dict[feature]\n",
        "    embedding_size = embd_dict[feature]\n",
        "\n",
        "    input_layer = keras.layers.Input(shape=(), name=f'{feature}_input')\n",
        "    categorical_inputs.append(input_layer)\n",
        "\n",
        "    embedding_layer = keras.layers.Embedding(input_dim=num_unique_values, output_dim=embedding_size, name=f\"{feature}_emb\")(input_layer)\n",
        "    embedding_layers.append(embedding_layer)\n",
        "  \n",
        "encoded_categorical_features = tf.stack(embedding_layers, axis=1)\n",
        "\n",
        "\n",
        "for block_idx in range(NUM_TRANSFORMER_BLOCKS):\n",
        "    # Create a multi-head attention layer.\n",
        "    attention_output = MultiHeadAttention(\n",
        "        num_heads=NUM_HEADS,\n",
        "        key_dim=EMBEDDING_DIMS,\n",
        "        dropout=DROPOUT_RATE,\n",
        "        name=f\"multihead_attention_{block_idx}\",\n",
        "    )(encoded_categorical_features, encoded_categorical_features)\n",
        "    # Skip connection 1.\n",
        "    x = Add(name=f\"skip_connection1_{block_idx}\")(\n",
        "        [attention_output, encoded_categorical_features]\n",
        "    )\n",
        "    # Layer normalization 1.\n",
        "    x = LayerNormalization(name=f\"layer_norm1_{block_idx}\", epsilon=1e-6)(x)\n",
        "    # Feedforward.\n",
        "    feedforward_output = create_mlp(\n",
        "        hidden_units=[EMBEDDING_DIMS],\n",
        "        dropout_rate=DROPOUT_RATE,\n",
        "        activation=keras.activations.gelu,\n",
        "        normalization_layer=LayerNormalization(epsilon=1e-6),\n",
        "        name=f\"feedforward_{block_idx}\",\n",
        "    )(x)\n",
        "    # Skip connection 2.\n",
        "    x = Add(name=f\"skip_connection2_{block_idx}\")([feedforward_output, x])\n",
        "    # Layer normalization 2.\n",
        "    encoded_categorical_features = LayerNormalization(\n",
        "        name=f\"layer_norm2_{block_idx}\", epsilon=1e-6\n",
        "    )(x)\n",
        "\n",
        "# Define input layer for numeric features\n",
        "numeric_input = [Input(shape=(1,), name=f'{feature}_input') for feature in numeric_features]\n",
        "numerical_features = concatenate(numeric_input)\n",
        "categorical_features = Flatten()(encoded_categorical_features)\n",
        "numerical_features = LayerNormalization(epsilon=1e-6)(numerical_features)\n",
        " # Prepare the input for the final MLP block.\n",
        "features = concatenate([categorical_features, numerical_features])\n",
        "# Compute MLP hidden_units.\n",
        "mlp_hidden_units = [\n",
        "    factor * features.shape[-1] for factor in MLP_HIDDEN_UNITS_FACTORS \n",
        "]\n",
        "# Create final MLP.\n",
        "features = create_mlp(\n",
        "    hidden_units=mlp_hidden_units,\n",
        "    dropout_rate=DROPOUT_RATE,\n",
        "    activation=keras.activations.selu,\n",
        "    normalization_layer=BatchNormalization(),\n",
        "    name=\"MLP\",\n",
        ")(features)\n",
        "\n",
        "# Add a sigmoid as a binary classifer.Dense(1)\n",
        "outputs = Dense(units=1, name=\"last_layer\")(features)\n",
        "model = keras.Model(inputs=categorical_inputs + numeric_input, outputs=outputs)\n",
        "# Flatten the embedding layers\n",
        "# flattened_embeddings = [keras.layers.Flatten()(embedding_layer) for embedding_layer in embedding_layers]\n",
        "# Concatenate the embeddings and numeric features\n",
        "# concatenated = keras.layers.Concatenate()(flattened_embeddings + [numeric_input])\n",
        "\n",
        "# Add fully connected layers for further processing\n",
        "# hidden1 = keras.layers.Dense(128, activation='relu')(concatenated)\n",
        "# bn1 = BatchNormalization()(hidden1)\n",
        "# dropout1 = Dropout(0.5)(bn1)\n",
        "# hidden2 = Dense(256, activation='relu')(dropout1)\n",
        "# bn2 = BatchNormalization()(hidden2)\n",
        "# dropout2 = Dropout(0.5)(bn2)\n",
        "# hidden3 = Dense(128, activation='relu')(dropout2)\n",
        "# bn3 = BatchNormalization()(hidden3)\n",
        "# dropout3 = Dropout(0.5)(bn3)\n",
        "# hidden4 = Dense(32, activation='relu')(dropout1)\n",
        "# bn4 = BatchNormalization()(hidden4)\n",
        "# dropout4 = Dropout(0.5)(bn4)\n",
        "# output = Dense(1)(dropout4)\n",
        "\n",
        "\n",
        "# Create the model\n",
        "# model = keras.models.Model(inputs=categorical_inputs + [numeric_input], outputs=output)\n",
        "\n",
        "\n",
        "# # Build the model V1\n",
        "# model = keras.Sequential([\n",
        "    # keras.layers.Dense(128, activation='relu', input_shape=[len(train_features.columns)]),\n",
        "    # keras.layers.BatchNormalization(),\n",
        "    # keras.layers.Dropout(0.5),\n",
        "    # keras.layers.Dense(256, activation='relu'),\n",
        "    # keras.layers.BatchNormalization(),\n",
        "    # keras.layers.Dropout(0.5),\n",
        "    # keras.layers.Dense(128, activation='relu'),\n",
        "    # keras.layers.BatchNormalization(),\n",
        "    # keras.layers.Dropout(0.5),\n",
        "    # keras.layers.Dense(1)\n",
        "# ])\n",
        "\n",
        "\n",
        "# Build the model v2\n",
        "# model = keras.Sequential([\n",
        "#     keras.layers.Dense(256, activation='relu', input_shape=[len(train_features.columns)]),\n",
        "#     keras.layers.BatchNormalization(),\n",
        "#     keras.layers.Dropout(0.5),\n",
        "#     keras.layers.Dense(512, activation='relu'),\n",
        "#     keras.layers.BatchNormalization(),\n",
        "#     keras.layers.Dropout(0.5),\n",
        "#     keras.layers.Dense(256, activation='relu'),\n",
        "#     keras.layers.BatchNormalization(),\n",
        "#     keras.layers.Dropout(0.5),\n",
        "#     keras.layers.Dense(128, activation='relu'),\n",
        "#     keras.layers.BatchNormalization(),\n",
        "#     keras.layers.Dropout(0.5),\n",
        "#     keras.layers.Dense(64, activation='relu'),\n",
        "#     keras.layers.BatchNormalization(),\n",
        "#     keras.layers.Dropout(0.5),\n",
        "#     keras.layers.Dense(1)\n",
        "# ])\n"
      ],
      "metadata": {
        "id": "Zo8kE3_9X6Ke"
      },
      "execution_count": 96,
      "outputs": []
    },
    {
      "cell_type": "code",
      "source": [
        "model.summary()\n",
        "experiment.log_parameter(\"model\", str(model.summary()))"
      ],
      "metadata": {
        "colab": {
          "base_uri": "https://localhost:8080/"
        },
        "id": "1x7fGHljrlq9",
        "outputId": "7bc19465-1085-494e-f43f-8119d2a2d1b9"
      },
      "execution_count": 97,
      "outputs": [
        {
          "output_type": "stream",
          "name": "stdout",
          "text": [
            "Model: \"model_2\"\n",
            "__________________________________________________________________________________________________\n",
            " Layer (type)                   Output Shape         Param #     Connected to                     \n",
            "==================================================================================================\n",
            " Browser_input (InputLayer)     [(None, 1)]          0           []                               \n",
            "                                                                                                  \n",
            " CountryCode_input (InputLayer)  [(None, 1)]         0           []                               \n",
            "                                                                                                  \n",
            " State_input (InputLayer)       [(None, 1)]          0           []                               \n",
            "                                                                                                  \n",
            " OS_input (InputLayer)          [(None, 1)]          0           []                               \n",
            "                                                                                                  \n",
            " RefererURL_input (InputLayer)  [(None, 1)]          0           []                               \n",
            "                                                                                                  \n",
            " source_input (InputLayer)      [(None, 1)]          0           []                               \n",
            "                                                                                                  \n",
            " platform_input (InputLayer)    [(None, 1)]          0           []                               \n",
            "                                                                                                  \n",
            " medium_input (InputLayer)      [(None, 1)]          0           []                               \n",
            "                                                                                                  \n",
            " hb_bidder_input (InputLayer)   [(None, 1)]          0           []                               \n",
            "                                                                                                  \n",
            " bf_bidder_input (InputLayer)   [(None, 1)]          0           []                               \n",
            "                                                                                                  \n",
            " weekday_input (InputLayer)     [(None, 1)]          0           []                               \n",
            "                                                                                                  \n",
            " is_weekend_input (InputLayer)  [(None, 1)]          0           []                               \n",
            "                                                                                                  \n",
            " part_of_day_input (InputLayer)  [(None, 1)]         0           []                               \n",
            "                                                                                                  \n",
            " utc_hour_input (InputLayer)    [(None, 1)]          0           []                               \n",
            "                                                                                                  \n",
            " local_hour_input (InputLayer)  [(None, 1)]          0           []                               \n",
            "                                                                                                  \n",
            " Browser_emb (Embedding)        (None, 1, 6)         198         ['Browser_input[0][0]']          \n",
            "                                                                                                  \n",
            " CountryCode_emb (Embedding)    (None, 1, 6)         1284        ['CountryCode_input[0][0]']      \n",
            "                                                                                                  \n",
            " State_emb (Embedding)          (None, 1, 6)         324         ['State_input[0][0]']            \n",
            "                                                                                                  \n",
            " OS_emb (Embedding)             (None, 1, 6)         60          ['OS_input[0][0]']               \n",
            "                                                                                                  \n",
            " RefererURL_emb (Embedding)     (None, 1, 6)         636         ['RefererURL_input[0][0]']       \n",
            "                                                                                                  \n",
            " source_emb (Embedding)         (None, 1, 6)         42          ['source_input[0][0]']           \n",
            "                                                                                                  \n",
            " platform_emb (Embedding)       (None, 1, 6)         24          ['platform_input[0][0]']         \n",
            "                                                                                                  \n",
            " medium_emb (Embedding)         (None, 1, 6)         30          ['medium_input[0][0]']           \n",
            "                                                                                                  \n",
            " hb_bidder_emb (Embedding)      (None, 1, 6)         156         ['hb_bidder_input[0][0]']        \n",
            "                                                                                                  \n",
            " bf_bidder_emb (Embedding)      (None, 1, 6)         12          ['bf_bidder_input[0][0]']        \n",
            "                                                                                                  \n",
            " weekday_emb (Embedding)        (None, 1, 6)         18          ['weekday_input[0][0]']          \n",
            "                                                                                                  \n",
            " is_weekend_emb (Embedding)     (None, 1, 6)         12          ['is_weekend_input[0][0]']       \n",
            "                                                                                                  \n",
            " part_of_day_emb (Embedding)    (None, 1, 6)         24          ['part_of_day_input[0][0]']      \n",
            "                                                                                                  \n",
            " utc_hour_emb (Embedding)       (None, 1, 6)         144         ['utc_hour_input[0][0]']         \n",
            "                                                                                                  \n",
            " local_hour_emb (Embedding)     (None, 1, 6)         144         ['local_hour_input[0][0]']       \n",
            "                                                                                                  \n",
            " tf.stack_2 (TFOpLambda)        (None, 15, 1, 6)     0           ['Browser_emb[0][0]',            \n",
            "                                                                  'CountryCode_emb[0][0]',        \n",
            "                                                                  'State_emb[0][0]',              \n",
            "                                                                  'OS_emb[0][0]',                 \n",
            "                                                                  'RefererURL_emb[0][0]',         \n",
            "                                                                  'source_emb[0][0]',             \n",
            "                                                                  'platform_emb[0][0]',           \n",
            "                                                                  'medium_emb[0][0]',             \n",
            "                                                                  'hb_bidder_emb[0][0]',          \n",
            "                                                                  'bf_bidder_emb[0][0]',          \n",
            "                                                                  'weekday_emb[0][0]',            \n",
            "                                                                  'is_weekend_emb[0][0]',         \n",
            "                                                                  'part_of_day_emb[0][0]',        \n",
            "                                                                  'utc_hour_emb[0][0]',           \n",
            "                                                                  'local_hour_emb[0][0]']         \n",
            "                                                                                                  \n",
            " multihead_attention_0 (MultiHe  (None, 15, 1, 6)    654         ['tf.stack_2[0][0]',             \n",
            " adAttention)                                                     'tf.stack_2[0][0]']             \n",
            "                                                                                                  \n",
            " skip_connection1_0 (Add)       (None, 15, 1, 6)     0           ['multihead_attention_0[0][0]',  \n",
            "                                                                  'tf.stack_2[0][0]']             \n",
            "                                                                                                  \n",
            " layer_norm1_0 (LayerNormalizat  (None, 15, 1, 6)    12          ['skip_connection1_0[0][0]']     \n",
            " ion)                                                                                             \n",
            "                                                                                                  \n",
            " feedforward_0 (Sequential)     (None, 15, 1, 6)     54          ['layer_norm1_0[0][0]']          \n",
            "                                                                                                  \n",
            " skip_connection2_0 (Add)       (None, 15, 1, 6)     0           ['feedforward_0[0][0]',          \n",
            "                                                                  'layer_norm1_0[0][0]']          \n",
            "                                                                                                  \n",
            " layer_norm2_0 (LayerNormalizat  (None, 15, 1, 6)    12          ['skip_connection2_0[0][0]']     \n",
            " ion)                                                                                             \n",
            "                                                                                                  \n",
            " multihead_attention_1 (MultiHe  (None, 15, 1, 6)    654         ['layer_norm2_0[0][0]',          \n",
            " adAttention)                                                     'layer_norm2_0[0][0]']          \n",
            "                                                                                                  \n",
            " skip_connection1_1 (Add)       (None, 15, 1, 6)     0           ['multihead_attention_1[0][0]',  \n",
            "                                                                  'layer_norm2_0[0][0]']          \n",
            "                                                                                                  \n",
            " layer_norm1_1 (LayerNormalizat  (None, 15, 1, 6)    12          ['skip_connection1_1[0][0]']     \n",
            " ion)                                                                                             \n",
            "                                                                                                  \n",
            " feedforward_1 (Sequential)     (None, 15, 1, 6)     54          ['layer_norm1_1[0][0]']          \n",
            "                                                                                                  \n",
            " skip_connection2_1 (Add)       (None, 15, 1, 6)     0           ['feedforward_1[0][0]',          \n",
            "                                                                  'layer_norm1_1[0][0]']          \n",
            "                                                                                                  \n",
            " layer_norm2_1 (LayerNormalizat  (None, 15, 1, 6)    12          ['skip_connection2_1[0][0]']     \n",
            " ion)                                                                                             \n",
            "                                                                                                  \n",
            " multihead_attention_2 (MultiHe  (None, 15, 1, 6)    654         ['layer_norm2_1[0][0]',          \n",
            " adAttention)                                                     'layer_norm2_1[0][0]']          \n",
            "                                                                                                  \n",
            " skip_connection1_2 (Add)       (None, 15, 1, 6)     0           ['multihead_attention_2[0][0]',  \n",
            "                                                                  'layer_norm2_1[0][0]']          \n",
            "                                                                                                  \n",
            " layer_norm1_2 (LayerNormalizat  (None, 15, 1, 6)    12          ['skip_connection1_2[0][0]']     \n",
            " ion)                                                                                             \n",
            "                                                                                                  \n",
            " feedforward_2 (Sequential)     (None, 15, 1, 6)     54          ['layer_norm1_2[0][0]']          \n",
            "                                                                                                  \n",
            " skip_connection2_2 (Add)       (None, 15, 1, 6)     0           ['feedforward_2[0][0]',          \n",
            "                                                                  'layer_norm1_2[0][0]']          \n",
            "                                                                                                  \n",
            " SessionDepth_input (InputLayer  [(None, 1)]         0           []                               \n",
            " )                                                                                                \n",
            "                                                                                                  \n",
            " pb_bid_input (InputLayer)      [(None, 1)]          0           []                               \n",
            "                                                                                                  \n",
            " amzn_bid_input (InputLayer)    [(None, 1)]          0           []                               \n",
            "                                                                                                  \n",
            " max_2nd_bid_input (InputLayer)  [(None, 1)]         0           []                               \n",
            "                                                                                                  \n",
            " layer_norm2_2 (LayerNormalizat  (None, 15, 1, 6)    12          ['skip_connection2_2[0][0]']     \n",
            " ion)                                                                                             \n",
            "                                                                                                  \n",
            " concatenate_4 (Concatenate)    (None, 4)            0           ['SessionDepth_input[0][0]',     \n",
            "                                                                  'pb_bid_input[0][0]',           \n",
            "                                                                  'amzn_bid_input[0][0]',         \n",
            "                                                                  'max_2nd_bid_input[0][0]']      \n",
            "                                                                                                  \n",
            " flatten_16 (Flatten)           (None, 90)           0           ['layer_norm2_2[0][0]']          \n",
            "                                                                                                  \n",
            " layer_normalization_10 (LayerN  (None, 4)           8           ['concatenate_4[0][0]']          \n",
            " ormalization)                                                                                    \n",
            "                                                                                                  \n",
            " concatenate_5 (Concatenate)    (None, 94)           0           ['flatten_16[0][0]',             \n",
            "                                                                  'layer_normalization_10[0][0]'] \n",
            "                                                                                                  \n",
            " MLP (Sequential)               (None, 94)           36002       ['concatenate_5[0][0]']          \n",
            "                                                                                                  \n",
            " last_layer (Dense)             (None, 1)            95          ['MLP[0][0]']                    \n",
            "                                                                                                  \n",
            "==================================================================================================\n",
            "Total params: 41,409\n",
            "Trainable params: 41,221\n",
            "Non-trainable params: 188\n",
            "__________________________________________________________________________________________________\n",
            "Model: \"model_2\"\n",
            "__________________________________________________________________________________________________\n",
            " Layer (type)                   Output Shape         Param #     Connected to                     \n",
            "==================================================================================================\n",
            " Browser_input (InputLayer)     [(None, 1)]          0           []                               \n",
            "                                                                                                  \n",
            " CountryCode_input (InputLayer)  [(None, 1)]         0           []                               \n",
            "                                                                                                  \n",
            " State_input (InputLayer)       [(None, 1)]          0           []                               \n",
            "                                                                                                  \n",
            " OS_input (InputLayer)          [(None, 1)]          0           []                               \n",
            "                                                                                                  \n",
            " RefererURL_input (InputLayer)  [(None, 1)]          0           []                               \n",
            "                                                                                                  \n",
            " source_input (InputLayer)      [(None, 1)]          0           []                               \n",
            "                                                                                                  \n",
            " platform_input (InputLayer)    [(None, 1)]          0           []                               \n",
            "                                                                                                  \n",
            " medium_input (InputLayer)      [(None, 1)]          0           []                               \n",
            "                                                                                                  \n",
            " hb_bidder_input (InputLayer)   [(None, 1)]          0           []                               \n",
            "                                                                                                  \n",
            " bf_bidder_input (InputLayer)   [(None, 1)]          0           []                               \n",
            "                                                                                                  \n",
            " weekday_input (InputLayer)     [(None, 1)]          0           []                               \n",
            "                                                                                                  \n",
            " is_weekend_input (InputLayer)  [(None, 1)]          0           []                               \n",
            "                                                                                                  \n",
            " part_of_day_input (InputLayer)  [(None, 1)]         0           []                               \n",
            "                                                                                                  \n",
            " utc_hour_input (InputLayer)    [(None, 1)]          0           []                               \n",
            "                                                                                                  \n",
            " local_hour_input (InputLayer)  [(None, 1)]          0           []                               \n",
            "                                                                                                  \n",
            " Browser_emb (Embedding)        (None, 1, 6)         198         ['Browser_input[0][0]']          \n",
            "                                                                                                  \n",
            " CountryCode_emb (Embedding)    (None, 1, 6)         1284        ['CountryCode_input[0][0]']      \n",
            "                                                                                                  \n",
            " State_emb (Embedding)          (None, 1, 6)         324         ['State_input[0][0]']            \n",
            "                                                                                                  \n",
            " OS_emb (Embedding)             (None, 1, 6)         60          ['OS_input[0][0]']               \n",
            "                                                                                                  \n",
            " RefererURL_emb (Embedding)     (None, 1, 6)         636         ['RefererURL_input[0][0]']       \n",
            "                                                                                                  \n",
            " source_emb (Embedding)         (None, 1, 6)         42          ['source_input[0][0]']           \n",
            "                                                                                                  \n",
            " platform_emb (Embedding)       (None, 1, 6)         24          ['platform_input[0][0]']         \n",
            "                                                                                                  \n",
            " medium_emb (Embedding)         (None, 1, 6)         30          ['medium_input[0][0]']           \n",
            "                                                                                                  \n",
            " hb_bidder_emb (Embedding)      (None, 1, 6)         156         ['hb_bidder_input[0][0]']        \n",
            "                                                                                                  \n",
            " bf_bidder_emb (Embedding)      (None, 1, 6)         12          ['bf_bidder_input[0][0]']        \n",
            "                                                                                                  \n",
            " weekday_emb (Embedding)        (None, 1, 6)         18          ['weekday_input[0][0]']          \n",
            "                                                                                                  \n",
            " is_weekend_emb (Embedding)     (None, 1, 6)         12          ['is_weekend_input[0][0]']       \n",
            "                                                                                                  \n",
            " part_of_day_emb (Embedding)    (None, 1, 6)         24          ['part_of_day_input[0][0]']      \n",
            "                                                                                                  \n",
            " utc_hour_emb (Embedding)       (None, 1, 6)         144         ['utc_hour_input[0][0]']         \n",
            "                                                                                                  \n",
            " local_hour_emb (Embedding)     (None, 1, 6)         144         ['local_hour_input[0][0]']       \n",
            "                                                                                                  \n",
            " tf.stack_2 (TFOpLambda)        (None, 15, 1, 6)     0           ['Browser_emb[0][0]',            \n",
            "                                                                  'CountryCode_emb[0][0]',        \n",
            "                                                                  'State_emb[0][0]',              \n",
            "                                                                  'OS_emb[0][0]',                 \n",
            "                                                                  'RefererURL_emb[0][0]',         \n",
            "                                                                  'source_emb[0][0]',             \n",
            "                                                                  'platform_emb[0][0]',           \n",
            "                                                                  'medium_emb[0][0]',             \n",
            "                                                                  'hb_bidder_emb[0][0]',          \n",
            "                                                                  'bf_bidder_emb[0][0]',          \n",
            "                                                                  'weekday_emb[0][0]',            \n",
            "                                                                  'is_weekend_emb[0][0]',         \n",
            "                                                                  'part_of_day_emb[0][0]',        \n",
            "                                                                  'utc_hour_emb[0][0]',           \n",
            "                                                                  'local_hour_emb[0][0]']         \n",
            "                                                                                                  \n",
            " multihead_attention_0 (MultiHe  (None, 15, 1, 6)    654         ['tf.stack_2[0][0]',             \n",
            " adAttention)                                                     'tf.stack_2[0][0]']             \n",
            "                                                                                                  \n",
            " skip_connection1_0 (Add)       (None, 15, 1, 6)     0           ['multihead_attention_0[0][0]',  \n",
            "                                                                  'tf.stack_2[0][0]']             \n",
            "                                                                                                  \n",
            " layer_norm1_0 (LayerNormalizat  (None, 15, 1, 6)    12          ['skip_connection1_0[0][0]']     \n",
            " ion)                                                                                             \n",
            "                                                                                                  \n",
            " feedforward_0 (Sequential)     (None, 15, 1, 6)     54          ['layer_norm1_0[0][0]']          \n",
            "                                                                                                  \n",
            " skip_connection2_0 (Add)       (None, 15, 1, 6)     0           ['feedforward_0[0][0]',          \n",
            "                                                                  'layer_norm1_0[0][0]']          \n",
            "                                                                                                  \n",
            " layer_norm2_0 (LayerNormalizat  (None, 15, 1, 6)    12          ['skip_connection2_0[0][0]']     \n",
            " ion)                                                                                             \n",
            "                                                                                                  \n",
            " multihead_attention_1 (MultiHe  (None, 15, 1, 6)    654         ['layer_norm2_0[0][0]',          \n",
            " adAttention)                                                     'layer_norm2_0[0][0]']          \n",
            "                                                                                                  \n",
            " skip_connection1_1 (Add)       (None, 15, 1, 6)     0           ['multihead_attention_1[0][0]',  \n",
            "                                                                  'layer_norm2_0[0][0]']          \n",
            "                                                                                                  \n",
            " layer_norm1_1 (LayerNormalizat  (None, 15, 1, 6)    12          ['skip_connection1_1[0][0]']     \n",
            " ion)                                                                                             \n",
            "                                                                                                  \n",
            " feedforward_1 (Sequential)     (None, 15, 1, 6)     54          ['layer_norm1_1[0][0]']          \n",
            "                                                                                                  \n",
            " skip_connection2_1 (Add)       (None, 15, 1, 6)     0           ['feedforward_1[0][0]',          \n",
            "                                                                  'layer_norm1_1[0][0]']          \n",
            "                                                                                                  \n",
            " layer_norm2_1 (LayerNormalizat  (None, 15, 1, 6)    12          ['skip_connection2_1[0][0]']     \n",
            " ion)                                                                                             \n",
            "                                                                                                  \n",
            " multihead_attention_2 (MultiHe  (None, 15, 1, 6)    654         ['layer_norm2_1[0][0]',          \n",
            " adAttention)                                                     'layer_norm2_1[0][0]']          \n",
            "                                                                                                  \n",
            " skip_connection1_2 (Add)       (None, 15, 1, 6)     0           ['multihead_attention_2[0][0]',  \n",
            "                                                                  'layer_norm2_1[0][0]']          \n",
            "                                                                                                  \n",
            " layer_norm1_2 (LayerNormalizat  (None, 15, 1, 6)    12          ['skip_connection1_2[0][0]']     \n",
            " ion)                                                                                             \n",
            "                                                                                                  \n",
            " feedforward_2 (Sequential)     (None, 15, 1, 6)     54          ['layer_norm1_2[0][0]']          \n",
            "                                                                                                  \n",
            " skip_connection2_2 (Add)       (None, 15, 1, 6)     0           ['feedforward_2[0][0]',          \n",
            "                                                                  'layer_norm1_2[0][0]']          \n",
            "                                                                                                  \n",
            " SessionDepth_input (InputLayer  [(None, 1)]         0           []                               \n",
            " )                                                                                                \n",
            "                                                                                                  \n",
            " pb_bid_input (InputLayer)      [(None, 1)]          0           []                               \n",
            "                                                                                                  \n",
            " amzn_bid_input (InputLayer)    [(None, 1)]          0           []                               \n",
            "                                                                                                  \n",
            " max_2nd_bid_input (InputLayer)  [(None, 1)]         0           []                               \n",
            "                                                                                                  \n",
            " layer_norm2_2 (LayerNormalizat  (None, 15, 1, 6)    12          ['skip_connection2_2[0][0]']     \n",
            " ion)                                                                                             \n",
            "                                                                                                  \n",
            " concatenate_4 (Concatenate)    (None, 4)            0           ['SessionDepth_input[0][0]',     \n",
            "                                                                  'pb_bid_input[0][0]',           \n",
            "                                                                  'amzn_bid_input[0][0]',         \n",
            "                                                                  'max_2nd_bid_input[0][0]']      \n",
            "                                                                                                  \n",
            " flatten_16 (Flatten)           (None, 90)           0           ['layer_norm2_2[0][0]']          \n",
            "                                                                                                  \n",
            " layer_normalization_10 (LayerN  (None, 4)           8           ['concatenate_4[0][0]']          \n",
            " ormalization)                                                                                    \n",
            "                                                                                                  \n",
            " concatenate_5 (Concatenate)    (None, 94)           0           ['flatten_16[0][0]',             \n",
            "                                                                  'layer_normalization_10[0][0]'] \n",
            "                                                                                                  \n",
            " MLP (Sequential)               (None, 94)           36002       ['concatenate_5[0][0]']          \n",
            "                                                                                                  \n",
            " last_layer (Dense)             (None, 1)            95          ['MLP[0][0]']                    \n",
            "                                                                                                  \n",
            "==================================================================================================\n",
            "Total params: 41,409\n",
            "Trainable params: 41,221\n",
            "Non-trainable params: 188\n",
            "__________________________________________________________________________________________________\n"
          ]
        }
      ]
    },
    {
      "cell_type": "code",
      "source": [
        "model_img_file = 'model.png'\n",
        "keras.utils.plot_model(model, to_file=model_img_file, show_shapes=True)"
      ],
      "metadata": {
        "colab": {
          "base_uri": "https://localhost:8080/",
          "height": 773
        },
        "id": "jyoFUmitHgr4",
        "outputId": "5fa25c4e-2705-4905-df95-08286802cc03"
      },
      "execution_count": 98,
      "outputs": [
        {
          "output_type": "execute_result",
          "data": {
            "image/png": "[encoded data removed]",
            "text/plain": [
              "<IPython.core.display.Image object>"
            ]
          },
          "metadata": {},
          "execution_count": 98
        }
      ]
    },
    {
      "cell_type": "code",
      "source": [
        "\n",
        "# Compile the model\n",
        "learning_rate = 0.0001\n",
        "model.compile(loss='mean_squared_error', optimizer=keras.optimizers.Adam(learning_rate=learning_rate))\n",
        "experiment.log_parameter(\"learning_rate\", learning_rate)"
      ],
      "metadata": {
        "id": "Uy3ihAUhX_yK"
      },
      "execution_count": 99,
      "outputs": []
    },
    {
      "cell_type": "code",
      "source": [
        "checkpoint_callback = keras.callbacks.ModelCheckpoint(filepath='model_epoch_{epoch:02d}.h5', save_freq='epoch')\n"
      ],
      "metadata": {
        "id": "0iT27u11JdJr"
      },
      "execution_count": 100,
      "outputs": []
    },
    {
      "cell_type": "code",
      "source": [
        "tf.debugging.disable_traceback_filtering()"
      ],
      "metadata": {
        "id": "08ghwNiIbjkB"
      },
      "execution_count": 106,
      "outputs": []
    },
    {
      "cell_type": "code",
      "source": [
        "\n",
        "# Train the model\n",
        "epochs = 8\n",
        "X_categorical = [train_features[cat].values for cat in categorical]\n",
        "X_numeric = [train_features[cat].values for cat in numeric_features_scale] \n",
        "y = train_labels\n",
        "model.fit(X_categorical + X_numeric, y, \n",
        "          epochs=epochs, batch_size=64, verbose=1, validation_freq=0.2, callbacks=[checkpoint_callback])\n",
        "\n",
        "experiment.log_parameter(\"epochs\", epochs)"
      ],
      "metadata": {
        "colab": {
          "base_uri": "https://localhost:8080/",
          "height": 1000
        },
        "id": "2XYUa-vGYBhr",
        "outputId": "9b2606dd-e78f-4e90-d6c4-067ae4e8b4ea"
      },
      "execution_count": 107,
      "outputs": [
        {
          "output_type": "stream",
          "name": "stdout",
          "text": [
            "Epoch 1/8\n"
          ]
        },
        {
          "output_type": "error",
          "ename": "TypeError",
          "evalue": "ignored",
          "traceback": [
            "\u001b[0;31m---------------------------------------------------------------------------\u001b[0m",
            "\u001b[0;31mTypeError\u001b[0m                                 Traceback (most recent call last)",
            "\u001b[0;32m<ipython-input-107-40f53a760677>\u001b[0m in \u001b[0;36m<cell line: 6>\u001b[0;34m()\u001b[0m\n\u001b[1;32m      4\u001b[0m \u001b[0mX_numeric\u001b[0m \u001b[0;34m=\u001b[0m \u001b[0;34m[\u001b[0m\u001b[0mtrain_features\u001b[0m\u001b[0;34m[\u001b[0m\u001b[0mcat\u001b[0m\u001b[0;34m]\u001b[0m\u001b[0;34m.\u001b[0m\u001b[0mvalues\u001b[0m \u001b[0;32mfor\u001b[0m \u001b[0mcat\u001b[0m \u001b[0;32min\u001b[0m \u001b[0mnumeric_features_scale\u001b[0m\u001b[0;34m]\u001b[0m\u001b[0;34m\u001b[0m\u001b[0;34m\u001b[0m\u001b[0m\n\u001b[1;32m      5\u001b[0m \u001b[0my\u001b[0m \u001b[0;34m=\u001b[0m \u001b[0mtrain_labels\u001b[0m\u001b[0;34m\u001b[0m\u001b[0;34m\u001b[0m\u001b[0m\n\u001b[0;32m----> 6\u001b[0;31m model.fit(X_categorical + X_numeric, y, \n\u001b[0m\u001b[1;32m      7\u001b[0m           epochs=epochs, batch_size=64, verbose=1, validation_freq=0.2, callbacks=[checkpoint_callback])\n\u001b[1;32m      8\u001b[0m \u001b[0;34m\u001b[0m\u001b[0m\n",
            "\u001b[0;32m/usr/local/lib/python3.10/dist-packages/comet_ml/monkey_patching.py\u001b[0m in \u001b[0;36mwrapper\u001b[0;34m(*args, **kwargs)\u001b[0m\n\u001b[1;32m    351\u001b[0m \u001b[0;34m\u001b[0m\u001b[0m\n\u001b[1;32m    352\u001b[0m         \u001b[0;32mif\u001b[0m \u001b[0mexception_raised\u001b[0m \u001b[0;32mis\u001b[0m \u001b[0;32mnot\u001b[0m \u001b[0;32mNone\u001b[0m\u001b[0;34m:\u001b[0m\u001b[0;34m\u001b[0m\u001b[0;34m\u001b[0m\u001b[0m\n\u001b[0;32m--> 353\u001b[0;31m             \u001b[0;32mraise\u001b[0m \u001b[0mexception_raised\u001b[0m\u001b[0;34m\u001b[0m\u001b[0;34m\u001b[0m\u001b[0m\n\u001b[0m\u001b[1;32m    354\u001b[0m \u001b[0;34m\u001b[0m\u001b[0m\n\u001b[1;32m    355\u001b[0m         \u001b[0;32mreturn\u001b[0m \u001b[0mreturn_value\u001b[0m\u001b[0;34m\u001b[0m\u001b[0;34m\u001b[0m\u001b[0m\n",
            "\u001b[0;32m/usr/local/lib/python3.10/dist-packages/comet_ml/monkey_patching.py\u001b[0m in \u001b[0;36mwrapper\u001b[0;34m(*args, **kwargs)\u001b[0m\n\u001b[1;32m    322\u001b[0m         \u001b[0mexception_raised\u001b[0m \u001b[0;34m=\u001b[0m \u001b[0;32mNone\u001b[0m\u001b[0;34m\u001b[0m\u001b[0;34m\u001b[0m\u001b[0m\n\u001b[1;32m    323\u001b[0m         \u001b[0;32mtry\u001b[0m\u001b[0;34m:\u001b[0m\u001b[0;34m\u001b[0m\u001b[0;34m\u001b[0m\u001b[0m\n\u001b[0;32m--> 324\u001b[0;31m             \u001b[0mreturn_value\u001b[0m \u001b[0;34m=\u001b[0m \u001b[0moriginal\u001b[0m\u001b[0;34m(\u001b[0m\u001b[0;34m*\u001b[0m\u001b[0margs\u001b[0m\u001b[0;34m,\u001b[0m \u001b[0;34m**\u001b[0m\u001b[0mkwargs\u001b[0m\u001b[0;34m)\u001b[0m\u001b[0;34m\u001b[0m\u001b[0;34m\u001b[0m\u001b[0m\n\u001b[0m\u001b[1;32m    325\u001b[0m         \u001b[0;32mexcept\u001b[0m \u001b[0mException\u001b[0m \u001b[0;32mas\u001b[0m \u001b[0mexception\u001b[0m\u001b[0;34m:\u001b[0m\u001b[0;34m\u001b[0m\u001b[0;34m\u001b[0m\u001b[0m\n\u001b[1;32m    326\u001b[0m             \u001b[0mexception_raised\u001b[0m \u001b[0;34m=\u001b[0m \u001b[0mexception\u001b[0m\u001b[0;34m\u001b[0m\u001b[0;34m\u001b[0m\u001b[0m\n",
            "\u001b[0;32m/usr/local/lib/python3.10/dist-packages/keras/utils/traceback_utils.py\u001b[0m in \u001b[0;36merror_handler\u001b[0;34m(*args, **kwargs)\u001b[0m\n\u001b[1;32m     59\u001b[0m     \u001b[0;32mdef\u001b[0m \u001b[0merror_handler\u001b[0m\u001b[0;34m(\u001b[0m\u001b[0;34m*\u001b[0m\u001b[0margs\u001b[0m\u001b[0;34m,\u001b[0m \u001b[0;34m**\u001b[0m\u001b[0mkwargs\u001b[0m\u001b[0;34m)\u001b[0m\u001b[0;34m:\u001b[0m\u001b[0;34m\u001b[0m\u001b[0;34m\u001b[0m\u001b[0m\n\u001b[1;32m     60\u001b[0m         \u001b[0;32mif\u001b[0m \u001b[0;32mnot\u001b[0m \u001b[0mtf\u001b[0m\u001b[0;34m.\u001b[0m\u001b[0mdebugging\u001b[0m\u001b[0;34m.\u001b[0m\u001b[0mis_traceback_filtering_enabled\u001b[0m\u001b[0;34m(\u001b[0m\u001b[0;34m)\u001b[0m\u001b[0;34m:\u001b[0m\u001b[0;34m\u001b[0m\u001b[0;34m\u001b[0m\u001b[0m\n\u001b[0;32m---> 61\u001b[0;31m             \u001b[0;32mreturn\u001b[0m \u001b[0mfn\u001b[0m\u001b[0;34m(\u001b[0m\u001b[0;34m*\u001b[0m\u001b[0margs\u001b[0m\u001b[0;34m,\u001b[0m \u001b[0;34m**\u001b[0m\u001b[0mkwargs\u001b[0m\u001b[0;34m)\u001b[0m\u001b[0;34m\u001b[0m\u001b[0;34m\u001b[0m\u001b[0m\n\u001b[0m\u001b[1;32m     62\u001b[0m \u001b[0;34m\u001b[0m\u001b[0m\n\u001b[1;32m     63\u001b[0m         \u001b[0mfiltered_tb\u001b[0m \u001b[0;34m=\u001b[0m \u001b[0;32mNone\u001b[0m\u001b[0;34m\u001b[0m\u001b[0;34m\u001b[0m\u001b[0m\n",
            "\u001b[0;32m/usr/local/lib/python3.10/dist-packages/keras/engine/training.py\u001b[0m in \u001b[0;36mfit\u001b[0;34m(self, x, y, batch_size, epochs, verbose, callbacks, validation_split, validation_data, shuffle, class_weight, sample_weight, initial_epoch, steps_per_epoch, validation_steps, validation_batch_size, validation_freq, max_queue_size, workers, use_multiprocessing)\u001b[0m\n\u001b[1;32m   1683\u001b[0m                         ):\n\u001b[1;32m   1684\u001b[0m                             \u001b[0mcallbacks\u001b[0m\u001b[0;34m.\u001b[0m\u001b[0mon_train_batch_begin\u001b[0m\u001b[0;34m(\u001b[0m\u001b[0mstep\u001b[0m\u001b[0;34m)\u001b[0m\u001b[0;34m\u001b[0m\u001b[0;34m\u001b[0m\u001b[0m\n\u001b[0;32m-> 1685\u001b[0;31m                             \u001b[0mtmp_logs\u001b[0m \u001b[0;34m=\u001b[0m \u001b[0mself\u001b[0m\u001b[0;34m.\u001b[0m\u001b[0mtrain_function\u001b[0m\u001b[0;34m(\u001b[0m\u001b[0miterator\u001b[0m\u001b[0;34m)\u001b[0m\u001b[0;34m\u001b[0m\u001b[0;34m\u001b[0m\u001b[0m\n\u001b[0m\u001b[1;32m   1686\u001b[0m                             \u001b[0;32mif\u001b[0m \u001b[0mdata_handler\u001b[0m\u001b[0;34m.\u001b[0m\u001b[0mshould_sync\u001b[0m\u001b[0;34m:\u001b[0m\u001b[0;34m\u001b[0m\u001b[0;34m\u001b[0m\u001b[0m\n\u001b[1;32m   1687\u001b[0m                                 \u001b[0mcontext\u001b[0m\u001b[0;34m.\u001b[0m\u001b[0masync_wait\u001b[0m\u001b[0;34m(\u001b[0m\u001b[0;34m)\u001b[0m\u001b[0;34m\u001b[0m\u001b[0;34m\u001b[0m\u001b[0m\n",
            "\u001b[0;32m/usr/local/lib/python3.10/dist-packages/tensorflow/python/util/traceback_utils.py\u001b[0m in \u001b[0;36merror_handler\u001b[0;34m(*args, **kwargs)\u001b[0m\n\u001b[1;32m    139\u001b[0m     \u001b[0;32mtry\u001b[0m\u001b[0;34m:\u001b[0m\u001b[0;34m\u001b[0m\u001b[0;34m\u001b[0m\u001b[0m\n\u001b[1;32m    140\u001b[0m       \u001b[0;32mif\u001b[0m \u001b[0;32mnot\u001b[0m \u001b[0mis_traceback_filtering_enabled\u001b[0m\u001b[0;34m(\u001b[0m\u001b[0;34m)\u001b[0m\u001b[0;34m:\u001b[0m\u001b[0;34m\u001b[0m\u001b[0;34m\u001b[0m\u001b[0m\n\u001b[0;32m--> 141\u001b[0;31m         \u001b[0;32mreturn\u001b[0m \u001b[0mfn\u001b[0m\u001b[0;34m(\u001b[0m\u001b[0;34m*\u001b[0m\u001b[0margs\u001b[0m\u001b[0;34m,\u001b[0m \u001b[0;34m**\u001b[0m\u001b[0mkwargs\u001b[0m\u001b[0;34m)\u001b[0m\u001b[0;34m\u001b[0m\u001b[0;34m\u001b[0m\u001b[0m\n\u001b[0m\u001b[1;32m    142\u001b[0m     \u001b[0;32mexcept\u001b[0m \u001b[0mNameError\u001b[0m\u001b[0;34m:\u001b[0m\u001b[0;34m\u001b[0m\u001b[0;34m\u001b[0m\u001b[0m\n\u001b[1;32m    143\u001b[0m       \u001b[0;31m# In some very rare cases,\u001b[0m\u001b[0;34m\u001b[0m\u001b[0;34m\u001b[0m\u001b[0m\n",
            "\u001b[0;32m/usr/local/lib/python3.10/dist-packages/tensorflow/python/eager/polymorphic_function/polymorphic_function.py\u001b[0m in \u001b[0;36m__call__\u001b[0;34m(self, *args, **kwds)\u001b[0m\n\u001b[1;32m    892\u001b[0m \u001b[0;34m\u001b[0m\u001b[0m\n\u001b[1;32m    893\u001b[0m       \u001b[0;32mwith\u001b[0m \u001b[0mOptionalXlaContext\u001b[0m\u001b[0;34m(\u001b[0m\u001b[0mself\u001b[0m\u001b[0;34m.\u001b[0m\u001b[0m_jit_compile\u001b[0m\u001b[0;34m)\u001b[0m\u001b[0;34m:\u001b[0m\u001b[0;34m\u001b[0m\u001b[0;34m\u001b[0m\u001b[0m\n\u001b[0;32m--> 894\u001b[0;31m         \u001b[0mresult\u001b[0m \u001b[0;34m=\u001b[0m \u001b[0mself\u001b[0m\u001b[0;34m.\u001b[0m\u001b[0m_call\u001b[0m\u001b[0;34m(\u001b[0m\u001b[0;34m*\u001b[0m\u001b[0margs\u001b[0m\u001b[0;34m,\u001b[0m \u001b[0;34m**\u001b[0m\u001b[0mkwds\u001b[0m\u001b[0;34m)\u001b[0m\u001b[0;34m\u001b[0m\u001b[0;34m\u001b[0m\u001b[0m\n\u001b[0m\u001b[1;32m    895\u001b[0m \u001b[0;34m\u001b[0m\u001b[0m\n\u001b[1;32m    896\u001b[0m       \u001b[0mnew_tracing_count\u001b[0m \u001b[0;34m=\u001b[0m \u001b[0mself\u001b[0m\u001b[0;34m.\u001b[0m\u001b[0mexperimental_get_tracing_count\u001b[0m\u001b[0;34m(\u001b[0m\u001b[0;34m)\u001b[0m\u001b[0;34m\u001b[0m\u001b[0;34m\u001b[0m\u001b[0m\n",
            "\u001b[0;32m/usr/local/lib/python3.10/dist-packages/tensorflow/python/eager/polymorphic_function/polymorphic_function.py\u001b[0m in \u001b[0;36m_call\u001b[0;34m(self, *args, **kwds)\u001b[0m\n\u001b[1;32m    924\u001b[0m       \u001b[0;31m# In this case we have created variables on the first call, so we run the\u001b[0m\u001b[0;34m\u001b[0m\u001b[0;34m\u001b[0m\u001b[0m\n\u001b[1;32m    925\u001b[0m       \u001b[0;31m# defunned version which is guaranteed to never create variables.\u001b[0m\u001b[0;34m\u001b[0m\u001b[0;34m\u001b[0m\u001b[0m\n\u001b[0;32m--> 926\u001b[0;31m       \u001b[0;32mreturn\u001b[0m \u001b[0mself\u001b[0m\u001b[0;34m.\u001b[0m\u001b[0m_no_variable_creation_fn\u001b[0m\u001b[0;34m(\u001b[0m\u001b[0;34m*\u001b[0m\u001b[0margs\u001b[0m\u001b[0;34m,\u001b[0m \u001b[0;34m**\u001b[0m\u001b[0mkwds\u001b[0m\u001b[0;34m)\u001b[0m  \u001b[0;31m# pylint: disable=not-callable\u001b[0m\u001b[0;34m\u001b[0m\u001b[0;34m\u001b[0m\u001b[0m\n\u001b[0m\u001b[1;32m    927\u001b[0m     \u001b[0;32melif\u001b[0m \u001b[0mself\u001b[0m\u001b[0;34m.\u001b[0m\u001b[0m_variable_creation_fn\u001b[0m \u001b[0;32mis\u001b[0m \u001b[0;32mnot\u001b[0m \u001b[0;32mNone\u001b[0m\u001b[0;34m:\u001b[0m\u001b[0;34m\u001b[0m\u001b[0;34m\u001b[0m\u001b[0m\n\u001b[1;32m    928\u001b[0m       \u001b[0;31m# Release the lock early so that multiple threads can perform the call\u001b[0m\u001b[0;34m\u001b[0m\u001b[0;34m\u001b[0m\u001b[0m\n",
            "\u001b[0;31mTypeError\u001b[0m: 'NoneType' object is not callable"
          ]
        }
      ]
    },
    {
      "cell_type": "code",
      "source": [
        "# # Evaluate the model\n",
        "# test_loss = model.evaluate(test_features, test_labels)\n",
        "# print('Test Loss:', test_loss)"
      ],
      "metadata": {
        "id": "ki9SZjPSYJCX"
      },
      "execution_count": 48,
      "outputs": []
    },
    {
      "cell_type": "code",
      "source": [
        "from sklearn.metrics import mean_squared_error\n",
        "X_categorical_test = [test_features[cat].values for cat in categorical]\n",
        "X_numeric_test = test_features[numeric_features_scale].values\n",
        "\n",
        "y_pred = model.predict(X_categorical_test + [X_numeric_test])\n",
        "mse = mean_squared_error(y_pred, test_labels)\n",
        "print(mse)\n",
        "experiment.log_metric('mse before inverse_transform', mse)"
      ],
      "metadata": {
        "colab": {
          "base_uri": "https://localhost:8080/"
        },
        "id": "5RaZqhVK0BVU",
        "outputId": "307a175d-f707-4db5-d4b2-bed3303767ae"
      },
      "execution_count": 49,
      "outputs": [
        {
          "output_type": "stream",
          "name": "stdout",
          "text": [
            "16704/16704 [==============================] - 37s 2ms/step\n",
            "0.3121153112607021\n"
          ]
        }
      ]
    },
    {
      "cell_type": "code",
      "source": [
        "test_labels[:10]"
      ],
      "metadata": {
        "colab": {
          "base_uri": "https://localhost:8080/"
        },
        "id": "ZNsDGb_1mNGd",
        "outputId": "1c07cf55-69a3-4134-b84d-8653b10ae060"
      },
      "execution_count": 50,
      "outputs": [
        {
          "output_type": "execute_result",
          "data": {
            "text/plain": [
              "164923    0.179687\n",
              "18439    -0.495438\n",
              "89295     0.429901\n",
              "136925    1.983028\n",
              "222253    0.601218\n",
              "954384   -0.558555\n",
              "345329   -0.604766\n",
              "1805     -0.270021\n",
              "142422   -0.508964\n",
              "605117   -0.235081\n",
              "Name: bid_sc, dtype: float64"
            ]
          },
          "metadata": {},
          "execution_count": 50
        }
      ]
    },
    {
      "cell_type": "code",
      "source": [
        "y_pred[:10]"
      ],
      "metadata": {
        "colab": {
          "base_uri": "https://localhost:8080/"
        },
        "id": "RDrkIeK4mQAW",
        "outputId": "61f81bf1-3821-4f37-a010-f14236e62c6f"
      },
      "execution_count": 51,
      "outputs": [
        {
          "output_type": "execute_result",
          "data": {
            "text/plain": [
              "array([[-0.3803083 ],\n",
              "       [-0.46702072],\n",
              "       [ 0.5263295 ],\n",
              "       [ 2.4755518 ],\n",
              "       [ 0.54801023],\n",
              "       [-0.51428676],\n",
              "       [-0.52660763],\n",
              "       [-0.3008652 ],\n",
              "       [-0.46939325],\n",
              "       [-0.01557714]], dtype=float32)"
            ]
          },
          "metadata": {},
          "execution_count": 51
        }
      ]
    },
    {
      "cell_type": "code",
      "source": [
        "test_full_df = test_features\n",
        "# test_full_df['y_pred_deep'] = y_pred\n",
        "test_full_df['y_pred_deep'] = scaler_y.inverse_transform(y_pred)\n",
        "# test_full_df['y_pred_deep'] = scaler_y.inverse_transform(y_pred).squeeze() * np.maximum(test_data['max_2nd_bid'], 0.0001)\n",
        "# test_full_df['bid'] = test_data['bid']\n",
        "test_full_df['bid'] = scaler_y.inverse_transform(test_labels.values.reshape(-1, 1))\n"
      ],
      "metadata": {
        "colab": {
          "base_uri": "https://localhost:8080/"
        },
        "id": "nyusKRne1SoS",
        "outputId": "c7675f68-8581-430c-bbf8-acfb7a4f37a8"
      },
      "execution_count": 52,
      "outputs": [
        {
          "output_type": "stream",
          "name": "stderr",
          "text": [
            "<ipython-input-52-b9d2a0a62250>:2: SettingWithCopyWarning: \n",
            "A value is trying to be set on a copy of a slice from a DataFrame.\n",
            "Try using .loc[row_indexer,col_indexer] = value instead\n",
            "\n",
            "See the caveats in the documentation: https://pandas.pydata.org/pandas-docs/stable/user_guide/indexing.html#returning-a-view-versus-a-copy\n",
            "  test_full_df['y_pred_deep'] = y_pred\n",
            "<ipython-input-52-b9d2a0a62250>:6: SettingWithCopyWarning: \n",
            "A value is trying to be set on a copy of a slice from a DataFrame.\n",
            "Try using .loc[row_indexer,col_indexer] = value instead\n",
            "\n",
            "See the caveats in the documentation: https://pandas.pydata.org/pandas-docs/stable/user_guide/indexing.html#returning-a-view-versus-a-copy\n",
            "  test_full_df['bid'] = scaler_y.inverse_transform(test_labels.values.reshape(-1, 1))\n"
          ]
        }
      ]
    },
    {
      "cell_type": "code",
      "source": [
        "\n",
        "# test_full_df[numeric_features] = scaler.inverse_transform(test_full_df[numeric_features])\n"
      ],
      "metadata": {
        "id": "VZjglt2FNnvO"
      },
      "execution_count": 53,
      "outputs": []
    },
    {
      "cell_type": "code",
      "source": [
        "\n",
        "for col, encoder in le.items():\n",
        "  test_full_df[col] = encoder.inverse_transform(test_full_df[col])\n"
      ],
      "metadata": {
        "colab": {
          "base_uri": "https://localhost:8080/"
        },
        "id": "_vD7yguxdeX8",
        "outputId": "33c9c8c9-bf6f-4005-de54-47d830aa500a"
      },
      "execution_count": 54,
      "outputs": [
        {
          "output_type": "stream",
          "name": "stderr",
          "text": [
            "<ipython-input-54-91b8fee747ab>:2: SettingWithCopyWarning: \n",
            "A value is trying to be set on a copy of a slice from a DataFrame.\n",
            "Try using .loc[row_indexer,col_indexer] = value instead\n",
            "\n",
            "See the caveats in the documentation: https://pandas.pydata.org/pandas-docs/stable/user_guide/indexing.html#returning-a-view-versus-a-copy\n",
            "  test_full_df[col] = encoder.inverse_transform(test_full_df[col])\n",
            "<ipython-input-54-91b8fee747ab>:2: SettingWithCopyWarning: \n",
            "A value is trying to be set on a copy of a slice from a DataFrame.\n",
            "Try using .loc[row_indexer,col_indexer] = value instead\n",
            "\n",
            "See the caveats in the documentation: https://pandas.pydata.org/pandas-docs/stable/user_guide/indexing.html#returning-a-view-versus-a-copy\n",
            "  test_full_df[col] = encoder.inverse_transform(test_full_df[col])\n",
            "<ipython-input-54-91b8fee747ab>:2: SettingWithCopyWarning: \n",
            "A value is trying to be set on a copy of a slice from a DataFrame.\n",
            "Try using .loc[row_indexer,col_indexer] = value instead\n",
            "\n",
            "See the caveats in the documentation: https://pandas.pydata.org/pandas-docs/stable/user_guide/indexing.html#returning-a-view-versus-a-copy\n",
            "  test_full_df[col] = encoder.inverse_transform(test_full_df[col])\n",
            "<ipython-input-54-91b8fee747ab>:2: SettingWithCopyWarning: \n",
            "A value is trying to be set on a copy of a slice from a DataFrame.\n",
            "Try using .loc[row_indexer,col_indexer] = value instead\n",
            "\n",
            "See the caveats in the documentation: https://pandas.pydata.org/pandas-docs/stable/user_guide/indexing.html#returning-a-view-versus-a-copy\n",
            "  test_full_df[col] = encoder.inverse_transform(test_full_df[col])\n",
            "<ipython-input-54-91b8fee747ab>:2: SettingWithCopyWarning: \n",
            "A value is trying to be set on a copy of a slice from a DataFrame.\n",
            "Try using .loc[row_indexer,col_indexer] = value instead\n",
            "\n",
            "See the caveats in the documentation: https://pandas.pydata.org/pandas-docs/stable/user_guide/indexing.html#returning-a-view-versus-a-copy\n",
            "  test_full_df[col] = encoder.inverse_transform(test_full_df[col])\n",
            "<ipython-input-54-91b8fee747ab>:2: SettingWithCopyWarning: \n",
            "A value is trying to be set on a copy of a slice from a DataFrame.\n",
            "Try using .loc[row_indexer,col_indexer] = value instead\n",
            "\n",
            "See the caveats in the documentation: https://pandas.pydata.org/pandas-docs/stable/user_guide/indexing.html#returning-a-view-versus-a-copy\n",
            "  test_full_df[col] = encoder.inverse_transform(test_full_df[col])\n",
            "<ipython-input-54-91b8fee747ab>:2: SettingWithCopyWarning: \n",
            "A value is trying to be set on a copy of a slice from a DataFrame.\n",
            "Try using .loc[row_indexer,col_indexer] = value instead\n",
            "\n",
            "See the caveats in the documentation: https://pandas.pydata.org/pandas-docs/stable/user_guide/indexing.html#returning-a-view-versus-a-copy\n",
            "  test_full_df[col] = encoder.inverse_transform(test_full_df[col])\n",
            "<ipython-input-54-91b8fee747ab>:2: SettingWithCopyWarning: \n",
            "A value is trying to be set on a copy of a slice from a DataFrame.\n",
            "Try using .loc[row_indexer,col_indexer] = value instead\n",
            "\n",
            "See the caveats in the documentation: https://pandas.pydata.org/pandas-docs/stable/user_guide/indexing.html#returning-a-view-versus-a-copy\n",
            "  test_full_df[col] = encoder.inverse_transform(test_full_df[col])\n",
            "<ipython-input-54-91b8fee747ab>:2: SettingWithCopyWarning: \n",
            "A value is trying to be set on a copy of a slice from a DataFrame.\n",
            "Try using .loc[row_indexer,col_indexer] = value instead\n",
            "\n",
            "See the caveats in the documentation: https://pandas.pydata.org/pandas-docs/stable/user_guide/indexing.html#returning-a-view-versus-a-copy\n",
            "  test_full_df[col] = encoder.inverse_transform(test_full_df[col])\n",
            "<ipython-input-54-91b8fee747ab>:2: SettingWithCopyWarning: \n",
            "A value is trying to be set on a copy of a slice from a DataFrame.\n",
            "Try using .loc[row_indexer,col_indexer] = value instead\n",
            "\n",
            "See the caveats in the documentation: https://pandas.pydata.org/pandas-docs/stable/user_guide/indexing.html#returning-a-view-versus-a-copy\n",
            "  test_full_df[col] = encoder.inverse_transform(test_full_df[col])\n",
            "<ipython-input-54-91b8fee747ab>:2: SettingWithCopyWarning: \n",
            "A value is trying to be set on a copy of a slice from a DataFrame.\n",
            "Try using .loc[row_indexer,col_indexer] = value instead\n",
            "\n",
            "See the caveats in the documentation: https://pandas.pydata.org/pandas-docs/stable/user_guide/indexing.html#returning-a-view-versus-a-copy\n",
            "  test_full_df[col] = encoder.inverse_transform(test_full_df[col])\n",
            "<ipython-input-54-91b8fee747ab>:2: SettingWithCopyWarning: \n",
            "A value is trying to be set on a copy of a slice from a DataFrame.\n",
            "Try using .loc[row_indexer,col_indexer] = value instead\n",
            "\n",
            "See the caveats in the documentation: https://pandas.pydata.org/pandas-docs/stable/user_guide/indexing.html#returning-a-view-versus-a-copy\n",
            "  test_full_df[col] = encoder.inverse_transform(test_full_df[col])\n",
            "<ipython-input-54-91b8fee747ab>:2: SettingWithCopyWarning: \n",
            "A value is trying to be set on a copy of a slice from a DataFrame.\n",
            "Try using .loc[row_indexer,col_indexer] = value instead\n",
            "\n",
            "See the caveats in the documentation: https://pandas.pydata.org/pandas-docs/stable/user_guide/indexing.html#returning-a-view-versus-a-copy\n",
            "  test_full_df[col] = encoder.inverse_transform(test_full_df[col])\n",
            "<ipython-input-54-91b8fee747ab>:2: SettingWithCopyWarning: \n",
            "A value is trying to be set on a copy of a slice from a DataFrame.\n",
            "Try using .loc[row_indexer,col_indexer] = value instead\n",
            "\n",
            "See the caveats in the documentation: https://pandas.pydata.org/pandas-docs/stable/user_guide/indexing.html#returning-a-view-versus-a-copy\n",
            "  test_full_df[col] = encoder.inverse_transform(test_full_df[col])\n",
            "<ipython-input-54-91b8fee747ab>:2: SettingWithCopyWarning: \n",
            "A value is trying to be set on a copy of a slice from a DataFrame.\n",
            "Try using .loc[row_indexer,col_indexer] = value instead\n",
            "\n",
            "See the caveats in the documentation: https://pandas.pydata.org/pandas-docs/stable/user_guide/indexing.html#returning-a-view-versus-a-copy\n",
            "  test_full_df[col] = encoder.inverse_transform(test_full_df[col])\n"
          ]
        }
      ]
    },
    {
      "cell_type": "code",
      "source": [
        "# define groups and sizes\n",
        "\n",
        "source_cat = {\n",
        "    'google' : ['google'],\n",
        "    'facebook' : ['facebook'],\n",
        "    'outbrain' : ['outbrain', 'Other', \"pinterest\"]\n",
        "}\n",
        "sizes = ['high', 'low']\n",
        "\n",
        "def read_data_grouped(dir_name):\n",
        "    test_df = {value : {group_name : pd.read_csv(f'{dir_name}/sampled_1M_{value}_{group_name}_test.csv.gz', low_memory=False) for group_name in source_cat.keys()} for value in sizes}\n",
        "    return test_df\n",
        "\n",
        "group_df = read_data_grouped('/content')"
      ],
      "metadata": {
        "id": "y_E4dvNPrExb"
      },
      "execution_count": 55,
      "outputs": []
    },
    {
      "cell_type": "code",
      "source": [
        "concat_test_df = pd.concat([group_df[value][group_name] for value in sizes for group_name in source_cat])\n"
      ],
      "metadata": {
        "id": "RCL_57OuxkgB"
      },
      "execution_count": 56,
      "outputs": []
    },
    {
      "cell_type": "code",
      "source": [
        "concat_test_df['epoch'] = concat_test_df['EventTimeUsec2'] // 1000000"
      ],
      "metadata": {
        "id": "75I_BEQDcNXO"
      },
      "execution_count": 57,
      "outputs": []
    },
    {
      "cell_type": "code",
      "source": [
        "concat_test_df.loc[concat_test_df['CountryCode'] == 'us', 'State'] = concat_test_df.loc[concat_test_df['CountryCode'] == 'us', 'Region']\n",
        "concat_test_df.loc[concat_test_df['CountryCode'] != 'us', 'State'] = 'unknown'"
      ],
      "metadata": {
        "id": "KhPZdlJ_cQZ6"
      },
      "execution_count": 58,
      "outputs": []
    },
    {
      "cell_type": "code",
      "source": [
        "concat_test_df = concat_test_df.loc[~((concat_test_df['CountryCode'] == 'us') & ~(concat_test_df['State'].isin(us_state_tz['state']))), :]"
      ],
      "metadata": {
        "id": "hjZcJNKoci94"
      },
      "execution_count": 59,
      "outputs": []
    },
    {
      "cell_type": "code",
      "source": [
        "concat_test_df = time_features(concat_test_df)"
      ],
      "metadata": {
        "id": "R9XRDOH6ckB0"
      },
      "execution_count": 60,
      "outputs": []
    },
    {
      "cell_type": "code",
      "source": [
        "concat_test_df = concat_test_df.fillna(\"0\")"
      ],
      "metadata": {
        "id": "Ajzqwns2R41H"
      },
      "execution_count": 61,
      "outputs": []
    },
    {
      "cell_type": "code",
      "source": [
        "concat_test_df = concat_test_df[~(concat_test_df['Browser'].isin(['wechat','puffin','waterfox']))]\n",
        "concat_test_df = concat_test_df[~(concat_test_df['CountryCode'].isin([\"cv\", 'sl']))]\n",
        "concat_test_df = concat_test_df[~(concat_test_df['RefererURL'].isin(['epiqlife.com', 'thesweetpaprika.com', 'lifelistener.com']))]"
      ],
      "metadata": {
        "id": "hep5-oqUZqbL"
      },
      "execution_count": 62,
      "outputs": []
    },
    {
      "cell_type": "code",
      "source": [
        "concat_test_df[categorical+numeric_features].shape"
      ],
      "metadata": {
        "colab": {
          "base_uri": "https://localhost:8080/"
        },
        "id": "mSafvy0QfDdA",
        "outputId": "0977cd13-1d5d-4531-fe62-6facb4a36a34"
      },
      "execution_count": 63,
      "outputs": [
        {
          "output_type": "execute_result",
          "data": {
            "text/plain": [
              "(1611443, 19)"
            ]
          },
          "metadata": {},
          "execution_count": 63
        }
      ]
    },
    {
      "cell_type": "code",
      "source": [
        "concat_test_df[numeric_features] = scaler.transform(concat_test_df[numeric_features])\n",
        "# concat_test_df['bid'] = scaler_y.transform(concat_test_df['bid'].values.reshape(-1, 1))\n",
        "\n",
        "for col, encoder in le.items():\n",
        "  print(col)\n",
        "  concat_test_df[col] = encoder.transform(concat_test_df[col])\n",
        "\n"
      ],
      "metadata": {
        "colab": {
          "base_uri": "https://localhost:8080/"
        },
        "id": "OufW2e5uyPe2",
        "outputId": "73dd2174-e897-4fcf-be76-802fcc6f27ed"
      },
      "execution_count": 64,
      "outputs": [
        {
          "output_type": "stream",
          "name": "stdout",
          "text": [
            "Browser\n",
            "CountryCode\n",
            "State\n",
            "OS\n",
            "RefererURL\n",
            "source\n",
            "platform\n",
            "medium\n",
            "hb_bidder\n",
            "bf_bidder\n",
            "weekday\n",
            "is_weekend\n",
            "part_of_day\n",
            "utc_hour\n",
            "local_hour\n"
          ]
        }
      ]
    },
    {
      "cell_type": "code",
      "source": [
        "concat_test_df"
      ],
      "metadata": {
        "colab": {
          "base_uri": "https://localhost:8080/",
          "height": 522
        },
        "id": "QYQHAiGORXPX",
        "outputId": "01f0076b-f022-4106-838c-5529c3e9438a"
      },
      "execution_count": 65,
      "outputs": [
        {
          "output_type": "execute_result",
          "data": {
            "text/plain": [
              "         index    EventTimeUsec2  SessionDepth                      Region  \\\n",
              "0          157  1682221905057877     -0.227352                     Alabama   \n",
              "1          240  1682224791012949     -0.682963                      Nevada   \n",
              "2          294  1682125907543444      0.130628                     Alabama   \n",
              "3          303  1682279914490941     -0.390070                     Ontario   \n",
              "4          434  1682111915330148     -0.455158                    Limerick   \n",
              "...        ...               ...           ...                         ...   \n",
              "250285  681056  1682192371424239     -0.162265                     England   \n",
              "250286  681140  1682282530549083     -0.357527                     Florida   \n",
              "250287  681702  1682186934602556     -0.422614  Metropolitan City of Milan   \n",
              "250288  681777  1682268969605636      0.065541                    Missouri   \n",
              "250289  681811  1682233222928940     -0.357527           Baden-Wurttemberg   \n",
              "\n",
              "        RefererURL  platform    source_medium  OS  Browser  CountryCode  ...  \\\n",
              "0               29         1      google/paid   0        6          195  ...   \n",
              "1               29         1      google/paid   0        6          195  ...   \n",
              "2               29         1      google/paid   4       12          195  ...   \n",
              "3               48         1      google/paid   0        6           33  ...   \n",
              "4               29         1      google/paid   0        6           87  ...   \n",
              "...            ...       ...              ...  ..      ...          ...  ...   \n",
              "250285          87         1   outbrain3/paid   0        6           65  ...   \n",
              "250286          41         1   outbrain1/paid   0        9          195  ...   \n",
              "250287         102         1  outbrain19/paid   0        6           95  ...   \n",
              "250288          48         0    outbrain/paid   9        9          195  ...   \n",
              "250289         102         1        undefined   0       23           49  ...   \n",
              "\n",
              "       max_2nd_bid source  medium       epoch  State  local_hour  weekday  \\\n",
              "0         1.201253      2       3  1682221905      0          21        2   \n",
              "1         5.170177      2       3  1682224791     28          20        2   \n",
              "2         1.146130      2       3  1682125907      0          19        1   \n",
              "3         2.487479      2       3  1682279914     53          17        2   \n",
              "4         1.678994      2       3  1682111915     53          22        0   \n",
              "...            ...    ...     ...         ...    ...         ...      ...   \n",
              "250285   -0.213594      3       3  1682192371     53          20        1   \n",
              "250286    0.319271      3       3  1682282530      9          15        2   \n",
              "250287   -0.287093      3       3  1682186934     53          20        1   \n",
              "250288   -0.268718      3       3  1682268969     25          10        2   \n",
              "250289   -0.287093      0       0  1682233222     53           9        2   \n",
              "\n",
              "        is_weekend  part_of_day  utc_hour  \n",
              "0                1            3         3  \n",
              "1                1            3         4  \n",
              "2                1            3         1  \n",
              "3                1            2        19  \n",
              "4                0            3        21  \n",
              "...            ...          ...       ...  \n",
              "250285           1            3        19  \n",
              "250286           1            2        20  \n",
              "250287           1            3        18  \n",
              "250288           1            1        16  \n",
              "250289           1            1         7  \n",
              "\n",
              "[1611443 rows x 27 columns]"
            ],
            "text/html": [
              "\n",
              "  <div id=\"df-282e14b1-4254-4eef-a3ee-6ebd8a153420\">\n",
              "    <div class=\"colab-df-container\">\n",
              "      <div>\n",
              "<style scoped>\n",
              "    .dataframe tbody tr th:only-of-type {\n",
              "        vertical-align: middle;\n",
              "    }\n",
              "\n",
              "    .dataframe tbody tr th {\n",
              "        vertical-align: top;\n",
              "    }\n",
              "\n",
              "    .dataframe thead th {\n",
              "        text-align: right;\n",
              "    }\n",
              "</style>\n",
              "<table border=\"1\" class=\"dataframe\">\n",
              "  <thead>\n",
              "    <tr style=\"text-align: right;\">\n",
              "      <th></th>\n",
              "      <th>index</th>\n",
              "      <th>EventTimeUsec2</th>\n",
              "      <th>SessionDepth</th>\n",
              "      <th>Region</th>\n",
              "      <th>RefererURL</th>\n",
              "      <th>platform</th>\n",
              "      <th>source_medium</th>\n",
              "      <th>OS</th>\n",
              "      <th>Browser</th>\n",
              "      <th>CountryCode</th>\n",
              "      <th>...</th>\n",
              "      <th>max_2nd_bid</th>\n",
              "      <th>source</th>\n",
              "      <th>medium</th>\n",
              "      <th>epoch</th>\n",
              "      <th>State</th>\n",
              "      <th>local_hour</th>\n",
              "      <th>weekday</th>\n",
              "      <th>is_weekend</th>\n",
              "      <th>part_of_day</th>\n",
              "      <th>utc_hour</th>\n",
              "    </tr>\n",
              "  </thead>\n",
              "  <tbody>\n",
              "    <tr>\n",
              "      <th>0</th>\n",
              "      <td>157</td>\n",
              "      <td>1682221905057877</td>\n",
              "      <td>-0.227352</td>\n",
              "      <td>Alabama</td>\n",
              "      <td>29</td>\n",
              "      <td>1</td>\n",
              "      <td>google/paid</td>\n",
              "      <td>0</td>\n",
              "      <td>6</td>\n",
              "      <td>195</td>\n",
              "      <td>...</td>\n",
              "      <td>1.201253</td>\n",
              "      <td>2</td>\n",
              "      <td>3</td>\n",
              "      <td>1682221905</td>\n",
              "      <td>0</td>\n",
              "      <td>21</td>\n",
              "      <td>2</td>\n",
              "      <td>1</td>\n",
              "      <td>3</td>\n",
              "      <td>3</td>\n",
              "    </tr>\n",
              "    <tr>\n",
              "      <th>1</th>\n",
              "      <td>240</td>\n",
              "      <td>1682224791012949</td>\n",
              "      <td>-0.682963</td>\n",
              "      <td>Nevada</td>\n",
              "      <td>29</td>\n",
              "      <td>1</td>\n",
              "      <td>google/paid</td>\n",
              "      <td>0</td>\n",
              "      <td>6</td>\n",
              "      <td>195</td>\n",
              "      <td>...</td>\n",
              "      <td>5.170177</td>\n",
              "      <td>2</td>\n",
              "      <td>3</td>\n",
              "      <td>1682224791</td>\n",
              "      <td>28</td>\n",
              "      <td>20</td>\n",
              "      <td>2</td>\n",
              "      <td>1</td>\n",
              "      <td>3</td>\n",
              "      <td>4</td>\n",
              "    </tr>\n",
              "    <tr>\n",
              "      <th>2</th>\n",
              "      <td>294</td>\n",
              "      <td>1682125907543444</td>\n",
              "      <td>0.130628</td>\n",
              "      <td>Alabama</td>\n",
              "      <td>29</td>\n",
              "      <td>1</td>\n",
              "      <td>google/paid</td>\n",
              "      <td>4</td>\n",
              "      <td>12</td>\n",
              "      <td>195</td>\n",
              "      <td>...</td>\n",
              "      <td>1.146130</td>\n",
              "      <td>2</td>\n",
              "      <td>3</td>\n",
              "      <td>1682125907</td>\n",
              "      <td>0</td>\n",
              "      <td>19</td>\n",
              "      <td>1</td>\n",
              "      <td>1</td>\n",
              "      <td>3</td>\n",
              "      <td>1</td>\n",
              "    </tr>\n",
              "    <tr>\n",
              "      <th>3</th>\n",
              "      <td>303</td>\n",
              "      <td>1682279914490941</td>\n",
              "      <td>-0.390070</td>\n",
              "      <td>Ontario</td>\n",
              "      <td>48</td>\n",
              "      <td>1</td>\n",
              "      <td>google/paid</td>\n",
              "      <td>0</td>\n",
              "      <td>6</td>\n",
              "      <td>33</td>\n",
              "      <td>...</td>\n",
              "      <td>2.487479</td>\n",
              "      <td>2</td>\n",
              "      <td>3</td>\n",
              "      <td>1682279914</td>\n",
              "      <td>53</td>\n",
              "      <td>17</td>\n",
              "      <td>2</td>\n",
              "      <td>1</td>\n",
              "      <td>2</td>\n",
              "      <td>19</td>\n",
              "    </tr>\n",
              "    <tr>\n",
              "      <th>4</th>\n",
              "      <td>434</td>\n",
              "      <td>1682111915330148</td>\n",
              "      <td>-0.455158</td>\n",
              "      <td>Limerick</td>\n",
              "      <td>29</td>\n",
              "      <td>1</td>\n",
              "      <td>google/paid</td>\n",
              "      <td>0</td>\n",
              "      <td>6</td>\n",
              "      <td>87</td>\n",
              "      <td>...</td>\n",
              "      <td>1.678994</td>\n",
              "      <td>2</td>\n",
              "      <td>3</td>\n",
              "      <td>1682111915</td>\n",
              "      <td>53</td>\n",
              "      <td>22</td>\n",
              "      <td>0</td>\n",
              "      <td>0</td>\n",
              "      <td>3</td>\n",
              "      <td>21</td>\n",
              "    </tr>\n",
              "    <tr>\n",
              "      <th>...</th>\n",
              "      <td>...</td>\n",
              "      <td>...</td>\n",
              "      <td>...</td>\n",
              "      <td>...</td>\n",
              "      <td>...</td>\n",
              "      <td>...</td>\n",
              "      <td>...</td>\n",
              "      <td>...</td>\n",
              "      <td>...</td>\n",
              "      <td>...</td>\n",
              "      <td>...</td>\n",
              "      <td>...</td>\n",
              "      <td>...</td>\n",
              "      <td>...</td>\n",
              "      <td>...</td>\n",
              "      <td>...</td>\n",
              "      <td>...</td>\n",
              "      <td>...</td>\n",
              "      <td>...</td>\n",
              "      <td>...</td>\n",
              "      <td>...</td>\n",
              "    </tr>\n",
              "    <tr>\n",
              "      <th>250285</th>\n",
              "      <td>681056</td>\n",
              "      <td>1682192371424239</td>\n",
              "      <td>-0.162265</td>\n",
              "      <td>England</td>\n",
              "      <td>87</td>\n",
              "      <td>1</td>\n",
              "      <td>outbrain3/paid</td>\n",
              "      <td>0</td>\n",
              "      <td>6</td>\n",
              "      <td>65</td>\n",
              "      <td>...</td>\n",
              "      <td>-0.213594</td>\n",
              "      <td>3</td>\n",
              "      <td>3</td>\n",
              "      <td>1682192371</td>\n",
              "      <td>53</td>\n",
              "      <td>20</td>\n",
              "      <td>1</td>\n",
              "      <td>1</td>\n",
              "      <td>3</td>\n",
              "      <td>19</td>\n",
              "    </tr>\n",
              "    <tr>\n",
              "      <th>250286</th>\n",
              "      <td>681140</td>\n",
              "      <td>1682282530549083</td>\n",
              "      <td>-0.357527</td>\n",
              "      <td>Florida</td>\n",
              "      <td>41</td>\n",
              "      <td>1</td>\n",
              "      <td>outbrain1/paid</td>\n",
              "      <td>0</td>\n",
              "      <td>9</td>\n",
              "      <td>195</td>\n",
              "      <td>...</td>\n",
              "      <td>0.319271</td>\n",
              "      <td>3</td>\n",
              "      <td>3</td>\n",
              "      <td>1682282530</td>\n",
              "      <td>9</td>\n",
              "      <td>15</td>\n",
              "      <td>2</td>\n",
              "      <td>1</td>\n",
              "      <td>2</td>\n",
              "      <td>20</td>\n",
              "    </tr>\n",
              "    <tr>\n",
              "      <th>250287</th>\n",
              "      <td>681702</td>\n",
              "      <td>1682186934602556</td>\n",
              "      <td>-0.422614</td>\n",
              "      <td>Metropolitan City of Milan</td>\n",
              "      <td>102</td>\n",
              "      <td>1</td>\n",
              "      <td>outbrain19/paid</td>\n",
              "      <td>0</td>\n",
              "      <td>6</td>\n",
              "      <td>95</td>\n",
              "      <td>...</td>\n",
              "      <td>-0.287093</td>\n",
              "      <td>3</td>\n",
              "      <td>3</td>\n",
              "      <td>1682186934</td>\n",
              "      <td>53</td>\n",
              "      <td>20</td>\n",
              "      <td>1</td>\n",
              "      <td>1</td>\n",
              "      <td>3</td>\n",
              "      <td>18</td>\n",
              "    </tr>\n",
              "    <tr>\n",
              "      <th>250288</th>\n",
              "      <td>681777</td>\n",
              "      <td>1682268969605636</td>\n",
              "      <td>0.065541</td>\n",
              "      <td>Missouri</td>\n",
              "      <td>48</td>\n",
              "      <td>0</td>\n",
              "      <td>outbrain/paid</td>\n",
              "      <td>9</td>\n",
              "      <td>9</td>\n",
              "      <td>195</td>\n",
              "      <td>...</td>\n",
              "      <td>-0.268718</td>\n",
              "      <td>3</td>\n",
              "      <td>3</td>\n",
              "      <td>1682268969</td>\n",
              "      <td>25</td>\n",
              "      <td>10</td>\n",
              "      <td>2</td>\n",
              "      <td>1</td>\n",
              "      <td>1</td>\n",
              "      <td>16</td>\n",
              "    </tr>\n",
              "    <tr>\n",
              "      <th>250289</th>\n",
              "      <td>681811</td>\n",
              "      <td>1682233222928940</td>\n",
              "      <td>-0.357527</td>\n",
              "      <td>Baden-Wurttemberg</td>\n",
              "      <td>102</td>\n",
              "      <td>1</td>\n",
              "      <td>undefined</td>\n",
              "      <td>0</td>\n",
              "      <td>23</td>\n",
              "      <td>49</td>\n",
              "      <td>...</td>\n",
              "      <td>-0.287093</td>\n",
              "      <td>0</td>\n",
              "      <td>0</td>\n",
              "      <td>1682233222</td>\n",
              "      <td>53</td>\n",
              "      <td>9</td>\n",
              "      <td>2</td>\n",
              "      <td>1</td>\n",
              "      <td>1</td>\n",
              "      <td>7</td>\n",
              "    </tr>\n",
              "  </tbody>\n",
              "</table>\n",
              "<p>1611443 rows × 27 columns</p>\n",
              "</div>\n",
              "      <button class=\"colab-df-convert\" onclick=\"convertToInteractive('df-282e14b1-4254-4eef-a3ee-6ebd8a153420')\"\n",
              "              title=\"Convert this dataframe to an interactive table.\"\n",
              "              style=\"display:none;\">\n",
              "        \n",
              "  <svg xmlns=\"http://www.w3.org/2000/svg\" height=\"24px\"viewBox=\"0 0 24 24\"\n",
              "       width=\"24px\">\n",
              "    <path d=\"M0 0h24v24H0V0z\" fill=\"none\"/>\n",
              "    <path d=\"M18.56 5.44l.94 2.06.94-2.06 2.06-.94-2.06-.94-.94-2.06-.94 2.06-2.06.94zm-11 1L8.5 8.5l.94-2.06 2.06-.94-2.06-.94L8.5 2.5l-.94 2.06-2.06.94zm10 10l.94 2.06.94-2.06 2.06-.94-2.06-.94-.94-2.06-.94 2.06-2.06.94z\"/><path d=\"M17.41 7.96l-1.37-1.37c-.4-.4-.92-.59-1.43-.59-.52 0-1.04.2-1.43.59L10.3 9.45l-7.72 7.72c-.78.78-.78 2.05 0 2.83L4 21.41c.39.39.9.59 1.41.59.51 0 1.02-.2 1.41-.59l7.78-7.78 2.81-2.81c.8-.78.8-2.07 0-2.86zM5.41 20L4 18.59l7.72-7.72 1.47 1.35L5.41 20z\"/>\n",
              "  </svg>\n",
              "      </button>\n",
              "      \n",
              "  <style>\n",
              "    .colab-df-container {\n",
              "      display:flex;\n",
              "      flex-wrap:wrap;\n",
              "      gap: 12px;\n",
              "    }\n",
              "\n",
              "    .colab-df-convert {\n",
              "      background-color: #E8F0FE;\n",
              "      border: none;\n",
              "      border-radius: 50%;\n",
              "      cursor: pointer;\n",
              "      display: none;\n",
              "      fill: #1967D2;\n",
              "      height: 32px;\n",
              "      padding: 0 0 0 0;\n",
              "      width: 32px;\n",
              "    }\n",
              "\n",
              "    .colab-df-convert:hover {\n",
              "      background-color: #E2EBFA;\n",
              "      box-shadow: 0px 1px 2px rgba(60, 64, 67, 0.3), 0px 1px 3px 1px rgba(60, 64, 67, 0.15);\n",
              "      fill: #174EA6;\n",
              "    }\n",
              "\n",
              "    [theme=dark] .colab-df-convert {\n",
              "      background-color: #3B4455;\n",
              "      fill: #D2E3FC;\n",
              "    }\n",
              "\n",
              "    [theme=dark] .colab-df-convert:hover {\n",
              "      background-color: #434B5C;\n",
              "      box-shadow: 0px 1px 3px 1px rgba(0, 0, 0, 0.15);\n",
              "      filter: drop-shadow(0px 1px 2px rgba(0, 0, 0, 0.3));\n",
              "      fill: #FFFFFF;\n",
              "    }\n",
              "  </style>\n",
              "\n",
              "      <script>\n",
              "        const buttonEl =\n",
              "          document.querySelector('#df-282e14b1-4254-4eef-a3ee-6ebd8a153420 button.colab-df-convert');\n",
              "        buttonEl.style.display =\n",
              "          google.colab.kernel.accessAllowed ? 'block' : 'none';\n",
              "\n",
              "        async function convertToInteractive(key) {\n",
              "          const element = document.querySelector('#df-282e14b1-4254-4eef-a3ee-6ebd8a153420');\n",
              "          const dataTable =\n",
              "            await google.colab.kernel.invokeFunction('convertToInteractive',\n",
              "                                                     [key], {});\n",
              "          if (!dataTable) return;\n",
              "\n",
              "          const docLinkHtml = 'Like what you see? Visit the ' +\n",
              "            '<a target=\"_blank\" href=https://colab.research.google.com/notebooks/data_table.ipynb>data table notebook</a>'\n",
              "            + ' to learn more about interactive tables.';\n",
              "          element.innerHTML = '';\n",
              "          dataTable['output_type'] = 'display_data';\n",
              "          await google.colab.output.renderOutput(dataTable, element);\n",
              "          const docLink = document.createElement('div');\n",
              "          docLink.innerHTML = docLinkHtml;\n",
              "          element.appendChild(docLink);\n",
              "        }\n",
              "      </script>\n",
              "    </div>\n",
              "  </div>\n",
              "  "
            ]
          },
          "metadata": {},
          "execution_count": 65
        }
      ]
    },
    {
      "cell_type": "code",
      "source": [
        "concat_test_df_X_cat = [concat_test_df[cat].values for cat in categorical]\n",
        "concat_test_df_X_numeric = concat_test_df[numeric_features].values\n",
        "\n",
        "y_pred_deep = model.predict(concat_test_df_X_cat + [concat_test_df_X_numeric])\n",
        "\n",
        "# concat_test_df['y_pred_deep'] = y_pred_deep\n",
        "# concat_test_df['y_pred_deep'] = scaler_y.inverse_transform(y_pred_deep).squeeze() * np.maximum(concat_test_df['max_2nd_bid'], 0.0001)\n",
        "concat_test_df['y_pred_deep'] = scaler_y.inverse_transform(y_pred_deep)\n",
        "concat_test_df[numeric_features] = scaler.inverse_transform(concat_test_df[numeric_features])\n",
        "# concat_test_df['bid'] = scaler_y.inverse_transform(concat_test_df['bid'].values.reshape(-1, 1))\n",
        "\n",
        "for col, encoder in le.items():\n",
        "  concat_test_df[col] = encoder.inverse_transform(concat_test_df[col])\n",
        "\n"
      ],
      "metadata": {
        "colab": {
          "base_uri": "https://localhost:8080/"
        },
        "id": "b4ur44mCf4f3",
        "outputId": "e408c345-d144-4762-cc03-4dead34d9298"
      },
      "execution_count": 66,
      "outputs": [
        {
          "output_type": "stream",
          "name": "stdout",
          "text": [
            "50358/50358 [==============================] - 121s 2ms/step\n"
          ]
        }
      ]
    },
    {
      "cell_type": "code",
      "source": [
        "from sklearn.metrics import mean_squared_error\n",
        "test_full_df['max_2nd_bid'] = test_data['max_2nd_bid']\n",
        "mse_for_comper = {}\n",
        "for value in sizes:\n",
        "    for group_name, group in source_cat.items():\n",
        "        if value == 'high':\n",
        "            size_cond = (test_full_df['max_2nd_bid'] > 0.9)\n",
        "        else:\n",
        "            size_cond = (test_full_df['max_2nd_bid'] <= 0.9)\n",
        "        mse_for_comper[f'{value}_{group_name}'] = mean_squared_error(test_full_df[(test_full_df['source'].isin(group)) & (size_cond)]['bid'],\n",
        "                                                                 test_full_df[(test_full_df['source'].isin(group)) & (size_cond)][f'y_pred_deep'])\n",
        "mse_for_comper"
      ],
      "metadata": {
        "colab": {
          "base_uri": "https://localhost:8080/"
        },
        "id": "D4xOLq2slYPB",
        "outputId": "a10ec50b-7e4e-4dce-f73b-14d5d7430420"
      },
      "execution_count": 85,
      "outputs": [
        {
          "output_type": "stream",
          "name": "stderr",
          "text": [
            "<ipython-input-85-f36297b25eb6>:2: SettingWithCopyWarning: \n",
            "A value is trying to be set on a copy of a slice from a DataFrame.\n",
            "Try using .loc[row_indexer,col_indexer] = value instead\n",
            "\n",
            "See the caveats in the documentation: https://pandas.pydata.org/pandas-docs/stable/user_guide/indexing.html#returning-a-view-versus-a-copy\n",
            "  test_full_df['max_2nd_bid'] = test_data['max_2nd_bid']\n"
          ]
        },
        {
          "output_type": "execute_result",
          "data": {
            "text/plain": [
              "{'high_google': 1.733138327114848,\n",
              " 'high_facebook': 1.381578196357719,\n",
              " 'high_outbrain': 1.322718989197421,\n",
              " 'low_google': 0.13631767323088687,\n",
              " 'low_facebook': 0.07925122351514,\n",
              " 'low_outbrain': 0.11329628118230273}"
            ]
          },
          "metadata": {},
          "execution_count": 85
        }
      ]
    },
    {
      "cell_type": "code",
      "source": [
        "from sklearn.metrics import mean_squared_error\n",
        "mse_for_comper = {}\n",
        "for value in sizes:\n",
        "    for group_name, group in source_cat.items():\n",
        "        if value == 'high':\n",
        "            size_cond = (concat_test_df['max_2nd_bid'] > 0.9)\n",
        "        else:\n",
        "            size_cond = (concat_test_df['max_2nd_bid'] <= 0.9)\n",
        "        mse_for_comper[f'{value}_{group_name}'] = mean_squared_error(concat_test_df[(concat_test_df['source'].isin(group)) & (size_cond)]['bid'],\n",
        "                                                                 concat_test_df[(concat_test_df['source'].isin(group)) & (size_cond)][f'y_pred_deep'])\n"
      ],
      "metadata": {
        "id": "Gb4mbTIbf7cM"
      },
      "execution_count": 68,
      "outputs": []
    },
    {
      "cell_type": "code",
      "source": [
        "\n",
        "prefix = 'concat_test_df'\n",
        "experiment.log_metrics(mse_for_comper, prefix=prefix)\n",
        "mse_for_comper"
      ],
      "metadata": {
        "colab": {
          "base_uri": "https://localhost:8080/"
        },
        "id": "-nW55X8SNtBQ",
        "outputId": "147bddfd-aa23-4f66-9bbb-f5bee81c3f4c"
      },
      "execution_count": 69,
      "outputs": [
        {
          "output_type": "execute_result",
          "data": {
            "text/plain": [
              "{'high_google': 2.342582836926656,\n",
              " 'high_facebook': 2.198662887950449,\n",
              " 'high_outbrain': 2.421667928675591,\n",
              " 'low_google': 0.15412892954716523,\n",
              " 'low_facebook': 0.08013740859866605,\n",
              " 'low_outbrain': 0.1810138563461111}"
            ]
          },
          "metadata": {},
          "execution_count": 69
        }
      ]
    },
    {
      "cell_type": "code",
      "source": [
        "test_full_df.columns"
      ],
      "metadata": {
        "colab": {
          "base_uri": "https://localhost:8080/"
        },
        "id": "jV11QmAamIGi",
        "outputId": "5f8a3a27-c7d3-45f6-c35b-aeec3bf4bcc1"
      },
      "execution_count": 70,
      "outputs": [
        {
          "output_type": "execute_result",
          "data": {
            "text/plain": [
              "Index(['Browser', 'CountryCode', 'State', 'OS', 'RefererURL', 'source',\n",
              "       'platform', 'medium', 'hb_bidder', 'bf_bidder', 'weekday', 'is_weekend',\n",
              "       'part_of_day', 'utc_hour', 'local_hour', 'SessionDepth_sc', 'pb_bid_sc',\n",
              "       'amzn_bid_sc', 'max_2nd_bid_sc', 'y_pred_deep', 'bid', 'max_2nd_bid'],\n",
              "      dtype='object')"
            ]
          },
          "metadata": {},
          "execution_count": 70
        }
      ]
    },
    {
      "cell_type": "code",
      "source": [
        "# from sklearn.metrics import mean_squared_error\n",
        "# mse_for_comper = {}\n",
        "# for value in sizes:\n",
        "#     for group_name, group in source_cat.items():\n",
        "#         if value == 'high':\n",
        "#             size_cond = (test_full_df['amzn_bid'] > 0.9) | (test_full_df['pb_bid'] > 0.9)\n",
        "#         else:\n",
        "#             size_cond = (test_full_df['amzn_bid'] <= 0.9) & (test_full_df['pb_bid'] <= 0.9)\n",
        "#         if len(test_full_df[(test_full_df['source'] == group_name) & (size_cond)]) == 0:\n",
        "#           print(group_name, value)\n",
        "#           continue\n",
        "#         mse_for_comper[f'{value}_{group_name}'] = mean_squared_error(test_full_df[(test_full_df['source'].isin(group)) & (size_cond)]['bid'],\n",
        "#                                                                  test_full_df[(test_full_df['source'].isin(group)) & (size_cond)][f'y_pred_deep'])\n"
      ],
      "metadata": {
        "id": "FbFIusjFztzP"
      },
      "execution_count": 71,
      "outputs": []
    },
    {
      "cell_type": "code",
      "source": [
        "\n",
        "# prefix = 'test_df'\n",
        "# experiment.log_metrics(mse_for_comper, prefix=prefix)\n",
        "# mse_for_comper"
      ],
      "metadata": {
        "id": "lpJYlsNYax9O"
      },
      "execution_count": 72,
      "outputs": []
    },
    {
      "cell_type": "code",
      "source": [
        "hetro_features_list = ['source', 'Browser', 'CountryCode', 'OS', 'RefererURL', 'platform']\n",
        "hetro_features  = {feature: test_features[feature].value_counts(normalize=True) for feature in hetro_features_list}\n",
        "hetro_features  = {feature: vc[vc > 0.01] for feature, vc in hetro_features.items()}\n",
        "hetro_features  = {feature: vc.index.tolist() for feature, vc in hetro_features.items()}"
      ],
      "metadata": {
        "id": "fBoNGVU2mTeX"
      },
      "execution_count": 73,
      "outputs": []
    },
    {
      "cell_type": "code",
      "source": [
        "embedding_layer = model.get_layer('CountryCode_emb')\n",
        "embedding_weights = embedding_layer.get_weights()[0]\n",
        "unique_countries = test_features[\"CountryCode\"].unique()\n",
        "country_indices  = dict(zip(unique_countries, le['CountryCode'].transform(unique_countries)))\n",
        "embeddings_of_interest = [embedding_weights[country_indices[country]] for country in country_indices]\n",
        "from sklearn.metrics.pairwise import cosine_similarity\n",
        "similarity_matrix = cosine_similarity(embeddings_of_interest)\n",
        "similarity_df = pd.DataFrame(similarity_matrix, index=country_indices, columns=country_indices)\n",
        "similarity_df.loc[['us', 'ca', 'mx', 'cl', 'uy', 'fr', 'es', 'gb'], ['us', 'ca', 'mx', 'cl', 'uy','fr','es', 'gb']]"
      ],
      "metadata": {
        "colab": {
          "base_uri": "https://localhost:8080/",
          "height": 300
        },
        "id": "mZrLhT7x03_T",
        "outputId": "acd5d4ad-2945-46e2-accd-b2b02534ac2d"
      },
      "execution_count": 74,
      "outputs": [
        {
          "output_type": "execute_result",
          "data": {
            "text/plain": [
              "          us        ca        mx        cl        uy        fr        es  \\\n",
              "us  1.000000  0.554979 -0.675508 -0.699149 -0.814530 -0.765715 -0.690407   \n",
              "ca  0.554979  1.000000 -0.451182 -0.479811 -0.446790 -0.561839 -0.428617   \n",
              "mx -0.675508 -0.451182  1.000000  0.982646  0.871984  0.756326  0.979076   \n",
              "cl -0.699149 -0.479811  0.982646  1.000000  0.883320  0.827748  0.989198   \n",
              "uy -0.814530 -0.446790  0.871984  0.883320  1.000000  0.866624  0.905431   \n",
              "fr -0.765715 -0.561839  0.756326  0.827748  0.866624  1.000000  0.798253   \n",
              "es -0.690407 -0.428617  0.979076  0.989198  0.905431  0.798253  1.000000   \n",
              "gb -0.160574  0.415311 -0.015789 -0.030592  0.145978  0.235482 -0.018082   \n",
              "\n",
              "          gb  \n",
              "us -0.160574  \n",
              "ca  0.415311  \n",
              "mx -0.015789  \n",
              "cl -0.030592  \n",
              "uy  0.145978  \n",
              "fr  0.235482  \n",
              "es -0.018082  \n",
              "gb  1.000000  "
            ],
            "text/html": [
              "\n",
              "  <div id=\"df-758209ca-ccb8-409f-aead-568353d9e70b\">\n",
              "    <div class=\"colab-df-container\">\n",
              "      <div>\n",
              "<style scoped>\n",
              "    .dataframe tbody tr th:only-of-type {\n",
              "        vertical-align: middle;\n",
              "    }\n",
              "\n",
              "    .dataframe tbody tr th {\n",
              "        vertical-align: top;\n",
              "    }\n",
              "\n",
              "    .dataframe thead th {\n",
              "        text-align: right;\n",
              "    }\n",
              "</style>\n",
              "<table border=\"1\" class=\"dataframe\">\n",
              "  <thead>\n",
              "    <tr style=\"text-align: right;\">\n",
              "      <th></th>\n",
              "      <th>us</th>\n",
              "      <th>ca</th>\n",
              "      <th>mx</th>\n",
              "      <th>cl</th>\n",
              "      <th>uy</th>\n",
              "      <th>fr</th>\n",
              "      <th>es</th>\n",
              "      <th>gb</th>\n",
              "    </tr>\n",
              "  </thead>\n",
              "  <tbody>\n",
              "    <tr>\n",
              "      <th>us</th>\n",
              "      <td>1.000000</td>\n",
              "      <td>0.554979</td>\n",
              "      <td>-0.675508</td>\n",
              "      <td>-0.699149</td>\n",
              "      <td>-0.814530</td>\n",
              "      <td>-0.765715</td>\n",
              "      <td>-0.690407</td>\n",
              "      <td>-0.160574</td>\n",
              "    </tr>\n",
              "    <tr>\n",
              "      <th>ca</th>\n",
              "      <td>0.554979</td>\n",
              "      <td>1.000000</td>\n",
              "      <td>-0.451182</td>\n",
              "      <td>-0.479811</td>\n",
              "      <td>-0.446790</td>\n",
              "      <td>-0.561839</td>\n",
              "      <td>-0.428617</td>\n",
              "      <td>0.415311</td>\n",
              "    </tr>\n",
              "    <tr>\n",
              "      <th>mx</th>\n",
              "      <td>-0.675508</td>\n",
              "      <td>-0.451182</td>\n",
              "      <td>1.000000</td>\n",
              "      <td>0.982646</td>\n",
              "      <td>0.871984</td>\n",
              "      <td>0.756326</td>\n",
              "      <td>0.979076</td>\n",
              "      <td>-0.015789</td>\n",
              "    </tr>\n",
              "    <tr>\n",
              "      <th>cl</th>\n",
              "      <td>-0.699149</td>\n",
              "      <td>-0.479811</td>\n",
              "      <td>0.982646</td>\n",
              "      <td>1.000000</td>\n",
              "      <td>0.883320</td>\n",
              "      <td>0.827748</td>\n",
              "      <td>0.989198</td>\n",
              "      <td>-0.030592</td>\n",
              "    </tr>\n",
              "    <tr>\n",
              "      <th>uy</th>\n",
              "      <td>-0.814530</td>\n",
              "      <td>-0.446790</td>\n",
              "      <td>0.871984</td>\n",
              "      <td>0.883320</td>\n",
              "      <td>1.000000</td>\n",
              "      <td>0.866624</td>\n",
              "      <td>0.905431</td>\n",
              "      <td>0.145978</td>\n",
              "    </tr>\n",
              "    <tr>\n",
              "      <th>fr</th>\n",
              "      <td>-0.765715</td>\n",
              "      <td>-0.561839</td>\n",
              "      <td>0.756326</td>\n",
              "      <td>0.827748</td>\n",
              "      <td>0.866624</td>\n",
              "      <td>1.000000</td>\n",
              "      <td>0.798253</td>\n",
              "      <td>0.235482</td>\n",
              "    </tr>\n",
              "    <tr>\n",
              "      <th>es</th>\n",
              "      <td>-0.690407</td>\n",
              "      <td>-0.428617</td>\n",
              "      <td>0.979076</td>\n",
              "      <td>0.989198</td>\n",
              "      <td>0.905431</td>\n",
              "      <td>0.798253</td>\n",
              "      <td>1.000000</td>\n",
              "      <td>-0.018082</td>\n",
              "    </tr>\n",
              "    <tr>\n",
              "      <th>gb</th>\n",
              "      <td>-0.160574</td>\n",
              "      <td>0.415311</td>\n",
              "      <td>-0.015789</td>\n",
              "      <td>-0.030592</td>\n",
              "      <td>0.145978</td>\n",
              "      <td>0.235482</td>\n",
              "      <td>-0.018082</td>\n",
              "      <td>1.000000</td>\n",
              "    </tr>\n",
              "  </tbody>\n",
              "</table>\n",
              "</div>\n",
              "      <button class=\"colab-df-convert\" onclick=\"convertToInteractive('df-758209ca-ccb8-409f-aead-568353d9e70b')\"\n",
              "              title=\"Convert this dataframe to an interactive table.\"\n",
              "              style=\"display:none;\">\n",
              "        \n",
              "  <svg xmlns=\"http://www.w3.org/2000/svg\" height=\"24px\"viewBox=\"0 0 24 24\"\n",
              "       width=\"24px\">\n",
              "    <path d=\"M0 0h24v24H0V0z\" fill=\"none\"/>\n",
              "    <path d=\"M18.56 5.44l.94 2.06.94-2.06 2.06-.94-2.06-.94-.94-2.06-.94 2.06-2.06.94zm-11 1L8.5 8.5l.94-2.06 2.06-.94-2.06-.94L8.5 2.5l-.94 2.06-2.06.94zm10 10l.94 2.06.94-2.06 2.06-.94-2.06-.94-.94-2.06-.94 2.06-2.06.94z\"/><path d=\"M17.41 7.96l-1.37-1.37c-.4-.4-.92-.59-1.43-.59-.52 0-1.04.2-1.43.59L10.3 9.45l-7.72 7.72c-.78.78-.78 2.05 0 2.83L4 21.41c.39.39.9.59 1.41.59.51 0 1.02-.2 1.41-.59l7.78-7.78 2.81-2.81c.8-.78.8-2.07 0-2.86zM5.41 20L4 18.59l7.72-7.72 1.47 1.35L5.41 20z\"/>\n",
              "  </svg>\n",
              "      </button>\n",
              "      \n",
              "  <style>\n",
              "    .colab-df-container {\n",
              "      display:flex;\n",
              "      flex-wrap:wrap;\n",
              "      gap: 12px;\n",
              "    }\n",
              "\n",
              "    .colab-df-convert {\n",
              "      background-color: #E8F0FE;\n",
              "      border: none;\n",
              "      border-radius: 50%;\n",
              "      cursor: pointer;\n",
              "      display: none;\n",
              "      fill: #1967D2;\n",
              "      height: 32px;\n",
              "      padding: 0 0 0 0;\n",
              "      width: 32px;\n",
              "    }\n",
              "\n",
              "    .colab-df-convert:hover {\n",
              "      background-color: #E2EBFA;\n",
              "      box-shadow: 0px 1px 2px rgba(60, 64, 67, 0.3), 0px 1px 3px 1px rgba(60, 64, 67, 0.15);\n",
              "      fill: #174EA6;\n",
              "    }\n",
              "\n",
              "    [theme=dark] .colab-df-convert {\n",
              "      background-color: #3B4455;\n",
              "      fill: #D2E3FC;\n",
              "    }\n",
              "\n",
              "    [theme=dark] .colab-df-convert:hover {\n",
              "      background-color: #434B5C;\n",
              "      box-shadow: 0px 1px 3px 1px rgba(0, 0, 0, 0.15);\n",
              "      filter: drop-shadow(0px 1px 2px rgba(0, 0, 0, 0.3));\n",
              "      fill: #FFFFFF;\n",
              "    }\n",
              "  </style>\n",
              "\n",
              "      <script>\n",
              "        const buttonEl =\n",
              "          document.querySelector('#df-758209ca-ccb8-409f-aead-568353d9e70b button.colab-df-convert');\n",
              "        buttonEl.style.display =\n",
              "          google.colab.kernel.accessAllowed ? 'block' : 'none';\n",
              "\n",
              "        async function convertToInteractive(key) {\n",
              "          const element = document.querySelector('#df-758209ca-ccb8-409f-aead-568353d9e70b');\n",
              "          const dataTable =\n",
              "            await google.colab.kernel.invokeFunction('convertToInteractive',\n",
              "                                                     [key], {});\n",
              "          if (!dataTable) return;\n",
              "\n",
              "          const docLinkHtml = 'Like what you see? Visit the ' +\n",
              "            '<a target=\"_blank\" href=https://colab.research.google.com/notebooks/data_table.ipynb>data table notebook</a>'\n",
              "            + ' to learn more about interactive tables.';\n",
              "          element.innerHTML = '';\n",
              "          dataTable['output_type'] = 'display_data';\n",
              "          await google.colab.output.renderOutput(dataTable, element);\n",
              "          const docLink = document.createElement('div');\n",
              "          docLink.innerHTML = docLinkHtml;\n",
              "          element.appendChild(docLink);\n",
              "        }\n",
              "      </script>\n",
              "    </div>\n",
              "  </div>\n",
              "  "
            ]
          },
          "metadata": {},
          "execution_count": 74
        }
      ]
    },
    {
      "cell_type": "code",
      "source": [
        "similarity_df.loc[hetro_features['CountryCode'], hetro_features['CountryCode']]"
      ],
      "metadata": {
        "colab": {
          "base_uri": "https://localhost:8080/",
          "height": 709
        },
        "id": "NEpiwVCAAqvz",
        "outputId": "94f07495-4b57-438a-cc04-fadd94b02d27"
      },
      "execution_count": 75,
      "outputs": [
        {
          "output_type": "execute_result",
          "data": {
            "text/plain": [
              "          us        ca        br        hu        gb        jp        mx  \\\n",
              "us  1.000000  0.554979 -0.795160 -0.415072 -0.160574 -0.629296 -0.675508   \n",
              "ca  0.554979  1.000000 -0.508427 -0.281829  0.415311 -0.592320 -0.451182   \n",
              "br -0.795160 -0.508427  1.000000  0.764684  0.127151  0.792106  0.942441   \n",
              "hu -0.415072 -0.281829  0.764684  1.000000 -0.230344  0.635312  0.898290   \n",
              "gb -0.160574  0.415311  0.127151 -0.230344  1.000000 -0.116921 -0.015789   \n",
              "jp -0.629296 -0.592320  0.792106  0.635312 -0.116921  1.000000  0.682648   \n",
              "mx -0.675508 -0.451182  0.942441  0.898290 -0.015789  0.682648  1.000000   \n",
              "au  0.324515  0.467714 -0.516144 -0.340490 -0.038302 -0.589250 -0.349869   \n",
              "ar -0.819046 -0.518524  0.988772  0.761070  0.126513  0.755611  0.950889   \n",
              "fr -0.765715 -0.561839  0.862170  0.474457  0.235482  0.765797  0.756326   \n",
              "es -0.690407 -0.428617  0.915104  0.860208 -0.018082  0.658492  0.979076   \n",
              "cl -0.699149 -0.479811  0.932315  0.862976 -0.030592  0.731153  0.982646   \n",
              "co -0.764584 -0.531118  0.986177  0.806993  0.001339  0.787601  0.952870   \n",
              "de -0.529321 -0.252119  0.288592  0.275375 -0.061263  0.132459  0.408080   \n",
              "za -0.754461 -0.321442  0.833593  0.668308  0.088253  0.697408  0.819169   \n",
              "it -0.696458 -0.417498  0.969015  0.849911  0.083914  0.793876  0.968962   \n",
              "ph -0.830497 -0.535752  0.986991  0.719369  0.117864  0.775563  0.910656   \n",
              "nz  0.575411  0.539996 -0.644333 -0.337396 -0.141235 -0.391888 -0.517579   \n",
              "ie -0.105580 -0.280482  0.468673  0.789264 -0.489285  0.705380  0.555830   \n",
              "\n",
              "          au        ar        fr        es        cl        co        de  \\\n",
              "us  0.324515 -0.819046 -0.765715 -0.690407 -0.699149 -0.764584 -0.529321   \n",
              "ca  0.467714 -0.518524 -0.561839 -0.428617 -0.479811 -0.531118 -0.252119   \n",
              "br -0.516144  0.988772  0.862170  0.915104  0.932315  0.986177  0.288592   \n",
              "hu -0.340490  0.761070  0.474457  0.860208  0.862976  0.806993  0.275375   \n",
              "gb -0.038302  0.126513  0.235482 -0.018082 -0.030592  0.001339 -0.061263   \n",
              "jp -0.589250  0.755611  0.765797  0.658492  0.731153  0.787601  0.132459   \n",
              "mx -0.349869  0.950889  0.756326  0.979076  0.982646  0.952870  0.408080   \n",
              "au  1.000000 -0.448711 -0.310975 -0.235011 -0.266035 -0.503404  0.464906   \n",
              "ar -0.448711  1.000000  0.883671  0.947412  0.951339  0.983595  0.343013   \n",
              "fr -0.310975  0.883671  1.000000  0.798253  0.827748  0.834472  0.333014   \n",
              "es -0.235011  0.947412  0.798253  1.000000  0.989198  0.939388  0.444164   \n",
              "cl -0.266035  0.951339  0.827748  0.989198  1.000000  0.944325  0.469485   \n",
              "co -0.503404  0.983595  0.834472  0.939388  0.944325  1.000000  0.255992   \n",
              "de  0.464906  0.343013  0.333014  0.444164  0.469485  0.255992  1.000000   \n",
              "za -0.117987  0.879785  0.859097  0.900678  0.887118  0.854756  0.422890   \n",
              "it -0.388282  0.966920  0.848946  0.959078  0.977152  0.965592  0.336868   \n",
              "ph -0.547206  0.987440  0.863692  0.899380  0.901789  0.985172  0.236435   \n",
              "nz  0.797885 -0.642244 -0.470686 -0.463124 -0.430402 -0.649194  0.210447   \n",
              "ie -0.372681  0.408543  0.233237  0.483584  0.550720  0.509715  0.065816   \n",
              "\n",
              "          za        it        ph        nz        ie  \n",
              "us -0.754461 -0.696458 -0.830497  0.575411 -0.105580  \n",
              "ca -0.321442 -0.417498 -0.535752  0.539996 -0.280482  \n",
              "br  0.833593  0.969015  0.986991 -0.644333  0.468673  \n",
              "hu  0.668308  0.849911  0.719369 -0.337396  0.789264  \n",
              "gb  0.088253  0.083914  0.117864 -0.141235 -0.489285  \n",
              "jp  0.697408  0.793876  0.775563 -0.391888  0.705380  \n",
              "mx  0.819169  0.968962  0.910656 -0.517579  0.555830  \n",
              "au -0.117987 -0.388282 -0.547206  0.797885 -0.372681  \n",
              "ar  0.879785  0.966920  0.987440 -0.642244  0.408543  \n",
              "fr  0.859097  0.848946  0.863692 -0.470686  0.233237  \n",
              "es  0.900678  0.959078  0.899380 -0.463124  0.483584  \n",
              "cl  0.887118  0.977152  0.901789 -0.430402  0.550720  \n",
              "co  0.854756  0.965592  0.985172 -0.649194  0.509715  \n",
              "de  0.422890  0.336868  0.236435  0.210447  0.065816  \n",
              "za  1.000000  0.880499  0.847406 -0.330164  0.347698  \n",
              "it  0.880499  1.000000  0.936920 -0.481353  0.571785  \n",
              "ph  0.847406  0.936920  1.000000 -0.718544  0.394553  \n",
              "nz -0.330164 -0.481353 -0.718544  1.000000 -0.017434  \n",
              "ie  0.347698  0.571785  0.394553 -0.017434  1.000000  "
            ],
            "text/html": [
              "\n",
              "  <div id=\"df-234802cc-66f8-450a-a326-5c59e8e78816\">\n",
              "    <div class=\"colab-df-container\">\n",
              "      <div>\n",
              "<style scoped>\n",
              "    .dataframe tbody tr th:only-of-type {\n",
              "        vertical-align: middle;\n",
              "    }\n",
              "\n",
              "    .dataframe tbody tr th {\n",
              "        vertical-align: top;\n",
              "    }\n",
              "\n",
              "    .dataframe thead th {\n",
              "        text-align: right;\n",
              "    }\n",
              "</style>\n",
              "<table border=\"1\" class=\"dataframe\">\n",
              "  <thead>\n",
              "    <tr style=\"text-align: right;\">\n",
              "      <th></th>\n",
              "      <th>us</th>\n",
              "      <th>ca</th>\n",
              "      <th>br</th>\n",
              "      <th>hu</th>\n",
              "      <th>gb</th>\n",
              "      <th>jp</th>\n",
              "      <th>mx</th>\n",
              "      <th>au</th>\n",
              "      <th>ar</th>\n",
              "      <th>fr</th>\n",
              "      <th>es</th>\n",
              "      <th>cl</th>\n",
              "      <th>co</th>\n",
              "      <th>de</th>\n",
              "      <th>za</th>\n",
              "      <th>it</th>\n",
              "      <th>ph</th>\n",
              "      <th>nz</th>\n",
              "      <th>ie</th>\n",
              "    </tr>\n",
              "  </thead>\n",
              "  <tbody>\n",
              "    <tr>\n",
              "      <th>us</th>\n",
              "      <td>1.000000</td>\n",
              "      <td>0.554979</td>\n",
              "      <td>-0.795160</td>\n",
              "      <td>-0.415072</td>\n",
              "      <td>-0.160574</td>\n",
              "      <td>-0.629296</td>\n",
              "      <td>-0.675508</td>\n",
              "      <td>0.324515</td>\n",
              "      <td>-0.819046</td>\n",
              "      <td>-0.765715</td>\n",
              "      <td>-0.690407</td>\n",
              "      <td>-0.699149</td>\n",
              "      <td>-0.764584</td>\n",
              "      <td>-0.529321</td>\n",
              "      <td>-0.754461</td>\n",
              "      <td>-0.696458</td>\n",
              "      <td>-0.830497</td>\n",
              "      <td>0.575411</td>\n",
              "      <td>-0.105580</td>\n",
              "    </tr>\n",
              "    <tr>\n",
              "      <th>ca</th>\n",
              "      <td>0.554979</td>\n",
              "      <td>1.000000</td>\n",
              "      <td>-0.508427</td>\n",
              "      <td>-0.281829</td>\n",
              "      <td>0.415311</td>\n",
              "      <td>-0.592320</td>\n",
              "      <td>-0.451182</td>\n",
              "      <td>0.467714</td>\n",
              "      <td>-0.518524</td>\n",
              "      <td>-0.561839</td>\n",
              "      <td>-0.428617</td>\n",
              "      <td>-0.479811</td>\n",
              "      <td>-0.531118</td>\n",
              "      <td>-0.252119</td>\n",
              "      <td>-0.321442</td>\n",
              "      <td>-0.417498</td>\n",
              "      <td>-0.535752</td>\n",
              "      <td>0.539996</td>\n",
              "      <td>-0.280482</td>\n",
              "    </tr>\n",
              "    <tr>\n",
              "      <th>br</th>\n",
              "      <td>-0.795160</td>\n",
              "      <td>-0.508427</td>\n",
              "      <td>1.000000</td>\n",
              "      <td>0.764684</td>\n",
              "      <td>0.127151</td>\n",
              "      <td>0.792106</td>\n",
              "      <td>0.942441</td>\n",
              "      <td>-0.516144</td>\n",
              "      <td>0.988772</td>\n",
              "      <td>0.862170</td>\n",
              "      <td>0.915104</td>\n",
              "      <td>0.932315</td>\n",
              "      <td>0.986177</td>\n",
              "      <td>0.288592</td>\n",
              "      <td>0.833593</td>\n",
              "      <td>0.969015</td>\n",
              "      <td>0.986991</td>\n",
              "      <td>-0.644333</td>\n",
              "      <td>0.468673</td>\n",
              "    </tr>\n",
              "    <tr>\n",
              "      <th>hu</th>\n",
              "      <td>-0.415072</td>\n",
              "      <td>-0.281829</td>\n",
              "      <td>0.764684</td>\n",
              "      <td>1.000000</td>\n",
              "      <td>-0.230344</td>\n",
              "      <td>0.635312</td>\n",
              "      <td>0.898290</td>\n",
              "      <td>-0.340490</td>\n",
              "      <td>0.761070</td>\n",
              "      <td>0.474457</td>\n",
              "      <td>0.860208</td>\n",
              "      <td>0.862976</td>\n",
              "      <td>0.806993</td>\n",
              "      <td>0.275375</td>\n",
              "      <td>0.668308</td>\n",
              "      <td>0.849911</td>\n",
              "      <td>0.719369</td>\n",
              "      <td>-0.337396</td>\n",
              "      <td>0.789264</td>\n",
              "    </tr>\n",
              "    <tr>\n",
              "      <th>gb</th>\n",
              "      <td>-0.160574</td>\n",
              "      <td>0.415311</td>\n",
              "      <td>0.127151</td>\n",
              "      <td>-0.230344</td>\n",
              "      <td>1.000000</td>\n",
              "      <td>-0.116921</td>\n",
              "      <td>-0.015789</td>\n",
              "      <td>-0.038302</td>\n",
              "      <td>0.126513</td>\n",
              "      <td>0.235482</td>\n",
              "      <td>-0.018082</td>\n",
              "      <td>-0.030592</td>\n",
              "      <td>0.001339</td>\n",
              "      <td>-0.061263</td>\n",
              "      <td>0.088253</td>\n",
              "      <td>0.083914</td>\n",
              "      <td>0.117864</td>\n",
              "      <td>-0.141235</td>\n",
              "      <td>-0.489285</td>\n",
              "    </tr>\n",
              "    <tr>\n",
              "      <th>jp</th>\n",
              "      <td>-0.629296</td>\n",
              "      <td>-0.592320</td>\n",
              "      <td>0.792106</td>\n",
              "      <td>0.635312</td>\n",
              "      <td>-0.116921</td>\n",
              "      <td>1.000000</td>\n",
              "      <td>0.682648</td>\n",
              "      <td>-0.589250</td>\n",
              "      <td>0.755611</td>\n",
              "      <td>0.765797</td>\n",
              "      <td>0.658492</td>\n",
              "      <td>0.731153</td>\n",
              "      <td>0.787601</td>\n",
              "      <td>0.132459</td>\n",
              "      <td>0.697408</td>\n",
              "      <td>0.793876</td>\n",
              "      <td>0.775563</td>\n",
              "      <td>-0.391888</td>\n",
              "      <td>0.705380</td>\n",
              "    </tr>\n",
              "    <tr>\n",
              "      <th>mx</th>\n",
              "      <td>-0.675508</td>\n",
              "      <td>-0.451182</td>\n",
              "      <td>0.942441</td>\n",
              "      <td>0.898290</td>\n",
              "      <td>-0.015789</td>\n",
              "      <td>0.682648</td>\n",
              "      <td>1.000000</td>\n",
              "      <td>-0.349869</td>\n",
              "      <td>0.950889</td>\n",
              "      <td>0.756326</td>\n",
              "      <td>0.979076</td>\n",
              "      <td>0.982646</td>\n",
              "      <td>0.952870</td>\n",
              "      <td>0.408080</td>\n",
              "      <td>0.819169</td>\n",
              "      <td>0.968962</td>\n",
              "      <td>0.910656</td>\n",
              "      <td>-0.517579</td>\n",
              "      <td>0.555830</td>\n",
              "    </tr>\n",
              "    <tr>\n",
              "      <th>au</th>\n",
              "      <td>0.324515</td>\n",
              "      <td>0.467714</td>\n",
              "      <td>-0.516144</td>\n",
              "      <td>-0.340490</td>\n",
              "      <td>-0.038302</td>\n",
              "      <td>-0.589250</td>\n",
              "      <td>-0.349869</td>\n",
              "      <td>1.000000</td>\n",
              "      <td>-0.448711</td>\n",
              "      <td>-0.310975</td>\n",
              "      <td>-0.235011</td>\n",
              "      <td>-0.266035</td>\n",
              "      <td>-0.503404</td>\n",
              "      <td>0.464906</td>\n",
              "      <td>-0.117987</td>\n",
              "      <td>-0.388282</td>\n",
              "      <td>-0.547206</td>\n",
              "      <td>0.797885</td>\n",
              "      <td>-0.372681</td>\n",
              "    </tr>\n",
              "    <tr>\n",
              "      <th>ar</th>\n",
              "      <td>-0.819046</td>\n",
              "      <td>-0.518524</td>\n",
              "      <td>0.988772</td>\n",
              "      <td>0.761070</td>\n",
              "      <td>0.126513</td>\n",
              "      <td>0.755611</td>\n",
              "      <td>0.950889</td>\n",
              "      <td>-0.448711</td>\n",
              "      <td>1.000000</td>\n",
              "      <td>0.883671</td>\n",
              "      <td>0.947412</td>\n",
              "      <td>0.951339</td>\n",
              "      <td>0.983595</td>\n",
              "      <td>0.343013</td>\n",
              "      <td>0.879785</td>\n",
              "      <td>0.966920</td>\n",
              "      <td>0.987440</td>\n",
              "      <td>-0.642244</td>\n",
              "      <td>0.408543</td>\n",
              "    </tr>\n",
              "    <tr>\n",
              "      <th>fr</th>\n",
              "      <td>-0.765715</td>\n",
              "      <td>-0.561839</td>\n",
              "      <td>0.862170</td>\n",
              "      <td>0.474457</td>\n",
              "      <td>0.235482</td>\n",
              "      <td>0.765797</td>\n",
              "      <td>0.756326</td>\n",
              "      <td>-0.310975</td>\n",
              "      <td>0.883671</td>\n",
              "      <td>1.000000</td>\n",
              "      <td>0.798253</td>\n",
              "      <td>0.827748</td>\n",
              "      <td>0.834472</td>\n",
              "      <td>0.333014</td>\n",
              "      <td>0.859097</td>\n",
              "      <td>0.848946</td>\n",
              "      <td>0.863692</td>\n",
              "      <td>-0.470686</td>\n",
              "      <td>0.233237</td>\n",
              "    </tr>\n",
              "    <tr>\n",
              "      <th>es</th>\n",
              "      <td>-0.690407</td>\n",
              "      <td>-0.428617</td>\n",
              "      <td>0.915104</td>\n",
              "      <td>0.860208</td>\n",
              "      <td>-0.018082</td>\n",
              "      <td>0.658492</td>\n",
              "      <td>0.979076</td>\n",
              "      <td>-0.235011</td>\n",
              "      <td>0.947412</td>\n",
              "      <td>0.798253</td>\n",
              "      <td>1.000000</td>\n",
              "      <td>0.989198</td>\n",
              "      <td>0.939388</td>\n",
              "      <td>0.444164</td>\n",
              "      <td>0.900678</td>\n",
              "      <td>0.959078</td>\n",
              "      <td>0.899380</td>\n",
              "      <td>-0.463124</td>\n",
              "      <td>0.483584</td>\n",
              "    </tr>\n",
              "    <tr>\n",
              "      <th>cl</th>\n",
              "      <td>-0.699149</td>\n",
              "      <td>-0.479811</td>\n",
              "      <td>0.932315</td>\n",
              "      <td>0.862976</td>\n",
              "      <td>-0.030592</td>\n",
              "      <td>0.731153</td>\n",
              "      <td>0.982646</td>\n",
              "      <td>-0.266035</td>\n",
              "      <td>0.951339</td>\n",
              "      <td>0.827748</td>\n",
              "      <td>0.989198</td>\n",
              "      <td>1.000000</td>\n",
              "      <td>0.944325</td>\n",
              "      <td>0.469485</td>\n",
              "      <td>0.887118</td>\n",
              "      <td>0.977152</td>\n",
              "      <td>0.901789</td>\n",
              "      <td>-0.430402</td>\n",
              "      <td>0.550720</td>\n",
              "    </tr>\n",
              "    <tr>\n",
              "      <th>co</th>\n",
              "      <td>-0.764584</td>\n",
              "      <td>-0.531118</td>\n",
              "      <td>0.986177</td>\n",
              "      <td>0.806993</td>\n",
              "      <td>0.001339</td>\n",
              "      <td>0.787601</td>\n",
              "      <td>0.952870</td>\n",
              "      <td>-0.503404</td>\n",
              "      <td>0.983595</td>\n",
              "      <td>0.834472</td>\n",
              "      <td>0.939388</td>\n",
              "      <td>0.944325</td>\n",
              "      <td>1.000000</td>\n",
              "      <td>0.255992</td>\n",
              "      <td>0.854756</td>\n",
              "      <td>0.965592</td>\n",
              "      <td>0.985172</td>\n",
              "      <td>-0.649194</td>\n",
              "      <td>0.509715</td>\n",
              "    </tr>\n",
              "    <tr>\n",
              "      <th>de</th>\n",
              "      <td>-0.529321</td>\n",
              "      <td>-0.252119</td>\n",
              "      <td>0.288592</td>\n",
              "      <td>0.275375</td>\n",
              "      <td>-0.061263</td>\n",
              "      <td>0.132459</td>\n",
              "      <td>0.408080</td>\n",
              "      <td>0.464906</td>\n",
              "      <td>0.343013</td>\n",
              "      <td>0.333014</td>\n",
              "      <td>0.444164</td>\n",
              "      <td>0.469485</td>\n",
              "      <td>0.255992</td>\n",
              "      <td>1.000000</td>\n",
              "      <td>0.422890</td>\n",
              "      <td>0.336868</td>\n",
              "      <td>0.236435</td>\n",
              "      <td>0.210447</td>\n",
              "      <td>0.065816</td>\n",
              "    </tr>\n",
              "    <tr>\n",
              "      <th>za</th>\n",
              "      <td>-0.754461</td>\n",
              "      <td>-0.321442</td>\n",
              "      <td>0.833593</td>\n",
              "      <td>0.668308</td>\n",
              "      <td>0.088253</td>\n",
              "      <td>0.697408</td>\n",
              "      <td>0.819169</td>\n",
              "      <td>-0.117987</td>\n",
              "      <td>0.879785</td>\n",
              "      <td>0.859097</td>\n",
              "      <td>0.900678</td>\n",
              "      <td>0.887118</td>\n",
              "      <td>0.854756</td>\n",
              "      <td>0.422890</td>\n",
              "      <td>1.000000</td>\n",
              "      <td>0.880499</td>\n",
              "      <td>0.847406</td>\n",
              "      <td>-0.330164</td>\n",
              "      <td>0.347698</td>\n",
              "    </tr>\n",
              "    <tr>\n",
              "      <th>it</th>\n",
              "      <td>-0.696458</td>\n",
              "      <td>-0.417498</td>\n",
              "      <td>0.969015</td>\n",
              "      <td>0.849911</td>\n",
              "      <td>0.083914</td>\n",
              "      <td>0.793876</td>\n",
              "      <td>0.968962</td>\n",
              "      <td>-0.388282</td>\n",
              "      <td>0.966920</td>\n",
              "      <td>0.848946</td>\n",
              "      <td>0.959078</td>\n",
              "      <td>0.977152</td>\n",
              "      <td>0.965592</td>\n",
              "      <td>0.336868</td>\n",
              "      <td>0.880499</td>\n",
              "      <td>1.000000</td>\n",
              "      <td>0.936920</td>\n",
              "      <td>-0.481353</td>\n",
              "      <td>0.571785</td>\n",
              "    </tr>\n",
              "    <tr>\n",
              "      <th>ph</th>\n",
              "      <td>-0.830497</td>\n",
              "      <td>-0.535752</td>\n",
              "      <td>0.986991</td>\n",
              "      <td>0.719369</td>\n",
              "      <td>0.117864</td>\n",
              "      <td>0.775563</td>\n",
              "      <td>0.910656</td>\n",
              "      <td>-0.547206</td>\n",
              "      <td>0.987440</td>\n",
              "      <td>0.863692</td>\n",
              "      <td>0.899380</td>\n",
              "      <td>0.901789</td>\n",
              "      <td>0.985172</td>\n",
              "      <td>0.236435</td>\n",
              "      <td>0.847406</td>\n",
              "      <td>0.936920</td>\n",
              "      <td>1.000000</td>\n",
              "      <td>-0.718544</td>\n",
              "      <td>0.394553</td>\n",
              "    </tr>\n",
              "    <tr>\n",
              "      <th>nz</th>\n",
              "      <td>0.575411</td>\n",
              "      <td>0.539996</td>\n",
              "      <td>-0.644333</td>\n",
              "      <td>-0.337396</td>\n",
              "      <td>-0.141235</td>\n",
              "      <td>-0.391888</td>\n",
              "      <td>-0.517579</td>\n",
              "      <td>0.797885</td>\n",
              "      <td>-0.642244</td>\n",
              "      <td>-0.470686</td>\n",
              "      <td>-0.463124</td>\n",
              "      <td>-0.430402</td>\n",
              "      <td>-0.649194</td>\n",
              "      <td>0.210447</td>\n",
              "      <td>-0.330164</td>\n",
              "      <td>-0.481353</td>\n",
              "      <td>-0.718544</td>\n",
              "      <td>1.000000</td>\n",
              "      <td>-0.017434</td>\n",
              "    </tr>\n",
              "    <tr>\n",
              "      <th>ie</th>\n",
              "      <td>-0.105580</td>\n",
              "      <td>-0.280482</td>\n",
              "      <td>0.468673</td>\n",
              "      <td>0.789264</td>\n",
              "      <td>-0.489285</td>\n",
              "      <td>0.705380</td>\n",
              "      <td>0.555830</td>\n",
              "      <td>-0.372681</td>\n",
              "      <td>0.408543</td>\n",
              "      <td>0.233237</td>\n",
              "      <td>0.483584</td>\n",
              "      <td>0.550720</td>\n",
              "      <td>0.509715</td>\n",
              "      <td>0.065816</td>\n",
              "      <td>0.347698</td>\n",
              "      <td>0.571785</td>\n",
              "      <td>0.394553</td>\n",
              "      <td>-0.017434</td>\n",
              "      <td>1.000000</td>\n",
              "    </tr>\n",
              "  </tbody>\n",
              "</table>\n",
              "</div>\n",
              "      <button class=\"colab-df-convert\" onclick=\"convertToInteractive('df-234802cc-66f8-450a-a326-5c59e8e78816')\"\n",
              "              title=\"Convert this dataframe to an interactive table.\"\n",
              "              style=\"display:none;\">\n",
              "        \n",
              "  <svg xmlns=\"http://www.w3.org/2000/svg\" height=\"24px\"viewBox=\"0 0 24 24\"\n",
              "       width=\"24px\">\n",
              "    <path d=\"M0 0h24v24H0V0z\" fill=\"none\"/>\n",
              "    <path d=\"M18.56 5.44l.94 2.06.94-2.06 2.06-.94-2.06-.94-.94-2.06-.94 2.06-2.06.94zm-11 1L8.5 8.5l.94-2.06 2.06-.94-2.06-.94L8.5 2.5l-.94 2.06-2.06.94zm10 10l.94 2.06.94-2.06 2.06-.94-2.06-.94-.94-2.06-.94 2.06-2.06.94z\"/><path d=\"M17.41 7.96l-1.37-1.37c-.4-.4-.92-.59-1.43-.59-.52 0-1.04.2-1.43.59L10.3 9.45l-7.72 7.72c-.78.78-.78 2.05 0 2.83L4 21.41c.39.39.9.59 1.41.59.51 0 1.02-.2 1.41-.59l7.78-7.78 2.81-2.81c.8-.78.8-2.07 0-2.86zM5.41 20L4 18.59l7.72-7.72 1.47 1.35L5.41 20z\"/>\n",
              "  </svg>\n",
              "      </button>\n",
              "      \n",
              "  <style>\n",
              "    .colab-df-container {\n",
              "      display:flex;\n",
              "      flex-wrap:wrap;\n",
              "      gap: 12px;\n",
              "    }\n",
              "\n",
              "    .colab-df-convert {\n",
              "      background-color: #E8F0FE;\n",
              "      border: none;\n",
              "      border-radius: 50%;\n",
              "      cursor: pointer;\n",
              "      display: none;\n",
              "      fill: #1967D2;\n",
              "      height: 32px;\n",
              "      padding: 0 0 0 0;\n",
              "      width: 32px;\n",
              "    }\n",
              "\n",
              "    .colab-df-convert:hover {\n",
              "      background-color: #E2EBFA;\n",
              "      box-shadow: 0px 1px 2px rgba(60, 64, 67, 0.3), 0px 1px 3px 1px rgba(60, 64, 67, 0.15);\n",
              "      fill: #174EA6;\n",
              "    }\n",
              "\n",
              "    [theme=dark] .colab-df-convert {\n",
              "      background-color: #3B4455;\n",
              "      fill: #D2E3FC;\n",
              "    }\n",
              "\n",
              "    [theme=dark] .colab-df-convert:hover {\n",
              "      background-color: #434B5C;\n",
              "      box-shadow: 0px 1px 3px 1px rgba(0, 0, 0, 0.15);\n",
              "      filter: drop-shadow(0px 1px 2px rgba(0, 0, 0, 0.3));\n",
              "      fill: #FFFFFF;\n",
              "    }\n",
              "  </style>\n",
              "\n",
              "      <script>\n",
              "        const buttonEl =\n",
              "          document.querySelector('#df-234802cc-66f8-450a-a326-5c59e8e78816 button.colab-df-convert');\n",
              "        buttonEl.style.display =\n",
              "          google.colab.kernel.accessAllowed ? 'block' : 'none';\n",
              "\n",
              "        async function convertToInteractive(key) {\n",
              "          const element = document.querySelector('#df-234802cc-66f8-450a-a326-5c59e8e78816');\n",
              "          const dataTable =\n",
              "            await google.colab.kernel.invokeFunction('convertToInteractive',\n",
              "                                                     [key], {});\n",
              "          if (!dataTable) return;\n",
              "\n",
              "          const docLinkHtml = 'Like what you see? Visit the ' +\n",
              "            '<a target=\"_blank\" href=https://colab.research.google.com/notebooks/data_table.ipynb>data table notebook</a>'\n",
              "            + ' to learn more about interactive tables.';\n",
              "          element.innerHTML = '';\n",
              "          dataTable['output_type'] = 'display_data';\n",
              "          await google.colab.output.renderOutput(dataTable, element);\n",
              "          const docLink = document.createElement('div');\n",
              "          docLink.innerHTML = docLinkHtml;\n",
              "          element.appendChild(docLink);\n",
              "        }\n",
              "      </script>\n",
              "    </div>\n",
              "  </div>\n",
              "  "
            ]
          },
          "metadata": {},
          "execution_count": 75
        }
      ]
    },
    {
      "cell_type": "code",
      "source": [
        "\n",
        "embedding_layer = model.get_layer('Browser_emb')\n",
        "embedding_weights = embedding_layer.get_weights()[0]\n",
        "unique_browser  = test_features[\"Browser\"].unique()\n",
        "browser_indices  = dict(zip(unique_browser, le['Browser'].transform(unique_browser)))\n",
        "embeddings_of_interest = [embedding_weights[browser_indices[browser]] for browser in browser_indices]\n",
        "similarity_matrix = cosine_similarity(embeddings_of_interest)\n",
        "similarity_df = pd.DataFrame(similarity_matrix, index=browser_indices, columns=browser_indices)\n",
        "similarity_df.loc[hetro_features[\"Browser\"], hetro_features[\"Browser\"]]"
      ],
      "metadata": {
        "colab": {
          "base_uri": "https://localhost:8080/",
          "height": 300
        },
        "id": "7MPFkw3h05RT",
        "outputId": "4c6c21e0-ffaf-4854-a257-35dc8e536970"
      },
      "execution_count": 76,
      "outputs": [
        {
          "output_type": "execute_result",
          "data": {
            "text/plain": [
              "                 facebook    chrome  mobile safari       gsa      edge  \\\n",
              "facebook         1.000000  0.211879       0.014628  0.282384  0.689559   \n",
              "chrome           0.211879  1.000000       0.650804  0.902804  0.247182   \n",
              "mobile safari    0.014628  0.650804       1.000000  0.890116  0.615304   \n",
              "gsa              0.282384  0.902804       0.890116  1.000000  0.584868   \n",
              "edge             0.689559  0.247182       0.615304  0.584868  1.000000   \n",
              "safari           0.906905 -0.216406      -0.303111 -0.126542  0.544488   \n",
              "samsung browser  0.989742  0.132533      -0.126997  0.161390  0.588974   \n",
              "instagram        0.979173  0.092321      -0.187553  0.105461  0.544494   \n",
              "\n",
              "                   safari  samsung browser  instagram  \n",
              "facebook         0.906905         0.989742   0.979173  \n",
              "chrome          -0.216406         0.132533   0.092321  \n",
              "mobile safari   -0.303111        -0.126997  -0.187553  \n",
              "gsa             -0.126542         0.161390   0.105461  \n",
              "edge             0.544488         0.588974   0.544494  \n",
              "safari           1.000000         0.936865   0.945954  \n",
              "samsung browser  0.936865         1.000000   0.998118  \n",
              "instagram        0.945954         0.998118   1.000000  "
            ],
            "text/html": [
              "\n",
              "  <div id=\"df-71d29eff-76c4-4f59-a1c8-29d9d945c89e\">\n",
              "    <div class=\"colab-df-container\">\n",
              "      <div>\n",
              "<style scoped>\n",
              "    .dataframe tbody tr th:only-of-type {\n",
              "        vertical-align: middle;\n",
              "    }\n",
              "\n",
              "    .dataframe tbody tr th {\n",
              "        vertical-align: top;\n",
              "    }\n",
              "\n",
              "    .dataframe thead th {\n",
              "        text-align: right;\n",
              "    }\n",
              "</style>\n",
              "<table border=\"1\" class=\"dataframe\">\n",
              "  <thead>\n",
              "    <tr style=\"text-align: right;\">\n",
              "      <th></th>\n",
              "      <th>facebook</th>\n",
              "      <th>chrome</th>\n",
              "      <th>mobile safari</th>\n",
              "      <th>gsa</th>\n",
              "      <th>edge</th>\n",
              "      <th>safari</th>\n",
              "      <th>samsung browser</th>\n",
              "      <th>instagram</th>\n",
              "    </tr>\n",
              "  </thead>\n",
              "  <tbody>\n",
              "    <tr>\n",
              "      <th>facebook</th>\n",
              "      <td>1.000000</td>\n",
              "      <td>0.211879</td>\n",
              "      <td>0.014628</td>\n",
              "      <td>0.282384</td>\n",
              "      <td>0.689559</td>\n",
              "      <td>0.906905</td>\n",
              "      <td>0.989742</td>\n",
              "      <td>0.979173</td>\n",
              "    </tr>\n",
              "    <tr>\n",
              "      <th>chrome</th>\n",
              "      <td>0.211879</td>\n",
              "      <td>1.000000</td>\n",
              "      <td>0.650804</td>\n",
              "      <td>0.902804</td>\n",
              "      <td>0.247182</td>\n",
              "      <td>-0.216406</td>\n",
              "      <td>0.132533</td>\n",
              "      <td>0.092321</td>\n",
              "    </tr>\n",
              "    <tr>\n",
              "      <th>mobile safari</th>\n",
              "      <td>0.014628</td>\n",
              "      <td>0.650804</td>\n",
              "      <td>1.000000</td>\n",
              "      <td>0.890116</td>\n",
              "      <td>0.615304</td>\n",
              "      <td>-0.303111</td>\n",
              "      <td>-0.126997</td>\n",
              "      <td>-0.187553</td>\n",
              "    </tr>\n",
              "    <tr>\n",
              "      <th>gsa</th>\n",
              "      <td>0.282384</td>\n",
              "      <td>0.902804</td>\n",
              "      <td>0.890116</td>\n",
              "      <td>1.000000</td>\n",
              "      <td>0.584868</td>\n",
              "      <td>-0.126542</td>\n",
              "      <td>0.161390</td>\n",
              "      <td>0.105461</td>\n",
              "    </tr>\n",
              "    <tr>\n",
              "      <th>edge</th>\n",
              "      <td>0.689559</td>\n",
              "      <td>0.247182</td>\n",
              "      <td>0.615304</td>\n",
              "      <td>0.584868</td>\n",
              "      <td>1.000000</td>\n",
              "      <td>0.544488</td>\n",
              "      <td>0.588974</td>\n",
              "      <td>0.544494</td>\n",
              "    </tr>\n",
              "    <tr>\n",
              "      <th>safari</th>\n",
              "      <td>0.906905</td>\n",
              "      <td>-0.216406</td>\n",
              "      <td>-0.303111</td>\n",
              "      <td>-0.126542</td>\n",
              "      <td>0.544488</td>\n",
              "      <td>1.000000</td>\n",
              "      <td>0.936865</td>\n",
              "      <td>0.945954</td>\n",
              "    </tr>\n",
              "    <tr>\n",
              "      <th>samsung browser</th>\n",
              "      <td>0.989742</td>\n",
              "      <td>0.132533</td>\n",
              "      <td>-0.126997</td>\n",
              "      <td>0.161390</td>\n",
              "      <td>0.588974</td>\n",
              "      <td>0.936865</td>\n",
              "      <td>1.000000</td>\n",
              "      <td>0.998118</td>\n",
              "    </tr>\n",
              "    <tr>\n",
              "      <th>instagram</th>\n",
              "      <td>0.979173</td>\n",
              "      <td>0.092321</td>\n",
              "      <td>-0.187553</td>\n",
              "      <td>0.105461</td>\n",
              "      <td>0.544494</td>\n",
              "      <td>0.945954</td>\n",
              "      <td>0.998118</td>\n",
              "      <td>1.000000</td>\n",
              "    </tr>\n",
              "  </tbody>\n",
              "</table>\n",
              "</div>\n",
              "      <button class=\"colab-df-convert\" onclick=\"convertToInteractive('df-71d29eff-76c4-4f59-a1c8-29d9d945c89e')\"\n",
              "              title=\"Convert this dataframe to an interactive table.\"\n",
              "              style=\"display:none;\">\n",
              "        \n",
              "  <svg xmlns=\"http://www.w3.org/2000/svg\" height=\"24px\"viewBox=\"0 0 24 24\"\n",
              "       width=\"24px\">\n",
              "    <path d=\"M0 0h24v24H0V0z\" fill=\"none\"/>\n",
              "    <path d=\"M18.56 5.44l.94 2.06.94-2.06 2.06-.94-2.06-.94-.94-2.06-.94 2.06-2.06.94zm-11 1L8.5 8.5l.94-2.06 2.06-.94-2.06-.94L8.5 2.5l-.94 2.06-2.06.94zm10 10l.94 2.06.94-2.06 2.06-.94-2.06-.94-.94-2.06-.94 2.06-2.06.94z\"/><path d=\"M17.41 7.96l-1.37-1.37c-.4-.4-.92-.59-1.43-.59-.52 0-1.04.2-1.43.59L10.3 9.45l-7.72 7.72c-.78.78-.78 2.05 0 2.83L4 21.41c.39.39.9.59 1.41.59.51 0 1.02-.2 1.41-.59l7.78-7.78 2.81-2.81c.8-.78.8-2.07 0-2.86zM5.41 20L4 18.59l7.72-7.72 1.47 1.35L5.41 20z\"/>\n",
              "  </svg>\n",
              "      </button>\n",
              "      \n",
              "  <style>\n",
              "    .colab-df-container {\n",
              "      display:flex;\n",
              "      flex-wrap:wrap;\n",
              "      gap: 12px;\n",
              "    }\n",
              "\n",
              "    .colab-df-convert {\n",
              "      background-color: #E8F0FE;\n",
              "      border: none;\n",
              "      border-radius: 50%;\n",
              "      cursor: pointer;\n",
              "      display: none;\n",
              "      fill: #1967D2;\n",
              "      height: 32px;\n",
              "      padding: 0 0 0 0;\n",
              "      width: 32px;\n",
              "    }\n",
              "\n",
              "    .colab-df-convert:hover {\n",
              "      background-color: #E2EBFA;\n",
              "      box-shadow: 0px 1px 2px rgba(60, 64, 67, 0.3), 0px 1px 3px 1px rgba(60, 64, 67, 0.15);\n",
              "      fill: #174EA6;\n",
              "    }\n",
              "\n",
              "    [theme=dark] .colab-df-convert {\n",
              "      background-color: #3B4455;\n",
              "      fill: #D2E3FC;\n",
              "    }\n",
              "\n",
              "    [theme=dark] .colab-df-convert:hover {\n",
              "      background-color: #434B5C;\n",
              "      box-shadow: 0px 1px 3px 1px rgba(0, 0, 0, 0.15);\n",
              "      filter: drop-shadow(0px 1px 2px rgba(0, 0, 0, 0.3));\n",
              "      fill: #FFFFFF;\n",
              "    }\n",
              "  </style>\n",
              "\n",
              "      <script>\n",
              "        const buttonEl =\n",
              "          document.querySelector('#df-71d29eff-76c4-4f59-a1c8-29d9d945c89e button.colab-df-convert');\n",
              "        buttonEl.style.display =\n",
              "          google.colab.kernel.accessAllowed ? 'block' : 'none';\n",
              "\n",
              "        async function convertToInteractive(key) {\n",
              "          const element = document.querySelector('#df-71d29eff-76c4-4f59-a1c8-29d9d945c89e');\n",
              "          const dataTable =\n",
              "            await google.colab.kernel.invokeFunction('convertToInteractive',\n",
              "                                                     [key], {});\n",
              "          if (!dataTable) return;\n",
              "\n",
              "          const docLinkHtml = 'Like what you see? Visit the ' +\n",
              "            '<a target=\"_blank\" href=https://colab.research.google.com/notebooks/data_table.ipynb>data table notebook</a>'\n",
              "            + ' to learn more about interactive tables.';\n",
              "          element.innerHTML = '';\n",
              "          dataTable['output_type'] = 'display_data';\n",
              "          await google.colab.output.renderOutput(dataTable, element);\n",
              "          const docLink = document.createElement('div');\n",
              "          docLink.innerHTML = docLinkHtml;\n",
              "          element.appendChild(docLink);\n",
              "        }\n",
              "      </script>\n",
              "    </div>\n",
              "  </div>\n",
              "  "
            ]
          },
          "metadata": {},
          "execution_count": 76
        }
      ]
    },
    {
      "cell_type": "code",
      "source": [
        "import json\n",
        "import os \n",
        "dir_name = 'emb'\n",
        "if not os.path.exists(dir_name):\n",
        "  os.makedirs(dir_name)\n",
        "for cat in categorical: \n",
        "  print(cat)\n",
        "  embedding_layer = model.get_layer(f'{cat}_emb')\n",
        "  embedding_weights = embedding_layer.get_weights()[0]\n",
        "  uniques  = test_features[cat].unique()\n",
        "  uniques_lbl_dict  = dict(zip(uniques, le[cat].transform(uniques)))\n",
        "  embeddings_of_interest = {str(val) : embedding_weights[uniques_lbl_dict[val]].tolist() for val in uniques_lbl_dict}\n",
        "  with open(f'{dir_name}/{cat}_emb.json', \"w\") as f:\n",
        "      json.dump(embeddings_of_interest, f, indent=4)\n",
        "    \n",
        "!zip -r /content/$dir_name/00emb.zip /content/$dir_name\n"
      ],
      "metadata": {
        "colab": {
          "base_uri": "https://localhost:8080/"
        },
        "id": "60x4EaDlVhCt",
        "outputId": "7b5015d0-2964-413f-fc0a-92642f6956e5"
      },
      "execution_count": 77,
      "outputs": [
        {
          "output_type": "stream",
          "name": "stdout",
          "text": [
            "Browser\n",
            "CountryCode\n",
            "State\n",
            "OS\n",
            "RefererURL\n",
            "source\n",
            "platform\n",
            "medium\n",
            "hb_bidder\n",
            "bf_bidder\n",
            "weekday\n",
            "is_weekend\n",
            "part_of_day\n",
            "utc_hour\n",
            "local_hour\n",
            "updating: content/emb/ (stored 0%)\n",
            "updating: content/emb/part_of_day_emb.json (deflated 55%)\n",
            "updating: content/emb/source_emb.json (deflated 56%)\n",
            "updating: content/emb/is_weekend_emb.json (deflated 41%)\n",
            "updating: content/emb/medium_emb.json (deflated 51%)\n",
            "updating: content/emb/.ipynb_checkpoints/ (stored 0%)\n",
            "updating: content/emb/weekday_emb.json (deflated 52%)\n",
            "updating: content/emb/hb_bidder_emb.json (deflated 63%)\n",
            "updating: content/emb/platform_emb.json (deflated 51%)\n",
            "updating: content/emb/Browser_emb.json (deflated 63%)\n",
            "updating: content/emb/bf_bidder_emb.json (deflated 37%)\n",
            "updating: content/emb/State_emb.json (deflated 64%)\n",
            "updating: content/emb/RefererURL_emb.json (deflated 64%)\n",
            "updating: content/emb/utc_hour_emb.json (deflated 67%)\n",
            "updating: content/emb/local_hour_emb.json (deflated 67%)\n",
            "updating: content/emb/OS_emb.json (deflated 58%)\n",
            "updating: content/emb/CountryCode_emb.json (deflated 67%)\n"
          ]
        }
      ]
    },
    {
      "cell_type": "code",
      "source": [
        "len(categorical)"
      ],
      "metadata": {
        "colab": {
          "base_uri": "https://localhost:8080/"
        },
        "id": "PBZcFtDMeKdV",
        "outputId": "b3d0cde1-dc83-45e5-b5d3-505abf6f954e"
      },
      "execution_count": 78,
      "outputs": [
        {
          "output_type": "execute_result",
          "data": {
            "text/plain": [
              "15"
            ]
          },
          "metadata": {},
          "execution_count": 78
        }
      ]
    },
    {
      "cell_type": "code",
      "source": [
        "def hetro(df, col, pred_col, true_col):\n",
        "    from tqdm import tqdm\n",
        "    hetro_dict = {}\n",
        "    val_low_data = []\n",
        "    for val in tqdm(df[col].unique()):\n",
        "        if len(df[df[col] == val]) / len(df) < 0.01:\n",
        "            val_low_data.append(val)\n",
        "            continue\n",
        "        hetro_dict[val] = mean_squared_error(df[df[col] == val][true_col], df[df[col] == val][pred_col])\n",
        "    if val_low_data:\n",
        "        print(f\"low data for {col}: {val_low_data}\")\n",
        "    return hetro_dict"
      ],
      "metadata": {
        "id": "dw8q16gV6rJ7"
      },
      "execution_count": 79,
      "outputs": []
    },
    {
      "cell_type": "code",
      "source": [
        "concat_test_df.columns"
      ],
      "metadata": {
        "colab": {
          "base_uri": "https://localhost:8080/"
        },
        "id": "CvK8AIA27420",
        "outputId": "7aaa9322-0221-4e3d-ff0c-c4d39d5a1e95"
      },
      "execution_count": 80,
      "outputs": [
        {
          "output_type": "execute_result",
          "data": {
            "text/plain": [
              "Index(['index', 'EventTimeUsec2', 'SessionDepth', 'Region', 'RefererURL',\n",
              "       'platform', 'source_medium', 'OS', 'Browser', 'CountryCode',\n",
              "       'mb_site_id', 'mbid', 'hb_bidder', 'pb_bid', 'amzn_bid', 'bf_bidder',\n",
              "       'bid', 'max_2nd_bid', 'source', 'medium', 'epoch', 'State',\n",
              "       'local_hour', 'weekday', 'is_weekend', 'part_of_day', 'utc_hour',\n",
              "       'y_pred_deep'],\n",
              "      dtype='object')"
            ]
          },
          "metadata": {},
          "execution_count": 80
        }
      ]
    },
    {
      "cell_type": "code",
      "source": [
        "prefix = 'low'\n",
        "\n",
        "for col in concat_test_df.columns:\n",
        "    if concat_test_df[col].nunique() > 50:\n",
        "      continue\n",
        "    hetro_dict = hetro(concat_test_df[concat_test_df['max_2nd_bid'] <= 0.9], col, 'y_pred_deep', 'bid')\n",
        "    print(col, \": \\n\", hetro_dict)\n",
        "    experiment.log_metrics(hetro_dict, prefix=f'{prefix}_{col}')"
      ],
      "metadata": {
        "colab": {
          "base_uri": "https://localhost:8080/"
        },
        "id": "TaFk51FC6uns",
        "outputId": "985ffee5-e520-4681-d74a-06655f8d6c64"
      },
      "execution_count": 81,
      "outputs": [
        {
          "output_type": "stream",
          "name": "stderr",
          "text": [
            "100%|██████████| 4/4 [00:01<00:00,  3.26it/s]\n"
          ]
        },
        {
          "output_type": "stream",
          "name": "stdout",
          "text": [
            "low data for platform: ['smarttv']\n",
            "platform : \n",
            " {'mobile': 0.13473374830685397, 'tablet': 0.11172311768182419, '0': 0.1559844220977965}\n"
          ]
        },
        {
          "output_type": "stream",
          "name": "stderr",
          "text": [
            "100%|██████████| 8/8 [00:01<00:00,  5.06it/s]\n"
          ]
        },
        {
          "output_type": "stream",
          "name": "stdout",
          "text": [
            "low data for OS: ['chromium os', 'linux', 'ubuntu', 'firefox os']\n",
            "OS : \n",
            " {'android': 0.15969904569392354, 'ios': 0.08476173881418908, 'windows': 0.18702888203385173, 'mac os': 0.10433574150881966}\n"
          ]
        },
        {
          "output_type": "stream",
          "name": "stderr",
          "text": [
            "100%|██████████| 26/26 [00:03<00:00,  7.76it/s]\n"
          ]
        },
        {
          "output_type": "stream",
          "name": "stdout",
          "text": [
            "low data for Browser: ['firefox', 'silk', 'whale', 'chrome webview', 'android browser', 'miui browser', 'line', 'opera', 'oculus browser', '0', 'yandex', 'vivaldi', 'avast secure browser', 'mozilla', 'ucbrowser', 'icedragon', 'opera touch']\n",
            "Browser : \n",
            " {'chrome': 0.19418999851606358, 'mobile safari': 0.14876024655984282, 'facebook': 0.07755973669197677, 'samsung browser': 0.10947671466358927, 'gsa': 0.08774701169250489, 'edge': 0.20039092909581654, 'safari': 0.12023946347487849, 'webkit': 0.03824645290090686, 'instagram': 0.24666943201590258}\n"
          ]
        },
        {
          "output_type": "stream",
          "name": "stderr",
          "text": [
            "100%|██████████| 26/26 [00:06<00:00,  3.88it/s]\n"
          ]
        },
        {
          "output_type": "stream",
          "name": "stdout",
          "text": [
            "low data for hb_bidder: ['stroeercore', 'richaudience', 'smartadserver', 'zeta_global_ssp', 'onetag', 'yieldmo', 'sonobi', 'sharethrough']\n",
            "hb_bidder : \n",
            " {'kueezrtb': 0.12423964491755633, 'yahoossp': 0.1441692829077698, 'ix': 0.1209310824795881, 'criteo': 0.1775869726895171, 'sovrn': 0.0931109362561117, 'rubicon': 0.1084561479962717, 'grid': 0.07627139392900752, '0': 0.23284381292522982, 'adyoulike': 0.16203053978610468, 'appnexusast': 0.11396020279805084, 'openx': 0.10327556961401277, 'improvedigital': 0.049057715160967644, 'teads': 0.08621078152007072, 'vidazoo': 0.13160136968479855, 'triplelift': 0.1160220270988074, 'medianet': 0.17436222135166182, 'pubmatic': 0.11136260579193269, 'minutemedia': 0.32315022584934094}\n"
          ]
        },
        {
          "output_type": "stream",
          "name": "stderr",
          "text": [
            "100%|██████████| 2/2 [00:00<00:00,  2.22it/s]\n"
          ]
        },
        {
          "output_type": "stream",
          "name": "stdout",
          "text": [
            "bf_bidder : \n",
            " {'adx': 0.11199307157667239, 'ebda': 0.36156245157436206}\n"
          ]
        },
        {
          "output_type": "stream",
          "name": "stderr",
          "text": [
            "100%|██████████| 5/5 [00:01<00:00,  3.84it/s]\n"
          ]
        },
        {
          "output_type": "stream",
          "name": "stdout",
          "text": [
            "source : \n",
            " {'google': 0.15412892954716523, 'facebook': 0.08013740859866605, 'outbrain': 0.24759819255057797, 'pinterest': 0.07816105903967889, 'Other': 0.21285988792797306}\n"
          ]
        },
        {
          "output_type": "stream",
          "name": "stderr",
          "text": [
            "100%|██████████| 5/5 [00:01<00:00,  3.52it/s]\n"
          ]
        },
        {
          "output_type": "stream",
          "name": "stdout",
          "text": [
            "medium : \n",
            " {'paid': 0.13972995453774367, 'organic': 0.11188144242684205, 'unknown': 0.20276839840919542, 'affiliate': 0.07756900246325939, 'Other': 0.1564892579621872}\n"
          ]
        },
        {
          "output_type": "stream",
          "name": "stderr",
          "text": [
            "100%|██████████| 24/24 [00:02<00:00, 11.60it/s]\n"
          ]
        },
        {
          "output_type": "stream",
          "name": "stdout",
          "text": [
            "local_hour : \n",
            " {13: 0.14957556591137602, 17: 0.14575828014307135, 20: 0.12286297609481943, 6: 0.14365330446931168, 19: 0.13527503901801483, 10: 0.20036469598377915, 21: 0.1069600927830517, 8: 0.17029101103342587, 2: 0.10823141252768587, 16: 0.11827815276014972, 18: 0.10806298106432852, 14: 0.11818367186393827, 11: 0.13130642245946195, 7: 0.14810677677297687, 12: 0.12826824400714112, 9: 0.12202964127912572, 0: 0.15437816454127087, 23: 0.15149218618401974, 22: 0.11731839683602294, 15: 0.14010828987125304, 5: 0.16153278363788995, 1: 0.09577154482430326, 4: 0.15579953388550447, 3: 0.14031873462550673}\n"
          ]
        },
        {
          "output_type": "stream",
          "name": "stderr",
          "text": [
            "100%|██████████| 3/3 [00:00<00:00,  4.81it/s]\n"
          ]
        },
        {
          "output_type": "stream",
          "name": "stdout",
          "text": [
            "weekday : \n",
            " {5: 0.13207051055147198, 6: 0.1407598975571854, 4: 0.1449024075298187}\n"
          ]
        },
        {
          "output_type": "stream",
          "name": "stderr",
          "text": [
            "100%|██████████| 2/2 [00:00<00:00,  3.30it/s]\n"
          ]
        },
        {
          "output_type": "stream",
          "name": "stdout",
          "text": [
            "is_weekend : \n",
            " {1.0: 0.13641728811783438, 0.0: 0.1449024075298187}\n"
          ]
        },
        {
          "output_type": "stream",
          "name": "stderr",
          "text": [
            "100%|██████████| 4/4 [00:00<00:00,  4.24it/s]\n"
          ]
        },
        {
          "output_type": "stream",
          "name": "stdout",
          "text": [
            "part_of_day : \n",
            " {2: 0.13327854940062892, 3: 0.12280572903579055, 1: 0.15313581137173718, 0: 0.13660315448670257}\n"
          ]
        },
        {
          "output_type": "stream",
          "name": "stderr",
          "text": [
            "100%|██████████| 24/24 [00:02<00:00,  9.22it/s]\n"
          ]
        },
        {
          "output_type": "stream",
          "name": "stdout",
          "text": [
            "utc_hour : \n",
            " {1: 0.1444791361558675, 15: 0.15208455138933685, 11: 0.16004708479962826, 2: 0.17098719833659165, 21: 0.12414334183118758, 19: 0.1115890255786182, 23: 0.15469304502138811, 8: 0.15088248628822257, 4: 0.1511707812410844, 20: 0.10639392500159504, 5: 0.1374576715229868, 9: 0.16977228693701152, 3: 0.1074191130489169, 17: 0.11545063876843331, 7: 0.13417113134979292, 12: 0.13707796188319032, 10: 0.109321057439053, 22: 0.13339503258201832, 13: 0.11388339477002955, 0: 0.1716745483308669, 18: 0.1297066037867577, 16: 0.10880632852684398, 6: 0.2246302432778465, 14: 0.11127603544473898}\n"
          ]
        }
      ]
    },
    {
      "cell_type": "code",
      "source": [
        "prefix = 'high'\n",
        "\n",
        "for col in concat_test_df.columns:\n",
        "    if concat_test_df[col].nunique() > 50:\n",
        "      continue\n",
        "    hetro_dict = hetro(concat_test_df[concat_test_df['max_2nd_bid'] > 0.9], col, 'y_pred_deep', 'bid')\n",
        "    print(col, \": \\n\", hetro_dict)\n",
        "    experiment.log_metrics(hetro_dict, prefix=f'{prefix}_{col}')"
      ],
      "metadata": {
        "colab": {
          "base_uri": "https://localhost:8080/"
        },
        "id": "yCHQHirF9qlv",
        "outputId": "65ffbacd-1921-4ad0-e838-f80ed8eb92f3"
      },
      "execution_count": 82,
      "outputs": [
        {
          "output_type": "stream",
          "name": "stderr",
          "text": [
            "100%|██████████| 4/4 [00:00<00:00,  4.14it/s]\n"
          ]
        },
        {
          "output_type": "stream",
          "name": "stdout",
          "text": [
            "low data for platform: ['smarttv']\n",
            "platform : \n",
            " {'mobile': 2.2145927632369773, '0': 2.634778553947395, 'tablet': 2.8044840220128044}\n"
          ]
        },
        {
          "output_type": "stream",
          "name": "stderr",
          "text": [
            "100%|██████████| 7/7 [00:01<00:00,  5.04it/s]\n"
          ]
        },
        {
          "output_type": "stream",
          "name": "stdout",
          "text": [
            "low data for OS: ['linux', 'ubuntu']\n",
            "OS : \n",
            " {'android': 2.3412310727432994, 'ios': 1.3817943386707525, 'windows': 2.9598880747554794, 'chromium os': 2.090365099250668, 'mac os': 2.7634104676147606}\n"
          ]
        },
        {
          "output_type": "stream",
          "name": "stderr",
          "text": [
            "100%|██████████| 20/20 [00:02<00:00,  8.54it/s]\n"
          ]
        },
        {
          "output_type": "stream",
          "name": "stdout",
          "text": [
            "low data for Browser: ['samsung browser', 'silk', 'opera', 'whale', 'instagram', 'webkit', 'firefox', 'line', 'miui browser', '0', 'slim', 'basilisk']\n",
            "Browser : \n",
            " {'chrome': 2.6018190841072615, 'gsa': 0.8513103502624113, 'mobile safari': 0.7972389066171378, 'facebook': 1.9868135319773939, 'safari': 1.8617555411342093, 'chrome webview': 1.6049854735891909, 'edge': 2.6043729401643527, 'android browser': 1.9398216543285292}\n"
          ]
        },
        {
          "output_type": "stream",
          "name": "stderr",
          "text": [
            "100%|██████████| 26/26 [00:05<00:00,  4.88it/s]\n"
          ]
        },
        {
          "output_type": "stream",
          "name": "stdout",
          "text": [
            "low data for hb_bidder: ['smartadserver', 'improvedigital', 'zeta_global_ssp', 'richaudience', 'stroeercore', 'yieldmo', 'sharethrough']\n",
            "hb_bidder : \n",
            " {'triplelift': 2.228688097262417, 'ix': 2.2393963157772414, 'medianet': 1.867080048787175, 'minutemedia': 2.614194592515194, 'rubicon': 1.9965492715246718, 'criteo': 3.600428999154888, 'onetag': 2.1833499502000713, 'teads': 1.241182026544313, 'kueezrtb': 1.818494216020456, 'pubmatic': 12.320425603624432, 'openx': 1.9722527491797055, '0': 6.058761097857563, 'adyoulike': 1.6395800582983777, 'yahoossp': 2.2034523156227075, 'grid': 2.011501003183679, 'appnexusast': 1.3075110439001256, 'vidazoo': 1.9300055355748438, 'sonobi': 2.0155727364479983, 'sovrn': 1.4220474809896317}\n"
          ]
        },
        {
          "output_type": "stream",
          "name": "stderr",
          "text": [
            "100%|██████████| 2/2 [00:01<00:00,  1.81it/s]\n"
          ]
        },
        {
          "output_type": "stream",
          "name": "stdout",
          "text": [
            "bf_bidder : \n",
            " {'adx': 1.5331305353960623, 'ebda': 7.099310955147582}\n"
          ]
        },
        {
          "output_type": "stream",
          "name": "stderr",
          "text": [
            "100%|██████████| 5/5 [00:01<00:00,  4.22it/s]\n"
          ]
        },
        {
          "output_type": "stream",
          "name": "stdout",
          "text": [
            "source : \n",
            " {'google': 2.342582836926656, 'facebook': 2.198662887950449, 'pinterest': 1.9292046804664966, 'outbrain': 2.542551675312092, 'Other': 1.8117805171928263}\n"
          ]
        },
        {
          "output_type": "stream",
          "name": "stderr",
          "text": [
            "100%|██████████| 5/5 [00:01<00:00,  4.66it/s]\n"
          ]
        },
        {
          "output_type": "stream",
          "name": "stdout",
          "text": [
            "low data for medium: ['organic']\n",
            "medium : \n",
            " {'paid': 2.354758113692935, 'unknown': 1.9587408674615328, 'affiliate': 2.0608159073825, 'Other': 1.6232325994900507}\n"
          ]
        },
        {
          "output_type": "stream",
          "name": "stderr",
          "text": [
            "100%|██████████| 24/24 [00:01<00:00, 13.93it/s]\n"
          ]
        },
        {
          "output_type": "stream",
          "name": "stdout",
          "text": [
            "local_hour : \n",
            " {21: 2.4000460701236004, 20: 2.590191209643624, 19: 1.9831473935675088, 17: 1.9542448796479681, 22: 2.4808776383770077, 10: 2.38339462628023, 12: 2.423904612422643, 5: 2.621195312457456, 23: 2.1813990681266255, 13: 2.0422234159874346, 8: 2.7906801028814656, 9: 2.3479940226938187, 16: 2.261527317182231, 1: 2.4038779820589524, 18: 2.038081031001316, 7: 2.3089120202834357, 6: 2.1585023704594763, 14: 2.1079299844001302, 11: 2.5561443849619137, 3: 2.4103394420370816, 4: 2.638471479297906, 0: 2.2143035013900048, 2: 2.226243759786623, 15: 2.1828279569971656}\n"
          ]
        },
        {
          "output_type": "stream",
          "name": "stderr",
          "text": [
            "100%|██████████| 3/3 [00:00<00:00,  5.82it/s]\n"
          ]
        },
        {
          "output_type": "stream",
          "name": "stdout",
          "text": [
            "weekday : \n",
            " {6: 2.4588401296302576, 5: 2.22571657830815, 4: 2.063967344629032}\n"
          ]
        },
        {
          "output_type": "stream",
          "name": "stderr",
          "text": [
            "100%|██████████| 2/2 [00:00<00:00,  4.46it/s]\n"
          ]
        },
        {
          "output_type": "stream",
          "name": "stdout",
          "text": [
            "is_weekend : \n",
            " {1.0: 2.3344379974727945, 0.0: 2.063967344629032}\n"
          ]
        },
        {
          "output_type": "stream",
          "name": "stderr",
          "text": [
            "100%|██████████| 4/4 [00:00<00:00,  6.81it/s]\n"
          ]
        },
        {
          "output_type": "stream",
          "name": "stdout",
          "text": [
            "part_of_day : \n",
            " {3: 2.281897855991009, 2: 2.162581056031518, 1: 2.4302130677411444, 0: 2.4385687716348357}\n"
          ]
        },
        {
          "output_type": "stream",
          "name": "stderr",
          "text": [
            "100%|██████████| 24/24 [00:01<00:00, 13.94it/s]\n"
          ]
        },
        {
          "output_type": "stream",
          "name": "stdout",
          "text": [
            "utc_hour : \n",
            " {3: 1.7903846970584822, 4: 2.6363261564088294, 1: 1.9208054957582201, 19: 2.468989009838448, 21: 1.93416484583942, 22: 2.6929186038023767, 17: 2.6591893632550065, 14: 2.235872087263479, 11: 2.446603396109749, 2: 1.9068135446270396, 18: 2.2085449629566427, 7: 2.7450654428868253, 13: 2.8805258309824056, 15: 2.2781543205246817, 20: 2.133863385352807, 16: 2.025393956624718, 0: 1.818388802533613, 12: 2.5393566038721596, 10: 3.0257905642568224, 9: 2.7682938648179722, 6: 2.673230895611119, 8: 2.6656184431098295, 5: 2.078844425984284, 23: 1.7128851142427652}\n"
          ]
        }
      ]
    },
    {
      "cell_type": "code",
      "source": [
        "experiment.end()"
      ],
      "metadata": {
        "colab": {
          "base_uri": "https://localhost:8080/"
        },
        "id": "W2_lM-ean7wC",
        "outputId": "8a9ec3b9-5752-4ddc-d685-2828f338ee0d"
      },
      "execution_count": 83,
      "outputs": [
        {
          "output_type": "stream",
          "name": "stderr",
          "text": [
            "\u001b[1;38;5;39mCOMET INFO:\u001b[0m ---------------------------------------------------------------------------------------\n",
            "\u001b[1;38;5;39mCOMET INFO:\u001b[0m Comet.ml Experiment Summary\n",
            "\u001b[1;38;5;39mCOMET INFO:\u001b[0m ---------------------------------------------------------------------------------------\n",
            "\u001b[1;38;5;39mCOMET INFO:\u001b[0m   Data:\n",
            "\u001b[1;38;5;39mCOMET INFO:\u001b[0m     display_summary_level : 1\n",
            "\u001b[1;38;5;39mCOMET INFO:\u001b[0m     url                   : https://www.comet.com/aviad-has/kueez-google-bid-deep/4366d085690c413f802669cbf0a89734\n",
            "\u001b[1;38;5;39mCOMET INFO:\u001b[0m   Metrics [count] (min, max):\n",
            "\u001b[1;38;5;39mCOMET INFO:\u001b[0m     batch_loss [13364]           : (0.1846676468849182, 8.744368553161621)\n",
            "\u001b[1;38;5;39mCOMET INFO:\u001b[0m     concat_test_df_high_facebook : 2.198662887950449\n",
            "\u001b[1;38;5;39mCOMET INFO:\u001b[0m     concat_test_df_high_google   : 2.342582836926656\n",
            "\u001b[1;38;5;39mCOMET INFO:\u001b[0m     concat_test_df_high_outbrain : 2.421667928675591\n",
            "\u001b[1;38;5;39mCOMET INFO:\u001b[0m     concat_test_df_low_facebook  : 0.08013740859866605\n",
            "\u001b[1;38;5;39mCOMET INFO:\u001b[0m     concat_test_df_low_google    : 0.15412892954716523\n",
            "\u001b[1;38;5;39mCOMET INFO:\u001b[0m     concat_test_df_low_outbrain  : 0.1810138563461111\n",
            "\u001b[1;38;5;39mCOMET INFO:\u001b[0m     epoch_duration [4]           : (176.26290304599752, 181.22885038700042)\n",
            "\u001b[1;38;5;39mCOMET INFO:\u001b[0m     high_Browser_android browser : 1.9398216543285292\n",
            "\u001b[1;38;5;39mCOMET INFO:\u001b[0m     high_Browser_chrome          : 2.6018190841072615\n",
            "\u001b[1;38;5;39mCOMET INFO:\u001b[0m     high_Browser_chrome webview  : 1.6049854735891909\n",
            "\u001b[1;38;5;39mCOMET INFO:\u001b[0m     high_Browser_edge            : 2.6043729401643527\n",
            "\u001b[1;38;5;39mCOMET INFO:\u001b[0m     high_Browser_facebook        : 1.9868135319773939\n",
            "\u001b[1;38;5;39mCOMET INFO:\u001b[0m     high_Browser_gsa             : 0.8513103502624113\n",
            "\u001b[1;38;5;39mCOMET INFO:\u001b[0m     high_Browser_mobile safari   : 0.7972389066171378\n",
            "\u001b[1;38;5;39mCOMET INFO:\u001b[0m     high_Browser_safari          : 1.8617555411342093\n",
            "\u001b[1;38;5;39mCOMET INFO:\u001b[0m     high_OS_android              : 2.3412310727432994\n",
            "\u001b[1;38;5;39mCOMET INFO:\u001b[0m     high_OS_chromium os          : 2.090365099250668\n",
            "\u001b[1;38;5;39mCOMET INFO:\u001b[0m     high_OS_ios                  : 1.3817943386707525\n",
            "\u001b[1;38;5;39mCOMET INFO:\u001b[0m     high_OS_mac os               : 2.7634104676147606\n",
            "\u001b[1;38;5;39mCOMET INFO:\u001b[0m     high_OS_windows              : 2.9598880747554794\n",
            "\u001b[1;38;5;39mCOMET INFO:\u001b[0m     high_bf_bidder_adx           : 1.5331305353960623\n",
            "\u001b[1;38;5;39mCOMET INFO:\u001b[0m     high_bf_bidder_ebda          : 7.099310955147582\n",
            "\u001b[1;38;5;39mCOMET INFO:\u001b[0m     high_hb_bidder_0             : 6.058761097857563\n",
            "\u001b[1;38;5;39mCOMET INFO:\u001b[0m     high_hb_bidder_adyoulike     : 1.6395800582983777\n",
            "\u001b[1;38;5;39mCOMET INFO:\u001b[0m     high_hb_bidder_appnexusast   : 1.3075110439001256\n",
            "\u001b[1;38;5;39mCOMET INFO:\u001b[0m     high_hb_bidder_criteo        : 3.600428999154888\n",
            "\u001b[1;38;5;39mCOMET INFO:\u001b[0m     high_hb_bidder_grid          : 2.011501003183679\n",
            "\u001b[1;38;5;39mCOMET INFO:\u001b[0m     high_hb_bidder_ix            : 2.2393963157772414\n",
            "\u001b[1;38;5;39mCOMET INFO:\u001b[0m     high_hb_bidder_kueezrtb      : 1.818494216020456\n",
            "\u001b[1;38;5;39mCOMET INFO:\u001b[0m     high_hb_bidder_medianet      : 1.867080048787175\n",
            "\u001b[1;38;5;39mCOMET INFO:\u001b[0m     high_hb_bidder_minutemedia   : 2.614194592515194\n",
            "\u001b[1;38;5;39mCOMET INFO:\u001b[0m     high_hb_bidder_onetag        : 2.1833499502000713\n",
            "\u001b[1;38;5;39mCOMET INFO:\u001b[0m     high_hb_bidder_openx         : 1.9722527491797055\n",
            "\u001b[1;38;5;39mCOMET INFO:\u001b[0m     high_hb_bidder_pubmatic      : 12.320425603624432\n",
            "\u001b[1;38;5;39mCOMET INFO:\u001b[0m     high_hb_bidder_rubicon       : 1.9965492715246718\n",
            "\u001b[1;38;5;39mCOMET INFO:\u001b[0m     high_hb_bidder_sonobi        : 2.0155727364479983\n",
            "\u001b[1;38;5;39mCOMET INFO:\u001b[0m     high_hb_bidder_sovrn         : 1.4220474809896317\n",
            "\u001b[1;38;5;39mCOMET INFO:\u001b[0m     high_hb_bidder_teads         : 1.241182026544313\n",
            "\u001b[1;38;5;39mCOMET INFO:\u001b[0m     high_hb_bidder_triplelift    : 2.228688097262417\n",
            "\u001b[1;38;5;39mCOMET INFO:\u001b[0m     high_hb_bidder_vidazoo       : 1.9300055355748438\n",
            "\u001b[1;38;5;39mCOMET INFO:\u001b[0m     high_hb_bidder_yahoossp      : 2.2034523156227075\n",
            "\u001b[1;38;5;39mCOMET INFO:\u001b[0m     high_is_weekend_0.0          : 2.063967344629032\n",
            "\u001b[1;38;5;39mCOMET INFO:\u001b[0m     high_is_weekend_1.0          : 2.3344379974727945\n",
            "\u001b[1;38;5;39mCOMET INFO:\u001b[0m     high_local_hour_0            : 2.2143035013900048\n",
            "\u001b[1;38;5;39mCOMET INFO:\u001b[0m     high_local_hour_1            : 2.4038779820589524\n",
            "\u001b[1;38;5;39mCOMET INFO:\u001b[0m     high_local_hour_10           : 2.38339462628023\n",
            "\u001b[1;38;5;39mCOMET INFO:\u001b[0m     high_local_hour_11           : 2.5561443849619137\n",
            "\u001b[1;38;5;39mCOMET INFO:\u001b[0m     high_local_hour_12           : 2.423904612422643\n",
            "\u001b[1;38;5;39mCOMET INFO:\u001b[0m     high_local_hour_13           : 2.0422234159874346\n",
            "\u001b[1;38;5;39mCOMET INFO:\u001b[0m     high_local_hour_14           : 2.1079299844001302\n",
            "\u001b[1;38;5;39mCOMET INFO:\u001b[0m     high_local_hour_15           : 2.1828279569971656\n",
            "\u001b[1;38;5;39mCOMET INFO:\u001b[0m     high_local_hour_16           : 2.261527317182231\n",
            "\u001b[1;38;5;39mCOMET INFO:\u001b[0m     high_local_hour_17           : 1.9542448796479681\n",
            "\u001b[1;38;5;39mCOMET INFO:\u001b[0m     high_local_hour_18           : 2.038081031001316\n",
            "\u001b[1;38;5;39mCOMET INFO:\u001b[0m     high_local_hour_19           : 1.9831473935675088\n",
            "\u001b[1;38;5;39mCOMET INFO:\u001b[0m     high_local_hour_2            : 2.226243759786623\n",
            "\u001b[1;38;5;39mCOMET INFO:\u001b[0m     high_local_hour_20           : 2.590191209643624\n",
            "\u001b[1;38;5;39mCOMET INFO:\u001b[0m     high_local_hour_21           : 2.4000460701236004\n",
            "\u001b[1;38;5;39mCOMET INFO:\u001b[0m     high_local_hour_22           : 2.4808776383770077\n",
            "\u001b[1;38;5;39mCOMET INFO:\u001b[0m     high_local_hour_23           : 2.1813990681266255\n",
            "\u001b[1;38;5;39mCOMET INFO:\u001b[0m     high_local_hour_3            : 2.4103394420370816\n",
            "\u001b[1;38;5;39mCOMET INFO:\u001b[0m     high_local_hour_4            : 2.638471479297906\n",
            "\u001b[1;38;5;39mCOMET INFO:\u001b[0m     high_local_hour_5            : 2.621195312457456\n",
            "\u001b[1;38;5;39mCOMET INFO:\u001b[0m     high_local_hour_6            : 2.1585023704594763\n",
            "\u001b[1;38;5;39mCOMET INFO:\u001b[0m     high_local_hour_7            : 2.3089120202834357\n",
            "\u001b[1;38;5;39mCOMET INFO:\u001b[0m     high_local_hour_8            : 2.7906801028814656\n",
            "\u001b[1;38;5;39mCOMET INFO:\u001b[0m     high_local_hour_9            : 2.3479940226938187\n",
            "\u001b[1;38;5;39mCOMET INFO:\u001b[0m     high_medium_Other            : 1.6232325994900507\n",
            "\u001b[1;38;5;39mCOMET INFO:\u001b[0m     high_medium_affiliate        : 2.0608159073825\n",
            "\u001b[1;38;5;39mCOMET INFO:\u001b[0m     high_medium_paid             : 2.354758113692935\n",
            "\u001b[1;38;5;39mCOMET INFO:\u001b[0m     high_medium_unknown          : 1.9587408674615328\n",
            "\u001b[1;38;5;39mCOMET INFO:\u001b[0m     high_part_of_day_0           : 2.4385687716348357\n",
            "\u001b[1;38;5;39mCOMET INFO:\u001b[0m     high_part_of_day_1           : 2.4302130677411444\n",
            "\u001b[1;38;5;39mCOMET INFO:\u001b[0m     high_part_of_day_2           : 2.162581056031518\n",
            "\u001b[1;38;5;39mCOMET INFO:\u001b[0m     high_part_of_day_3           : 2.281897855991009\n",
            "\u001b[1;38;5;39mCOMET INFO:\u001b[0m     high_platform_0              : 2.634778553947395\n",
            "\u001b[1;38;5;39mCOMET INFO:\u001b[0m     high_platform_mobile         : 2.2145927632369773\n",
            "\u001b[1;38;5;39mCOMET INFO:\u001b[0m     high_platform_tablet         : 2.8044840220128044\n",
            "\u001b[1;38;5;39mCOMET INFO:\u001b[0m     high_source_Other            : 1.8117805171928263\n",
            "\u001b[1;38;5;39mCOMET INFO:\u001b[0m     high_source_facebook         : 2.198662887950449\n",
            "\u001b[1;38;5;39mCOMET INFO:\u001b[0m     high_source_google           : 2.342582836926656\n",
            "\u001b[1;38;5;39mCOMET INFO:\u001b[0m     high_source_outbrain         : 2.542551675312092\n",
            "\u001b[1;38;5;39mCOMET INFO:\u001b[0m     high_source_pinterest        : 1.9292046804664966\n",
            "\u001b[1;38;5;39mCOMET INFO:\u001b[0m     high_utc_hour_0              : 1.818388802533613\n",
            "\u001b[1;38;5;39mCOMET INFO:\u001b[0m     high_utc_hour_1              : 1.9208054957582201\n",
            "\u001b[1;38;5;39mCOMET INFO:\u001b[0m     high_utc_hour_10             : 3.0257905642568224\n",
            "\u001b[1;38;5;39mCOMET INFO:\u001b[0m     high_utc_hour_11             : 2.446603396109749\n",
            "\u001b[1;38;5;39mCOMET INFO:\u001b[0m     high_utc_hour_12             : 2.5393566038721596\n",
            "\u001b[1;38;5;39mCOMET INFO:\u001b[0m     high_utc_hour_13             : 2.8805258309824056\n",
            "\u001b[1;38;5;39mCOMET INFO:\u001b[0m     high_utc_hour_14             : 2.235872087263479\n",
            "\u001b[1;38;5;39mCOMET INFO:\u001b[0m     high_utc_hour_15             : 2.2781543205246817\n",
            "\u001b[1;38;5;39mCOMET INFO:\u001b[0m     high_utc_hour_16             : 2.025393956624718\n",
            "\u001b[1;38;5;39mCOMET INFO:\u001b[0m     high_utc_hour_17             : 2.6591893632550065\n",
            "\u001b[1;38;5;39mCOMET INFO:\u001b[0m     high_utc_hour_18             : 2.2085449629566427\n",
            "\u001b[1;38;5;39mCOMET INFO:\u001b[0m     high_utc_hour_19             : 2.468989009838448\n",
            "\u001b[1;38;5;39mCOMET INFO:\u001b[0m     high_utc_hour_2              : 1.9068135446270396\n",
            "\u001b[1;38;5;39mCOMET INFO:\u001b[0m     high_utc_hour_20             : 2.133863385352807\n",
            "\u001b[1;38;5;39mCOMET INFO:\u001b[0m     high_utc_hour_21             : 1.93416484583942\n",
            "\u001b[1;38;5;39mCOMET INFO:\u001b[0m     high_utc_hour_22             : 2.6929186038023767\n",
            "\u001b[1;38;5;39mCOMET INFO:\u001b[0m     high_utc_hour_23             : 1.7128851142427652\n",
            "\u001b[1;38;5;39mCOMET INFO:\u001b[0m     high_utc_hour_3              : 1.7903846970584822\n",
            "\u001b[1;38;5;39mCOMET INFO:\u001b[0m     high_utc_hour_4              : 2.6363261564088294\n",
            "\u001b[1;38;5;39mCOMET INFO:\u001b[0m     high_utc_hour_5              : 2.078844425984284\n",
            "\u001b[1;38;5;39mCOMET INFO:\u001b[0m     high_utc_hour_6              : 2.673230895611119\n",
            "\u001b[1;38;5;39mCOMET INFO:\u001b[0m     high_utc_hour_7              : 2.7450654428868253\n",
            "\u001b[1;38;5;39mCOMET INFO:\u001b[0m     high_utc_hour_8              : 2.6656184431098295\n",
            "\u001b[1;38;5;39mCOMET INFO:\u001b[0m     high_utc_hour_9              : 2.7682938648179722\n",
            "\u001b[1;38;5;39mCOMET INFO:\u001b[0m     high_weekday_4               : 2.063967344629032\n",
            "\u001b[1;38;5;39mCOMET INFO:\u001b[0m     high_weekday_5               : 2.22571657830815\n",
            "\u001b[1;38;5;39mCOMET INFO:\u001b[0m     high_weekday_6               : 2.4588401296302576\n",
            "\u001b[1;38;5;39mCOMET INFO:\u001b[0m     loss [4]                     : (0.36130475997924805, 0.6690804362297058)\n",
            "\u001b[1;38;5;39mCOMET INFO:\u001b[0m     low_Browser_chrome           : 0.19418999851606358\n",
            "\u001b[1;38;5;39mCOMET INFO:\u001b[0m     low_Browser_edge             : 0.20039092909581654\n",
            "\u001b[1;38;5;39mCOMET INFO:\u001b[0m     low_Browser_facebook         : 0.07755973669197677\n",
            "\u001b[1;38;5;39mCOMET INFO:\u001b[0m     low_Browser_gsa              : 0.08774701169250489\n",
            "\u001b[1;38;5;39mCOMET INFO:\u001b[0m     low_Browser_instagram        : 0.24666943201590258\n",
            "\u001b[1;38;5;39mCOMET INFO:\u001b[0m     low_Browser_mobile safari    : 0.14876024655984282\n",
            "\u001b[1;38;5;39mCOMET INFO:\u001b[0m     low_Browser_safari           : 0.12023946347487849\n",
            "\u001b[1;38;5;39mCOMET INFO:\u001b[0m     low_Browser_samsung browser  : 0.10947671466358927\n",
            "\u001b[1;38;5;39mCOMET INFO:\u001b[0m     low_Browser_webkit           : 0.03824645290090686\n",
            "\u001b[1;38;5;39mCOMET INFO:\u001b[0m     low_OS_android               : 0.15969904569392354\n",
            "\u001b[1;38;5;39mCOMET INFO:\u001b[0m     low_OS_ios                   : 0.08476173881418908\n",
            "\u001b[1;38;5;39mCOMET INFO:\u001b[0m     low_OS_mac os                : 0.10433574150881966\n",
            "\u001b[1;38;5;39mCOMET INFO:\u001b[0m     low_OS_windows               : 0.18702888203385173\n",
            "\u001b[1;38;5;39mCOMET INFO:\u001b[0m     low_bf_bidder_adx            : 0.11199307157667239\n",
            "\u001b[1;38;5;39mCOMET INFO:\u001b[0m     low_bf_bidder_ebda           : 0.36156245157436206\n",
            "\u001b[1;38;5;39mCOMET INFO:\u001b[0m     low_hb_bidder_0              : 0.23284381292522982\n",
            "\u001b[1;38;5;39mCOMET INFO:\u001b[0m     low_hb_bidder_adyoulike      : 0.16203053978610468\n",
            "\u001b[1;38;5;39mCOMET INFO:\u001b[0m     low_hb_bidder_appnexusast    : 0.11396020279805084\n",
            "\u001b[1;38;5;39mCOMET INFO:\u001b[0m     low_hb_bidder_criteo         : 0.1775869726895171\n",
            "\u001b[1;38;5;39mCOMET INFO:\u001b[0m     low_hb_bidder_grid           : 0.07627139392900752\n",
            "\u001b[1;38;5;39mCOMET INFO:\u001b[0m     low_hb_bidder_improvedigital : 0.049057715160967644\n",
            "\u001b[1;38;5;39mCOMET INFO:\u001b[0m     low_hb_bidder_ix             : 0.1209310824795881\n",
            "\u001b[1;38;5;39mCOMET INFO:\u001b[0m     low_hb_bidder_kueezrtb       : 0.12423964491755633\n",
            "\u001b[1;38;5;39mCOMET INFO:\u001b[0m     low_hb_bidder_medianet       : 0.17436222135166182\n",
            "\u001b[1;38;5;39mCOMET INFO:\u001b[0m     low_hb_bidder_minutemedia    : 0.32315022584934094\n",
            "\u001b[1;38;5;39mCOMET INFO:\u001b[0m     low_hb_bidder_openx          : 0.10327556961401277\n",
            "\u001b[1;38;5;39mCOMET INFO:\u001b[0m     low_hb_bidder_pubmatic       : 0.11136260579193269\n",
            "\u001b[1;38;5;39mCOMET INFO:\u001b[0m     low_hb_bidder_rubicon        : 0.1084561479962717\n",
            "\u001b[1;38;5;39mCOMET INFO:\u001b[0m     low_hb_bidder_sovrn          : 0.0931109362561117\n",
            "\u001b[1;38;5;39mCOMET INFO:\u001b[0m     low_hb_bidder_teads          : 0.08621078152007072\n",
            "\u001b[1;38;5;39mCOMET INFO:\u001b[0m     low_hb_bidder_triplelift     : 0.1160220270988074\n",
            "\u001b[1;38;5;39mCOMET INFO:\u001b[0m     low_hb_bidder_vidazoo        : 0.13160136968479855\n",
            "\u001b[1;38;5;39mCOMET INFO:\u001b[0m     low_hb_bidder_yahoossp       : 0.1441692829077698\n",
            "\u001b[1;38;5;39mCOMET INFO:\u001b[0m     low_is_weekend_0.0           : 0.1449024075298187\n",
            "\u001b[1;38;5;39mCOMET INFO:\u001b[0m     low_is_weekend_1.0           : 0.13641728811783438\n",
            "\u001b[1;38;5;39mCOMET INFO:\u001b[0m     low_local_hour_0             : 0.15437816454127087\n",
            "\u001b[1;38;5;39mCOMET INFO:\u001b[0m     low_local_hour_1             : 0.09577154482430326\n",
            "\u001b[1;38;5;39mCOMET INFO:\u001b[0m     low_local_hour_10            : 0.20036469598377915\n",
            "\u001b[1;38;5;39mCOMET INFO:\u001b[0m     low_local_hour_11            : 0.13130642245946195\n",
            "\u001b[1;38;5;39mCOMET INFO:\u001b[0m     low_local_hour_12            : 0.12826824400714112\n",
            "\u001b[1;38;5;39mCOMET INFO:\u001b[0m     low_local_hour_13            : 0.14957556591137602\n",
            "\u001b[1;38;5;39mCOMET INFO:\u001b[0m     low_local_hour_14            : 0.11818367186393827\n",
            "\u001b[1;38;5;39mCOMET INFO:\u001b[0m     low_local_hour_15            : 0.14010828987125304\n",
            "\u001b[1;38;5;39mCOMET INFO:\u001b[0m     low_local_hour_16            : 0.11827815276014972\n",
            "\u001b[1;38;5;39mCOMET INFO:\u001b[0m     low_local_hour_17            : 0.14575828014307135\n",
            "\u001b[1;38;5;39mCOMET INFO:\u001b[0m     low_local_hour_18            : 0.10806298106432852\n",
            "\u001b[1;38;5;39mCOMET INFO:\u001b[0m     low_local_hour_19            : 0.13527503901801483\n",
            "\u001b[1;38;5;39mCOMET INFO:\u001b[0m     low_local_hour_2             : 0.10823141252768587\n",
            "\u001b[1;38;5;39mCOMET INFO:\u001b[0m     low_local_hour_20            : 0.12286297609481943\n",
            "\u001b[1;38;5;39mCOMET INFO:\u001b[0m     low_local_hour_21            : 0.1069600927830517\n",
            "\u001b[1;38;5;39mCOMET INFO:\u001b[0m     low_local_hour_22            : 0.11731839683602294\n",
            "\u001b[1;38;5;39mCOMET INFO:\u001b[0m     low_local_hour_23            : 0.15149218618401974\n",
            "\u001b[1;38;5;39mCOMET INFO:\u001b[0m     low_local_hour_3             : 0.14031873462550673\n",
            "\u001b[1;38;5;39mCOMET INFO:\u001b[0m     low_local_hour_4             : 0.15579953388550447\n",
            "\u001b[1;38;5;39mCOMET INFO:\u001b[0m     low_local_hour_5             : 0.16153278363788995\n",
            "\u001b[1;38;5;39mCOMET INFO:\u001b[0m     low_local_hour_6             : 0.14365330446931168\n",
            "\u001b[1;38;5;39mCOMET INFO:\u001b[0m     low_local_hour_7             : 0.14810677677297687\n",
            "\u001b[1;38;5;39mCOMET INFO:\u001b[0m     low_local_hour_8             : 0.17029101103342587\n",
            "\u001b[1;38;5;39mCOMET INFO:\u001b[0m     low_local_hour_9             : 0.12202964127912572\n",
            "\u001b[1;38;5;39mCOMET INFO:\u001b[0m     low_medium_Other             : 0.1564892579621872\n",
            "\u001b[1;38;5;39mCOMET INFO:\u001b[0m     low_medium_affiliate         : 0.07756900246325939\n",
            "\u001b[1;38;5;39mCOMET INFO:\u001b[0m     low_medium_organic           : 0.11188144242684205\n",
            "\u001b[1;38;5;39mCOMET INFO:\u001b[0m     low_medium_paid              : 0.13972995453774367\n",
            "\u001b[1;38;5;39mCOMET INFO:\u001b[0m     low_medium_unknown           : 0.20276839840919542\n",
            "\u001b[1;38;5;39mCOMET INFO:\u001b[0m     low_part_of_day_0            : 0.13660315448670257\n",
            "\u001b[1;38;5;39mCOMET INFO:\u001b[0m     low_part_of_day_1            : 0.15313581137173718\n",
            "\u001b[1;38;5;39mCOMET INFO:\u001b[0m     low_part_of_day_2            : 0.13327854940062892\n",
            "\u001b[1;38;5;39mCOMET INFO:\u001b[0m     low_part_of_day_3            : 0.12280572903579055\n",
            "\u001b[1;38;5;39mCOMET INFO:\u001b[0m     low_platform_0               : 0.1559844220977965\n",
            "\u001b[1;38;5;39mCOMET INFO:\u001b[0m     low_platform_mobile          : 0.13473374830685397\n",
            "\u001b[1;38;5;39mCOMET INFO:\u001b[0m     low_platform_tablet          : 0.11172311768182419\n",
            "\u001b[1;38;5;39mCOMET INFO:\u001b[0m     low_source_Other             : 0.21285988792797306\n",
            "\u001b[1;38;5;39mCOMET INFO:\u001b[0m     low_source_facebook          : 0.08013740859866605\n",
            "\u001b[1;38;5;39mCOMET INFO:\u001b[0m     low_source_google            : 0.15412892954716523\n",
            "\u001b[1;38;5;39mCOMET INFO:\u001b[0m     low_source_outbrain          : 0.24759819255057797\n",
            "\u001b[1;38;5;39mCOMET INFO:\u001b[0m     low_source_pinterest         : 0.07816105903967889\n",
            "\u001b[1;38;5;39mCOMET INFO:\u001b[0m     low_utc_hour_0               : 0.1716745483308669\n",
            "\u001b[1;38;5;39mCOMET INFO:\u001b[0m     low_utc_hour_1               : 0.1444791361558675\n",
            "\u001b[1;38;5;39mCOMET INFO:\u001b[0m     low_utc_hour_10              : 0.109321057439053\n",
            "\u001b[1;38;5;39mCOMET INFO:\u001b[0m     low_utc_hour_11              : 0.16004708479962826\n",
            "\u001b[1;38;5;39mCOMET INFO:\u001b[0m     low_utc_hour_12              : 0.13707796188319032\n",
            "\u001b[1;38;5;39mCOMET INFO:\u001b[0m     low_utc_hour_13              : 0.11388339477002955\n",
            "\u001b[1;38;5;39mCOMET INFO:\u001b[0m     low_utc_hour_14              : 0.11127603544473898\n",
            "\u001b[1;38;5;39mCOMET INFO:\u001b[0m     low_utc_hour_15              : 0.15208455138933685\n",
            "\u001b[1;38;5;39mCOMET INFO:\u001b[0m     low_utc_hour_16              : 0.10880632852684398\n",
            "\u001b[1;38;5;39mCOMET INFO:\u001b[0m     low_utc_hour_17              : 0.11545063876843331\n",
            "\u001b[1;38;5;39mCOMET INFO:\u001b[0m     low_utc_hour_18              : 0.1297066037867577\n",
            "\u001b[1;38;5;39mCOMET INFO:\u001b[0m     low_utc_hour_19              : 0.1115890255786182\n",
            "\u001b[1;38;5;39mCOMET INFO:\u001b[0m     low_utc_hour_2               : 0.17098719833659165\n",
            "\u001b[1;38;5;39mCOMET INFO:\u001b[0m     low_utc_hour_20              : 0.10639392500159504\n",
            "\u001b[1;38;5;39mCOMET INFO:\u001b[0m     low_utc_hour_21              : 0.12414334183118758\n",
            "\u001b[1;38;5;39mCOMET INFO:\u001b[0m     low_utc_hour_22              : 0.13339503258201832\n",
            "\u001b[1;38;5;39mCOMET INFO:\u001b[0m     low_utc_hour_23              : 0.15469304502138811\n",
            "\u001b[1;38;5;39mCOMET INFO:\u001b[0m     low_utc_hour_3               : 0.1074191130489169\n",
            "\u001b[1;38;5;39mCOMET INFO:\u001b[0m     low_utc_hour_4               : 0.1511707812410844\n",
            "\u001b[1;38;5;39mCOMET INFO:\u001b[0m     low_utc_hour_5               : 0.1374576715229868\n",
            "\u001b[1;38;5;39mCOMET INFO:\u001b[0m     low_utc_hour_6               : 0.2246302432778465\n",
            "\u001b[1;38;5;39mCOMET INFO:\u001b[0m     low_utc_hour_7               : 0.13417113134979292\n",
            "\u001b[1;38;5;39mCOMET INFO:\u001b[0m     low_utc_hour_8               : 0.15088248628822257\n",
            "\u001b[1;38;5;39mCOMET INFO:\u001b[0m     low_utc_hour_9               : 0.16977228693701152\n",
            "\u001b[1;38;5;39mCOMET INFO:\u001b[0m     low_weekday_4                : 0.1449024075298187\n",
            "\u001b[1;38;5;39mCOMET INFO:\u001b[0m     low_weekday_5                : 0.13207051055147198\n",
            "\u001b[1;38;5;39mCOMET INFO:\u001b[0m     low_weekday_6                : 0.1407598975571854\n",
            "\u001b[1;38;5;39mCOMET INFO:\u001b[0m     mse before inverse_transform : 0.3121153112607021\n",
            "\u001b[1;38;5;39mCOMET INFO:\u001b[0m   Others:\n",
            "\u001b[1;38;5;39mCOMET INFO:\u001b[0m     trainable_params : 14288\n",
            "\u001b[1;38;5;39mCOMET INFO:\u001b[0m   Parameters:\n",
            "\u001b[1;38;5;39mCOMET INFO:\u001b[0m     Adam_amsgrad                 : False\n",
            "\u001b[1;38;5;39mCOMET INFO:\u001b[0m     Adam_beta_1                  : 0.9\n",
            "\u001b[1;38;5;39mCOMET INFO:\u001b[0m     Adam_beta_2                  : 0.999\n",
            "\u001b[1;38;5;39mCOMET INFO:\u001b[0m     Adam_clipnorm                : 1\n",
            "\u001b[1;38;5;39mCOMET INFO:\u001b[0m     Adam_clipvalue               : 1\n",
            "\u001b[1;38;5;39mCOMET INFO:\u001b[0m     Adam_ema_momentum            : 0.99\n",
            "\u001b[1;38;5;39mCOMET INFO:\u001b[0m     Adam_ema_overwrite_frequency : 1\n",
            "\u001b[1;38;5;39mCOMET INFO:\u001b[0m     Adam_epsilon                 : 1e-07\n",
            "\u001b[1;38;5;39mCOMET INFO:\u001b[0m     Adam_global_clipnorm         : 1\n",
            "\u001b[1;38;5;39mCOMET INFO:\u001b[0m     Adam_is_legacy_optimizer     : False\n",
            "\u001b[1;38;5;39mCOMET INFO:\u001b[0m     Adam_jit_compile             : False\n",
            "\u001b[1;38;5;39mCOMET INFO:\u001b[0m     Adam_learning_rate           : 9.999999747378752e-05\n",
            "\u001b[1;38;5;39mCOMET INFO:\u001b[0m     Adam_name                    : Adam\n",
            "\u001b[1;38;5;39mCOMET INFO:\u001b[0m     Adam_use_ema                 : False\n",
            "\u001b[1;38;5;39mCOMET INFO:\u001b[0m     Adam_weight_decay            : 1\n",
            "\u001b[1;38;5;39mCOMET INFO:\u001b[0m     categorical_encoder          : LabelEncoder()\n",
            "\u001b[1;38;5;39mCOMET INFO:\u001b[0m     copy                         : True\n",
            "\u001b[1;38;5;39mCOMET INFO:\u001b[0m     data.shape                   : (2693441, 16)\n",
            "\u001b[1;38;5;39mCOMET INFO:\u001b[0m     epochs                       : 4\n",
            "\u001b[1;38;5;39mCOMET INFO:\u001b[0m     higher_bid_is_outlier        : 20\n",
            "\u001b[1;38;5;39mCOMET INFO:\u001b[0m     learning_rate                : 0.0001\n",
            "\u001b[1;38;5;39mCOMET INFO:\u001b[0m     model                        : None\n",
            "\u001b[1;38;5;39mCOMET INFO:\u001b[0m     scaler                       : StandardScaler()\n",
            "\u001b[1;38;5;39mCOMET INFO:\u001b[0m     scaler_y                     : StandardScaler()\n",
            "\u001b[1;38;5;39mCOMET INFO:\u001b[0m     seed                         : 422\n",
            "\u001b[1;38;5;39mCOMET INFO:\u001b[0m     steps                        : 33407\n",
            "\u001b[1;38;5;39mCOMET INFO:\u001b[0m     target_column                : bid_sc\n",
            "\u001b[1;38;5;39mCOMET INFO:\u001b[0m     train_columns                : ['Browser', 'CountryCode', 'State', 'OS', 'RefererURL', 'source', 'platform', 'medium', 'hb_bidder', 'bf_bidder', 'weekday', 'is_weekend', 'part_of_day', 'utc_hour', 'local_hour', 'SessionDepth_sc', 'pb_bid_sc', 'amzn_bid_sc', 'max_2nd_bid_sc']\n",
            "\u001b[1;38;5;39mCOMET INFO:\u001b[0m     with_mean                    : True\n",
            "\u001b[1;38;5;39mCOMET INFO:\u001b[0m     with_std                     : True\n",
            "\u001b[1;38;5;39mCOMET INFO:\u001b[0m   Uploads:\n",
            "\u001b[1;38;5;39mCOMET INFO:\u001b[0m     environment details : 1\n",
            "\u001b[1;38;5;39mCOMET INFO:\u001b[0m     filename            : 1\n",
            "\u001b[1;38;5;39mCOMET INFO:\u001b[0m     installed packages  : 1\n",
            "\u001b[1;38;5;39mCOMET INFO:\u001b[0m     model graph         : 1\n",
            "\u001b[1;38;5;39mCOMET INFO:\u001b[0m     notebook            : 2\n",
            "\u001b[1;38;5;39mCOMET INFO:\u001b[0m     os packages         : 1\n",
            "\u001b[1;38;5;39mCOMET INFO:\u001b[0m     source_code         : 1\n",
            "\u001b[1;38;5;39mCOMET INFO:\u001b[0m \n",
            "\u001b[1;38;5;39mCOMET INFO:\u001b[0m Please wait for metadata to finish uploading (timeout is 3600 seconds)\n"
          ]
        }
      ]
    }
  ]
}